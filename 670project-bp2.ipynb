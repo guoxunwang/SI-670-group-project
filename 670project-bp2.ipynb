{
 "cells": [
  {
   "cell_type": "markdown",
   "metadata": {},
   "source": [
    "## Data Preprocessing"
   ]
  },
  {
   "cell_type": "code",
   "execution_count": 1,
   "metadata": {},
   "outputs": [],
   "source": [
    "import pandas as pd\n",
    "import numpy as np\n",
    "from functools import reduce\n",
    "import warnings\n",
    "warnings.filterwarnings(\"ignore\")"
   ]
  },
  {
   "cell_type": "code",
   "execution_count": 2,
   "metadata": {},
   "outputs": [],
   "source": [
    "# Demo\n",
    "demo = pd.read_sas(\"DEMO_I.XPT\")\n",
    "demo = demo[[\"SEQN\",\"RIAGENDR\",\"RIDAGEYR\",\"RIDRETH3\",\"DMDEDUC2\",\"DMDMARTL\",\"RIDEXPRG\",\"INDHHIN2\",\"INDFMIN2\",\"INDFMPIR\"]]\n",
    "\n",
    "# Examination\n",
    "bpx = pd.read_sas(\"BPX_I.XPT\")\n",
    "bpx = bpx[[\"SEQN\",\"BPXPLS\",\"BPXSY1\",\"BPXDI1\",\"BPXSY2\",\"BPXDI2\",\"BPXSY3\",\"BPXDI3\",\"BPXSY4\",\"BPXDI4\"]]\n",
    "bmx = pd.read_sas(\"BMX_I.XPT\")\n",
    "bmx = bmx[[\"SEQN\",\"BMXWT\",\"BMXHT\",\"BMXBMI\",\"BMXLEG\",\"BMXARML\",\"BMXARMC\",\"BMXWAIST\",\"BMDAVSAD\"]]\n",
    "\n",
    "# Laboratory\n",
    "ghb = pd.read_sas(\"GHB_I.XPT\")#糖化血红蛋白\n",
    "hdl = pd.read_sas(\"HDL_I.XPT\") #血脂\n",
    "hdl = hdl[[\"SEQN\",\"LBDHDD\"]] \n",
    "tchol = pd.read_sas(\"TCHOL_I.XPT\") #脂蛋白\n",
    "tchol = tchol[[\"SEQN\",\"LBXTC\"]]\n",
    "cbc = pd.read_sas(\"CBC_I.XPT\") #血常规\n",
    "cbc = cbc[[\"SEQN\",\"LBXWBCSI\", \"LBXLYPCT\", \"LBXMOPCT\", \"LBXNEPCT\",\"LBXEOPCT\", \"LBXBAPCT\", \"LBXRBCSI\", \"LBXHGB\",\n",
    "           \"LBXHCT\", \"LBXMCVSI\", \"LBXMCHSI\", \"LBXRDW\", \"LBXPLTSI\", \"LBXMPSI\"]]\n",
    "fast = pd.read_sas(\"FASTQX_I.XPT\") #空腹问卷\n",
    "fast = fast[[\"SEQN\",\"PHQ020\",\"PHQ030\",\"PHQ040\",\"PHQ050\",\"PHQ060\",\"PHAFSTHR\"]]\n",
    "folate = pd.read_sas(\"FOLATE_I.XPT\") #叶酸\n",
    "folate = folate[[\"SEQN\",\"LBDRFO\"]]\n",
    "pro = pd.read_sas(\"BIOPRO_I.XPT\") #标准生物文档\n",
    "pro = pro[[\"SEQN\",\"LBXSAL\",\"LBXSAPSI\",\"LBXSASSI\", \"LBXSATSI\", \"LBXSBU\", \"LBXSC3SI\", \"LBXSCA\",\n",
    "           \"LBXSCH\",\"LBXSCK\",\"LBXSCLSI\",\"LBXSCR\",\"LBXSGB\", \"LBXSGL\", \"LBXSGTSI\", \"LBXSIR\", \n",
    "           \"LBXSKSI\",\"LBXSLDSI\", \"LBXSNASI\", \"LBXSOSSI\", \"LBXSPH\", \"LBXSTB\", \"LBXSTP\",\"LBXSTR\",\"LBXSUA\"]]\n",
    "\n",
    "# Questionaire\n",
    "alq = pd.read_sas(\"ALQ_I.XPT\") #酒\n",
    "alq = alq[[\"SEQN\",\"ALQ101\"]] #\"ALQ120Q\",\"ALQ151\"\n",
    "bpq = pd.read_sas(\"BPQ_I.XPT\") #高血压胆固醇病史\n",
    "bpq = bpq[[\"SEQN\",\"BPQ020\",\"BPQ080\"]]#\"BPQ090D\"\n",
    "hsq = pd.read_sas(\"HSQ_I.XPT\") #自我测评\n",
    "hsq = hsq[[\"SEQN\",\"HSD010\",\"HSQ500\",\"HSQ510\"]]\n",
    "diq = pd.read_sas(\"DIQ_I.XPT\") #糖尿病\n",
    "diq = diq[[\"SEQN\",\"DIQ010\",\"DIQ050\"]]\n",
    "mcq = pd.read_sas(\"MCQ_I.XPT\") #医疗条件，病史\n",
    "mcq = mcq[[\"SEQN\",\"MCQ010\",\"MCQ080\",\"MCQ092\",\"MCQ160B\",\"MCQ160C\",\"MCQ160D\",\"MCQ160E\",\"MCQ160F\",\"MCQ160M\",\n",
    "           \"MCQ300A\",\"MCQ300B\",\"MCQ300C\",\"MCQ365A\",\"MCQ365B\",\"MCQ365C\",\"MCQ365D\"]]\n",
    "dpq = pd.read_sas(\"DPQ_I.XPT\") #精神健康\n",
    "dpq = dpq.drop(columns=[\"DPQ100\"]) \n",
    "paq = pd.read_sas(\"PAQ_I.XPT\") #体育运动\n",
    "paq = paq[[\"SEQN\",\"PAQ605\",\"PAQ620\",\"PAQ635\",\"PAQ650\",\"PAQ665\",\"PAD680\"]]\n",
    "smq = pd.read_sas(\"SMQ_I.XPT\") #吸烟\n",
    "smq = smq[[\"SEQN\",\"SMQ020\"]]\n",
    "\n",
    "df = pd.merge(demo,bpx)\n",
    "data_frames = [df,bmx,ghb,hdl,tchol,cbc,fast,folate,pro,alq,bpq,hsq,diq,mcq,dpq,paq,smq] #ins,cdq,\n",
    "df = reduce(lambda left,right: pd.merge(left,right,how=\"inner\"), data_frames)\n",
    "\n",
    "df = df.loc[df.RIDAGEYR>=20,]\n",
    "df = df.loc[df.RIDEXPRG!=70,]\n",
    "df[\"avg_systolic_bp\"] = df[[\"BPXSY1\",\"BPXSY2\",\"BPXSY3\",\"BPXSY4\"]].mean(axis=1)\n",
    "df[\"avg_diastolic_bp\"] = df[[\"BPXDI1\",\"BPXDI2\",\"BPXDI3\",\"BPXDI4\"]].mean(axis=1)\n",
    "df = df[pd.notnull(df[\"avg_systolic_bp\"])]\n",
    "df = df[pd.notnull(df[\"avg_diastolic_bp\"])]\n",
    "#df[\"label\"] = 1*((df[\"avg_systolic_bp\"]>=130) | (df[\"avg_diastolic_bp\"]>=85))\n",
    "df[\"label\"] = 1*((df[\"avg_systolic_bp\"]>=140) | (df[\"avg_diastolic_bp\"]>=90)|\n",
    "                ((df[\"BPXSY1\"]>=160)&(df[\"BPXDI1\"]>=100))|((df[\"BPXSY2\"]>=160)&(df[\"BPXDI2\"]>=100))|\n",
    "                ((df[\"BPXSY3\"]>=160)&(df[\"BPXDI3\"]>=100))|((df[\"BPXSY4\"]>=160)&(df[\"BPXDI4\"]>=100)))\n",
    "df = df.drop(columns=[\"SEQN\",\"RIDEXPRG\",\"BPXSY1\",\"BPXDI1\",\"BPXSY2\",\"BPXDI2\",\"BPXSY3\",\n",
    "                      \"BPXDI3\",\"BPXSY4\",\"BPXDI4\",\"avg_systolic_bp\",\"avg_diastolic_bp\"])"
   ]
  },
  {
   "cell_type": "code",
   "execution_count": 3,
   "metadata": {},
   "outputs": [
    {
     "name": "stdout",
     "output_type": "stream",
     "text": [
      "<class 'pandas.core.frame.DataFrame'>\n",
      "Int64Index: 3498 entries, 0 to 5734\n",
      "Columns: 106 entries, RIAGENDR to label\n",
      "dtypes: float64(57), int32(1), object(48)\n",
      "memory usage: 2.8+ MB\n"
     ]
    }
   ],
   "source": [
    "cat=['RIAGENDR','RIDRETH3','PHQ020', 'PHQ030','PHQ040', 'PHQ050', 'PHQ060']\n",
    "cat79=['DMDEDUC2', 'DMDMARTL','ALQ101','BPQ020','BPQ080','HSD010', 'HSQ500', 'HSQ510',\n",
    "       'DIQ010', 'DIQ050','MCQ010', 'MCQ080', 'MCQ092', 'MCQ160B', 'MCQ160C', 'MCQ160D','MCQ160E', 'MCQ160F', \n",
    "       'MCQ160M','MCQ300A', 'MCQ300B', 'MCQ300C','MCQ365A', 'MCQ365B', 'MCQ365C', 'MCQ365D','DPQ010', 'DPQ020',\n",
    "       'DPQ030', 'DPQ040', 'DPQ050', 'DPQ060', 'DPQ070', 'DPQ080', 'DPQ090', 'PAQ605', 'PAQ620', 'PAQ635', \n",
    "       'PAQ650', 'PAQ665','SMQ020']\n",
    "df.INDHHIN2 = df.INDHHIN2.replace([77,99], np.nan)\n",
    "df.INDFMIN2 = df.INDFMIN2.replace([77,99], np.nan)\n",
    "df.PAD680 = df.PAD680.replace([7777,9999], np.nan)\n",
    "for name in cat79: \n",
    "    df[name]=df[name].map(lambda x: x if x<7 else np.nan)\n",
    "for name in cat+cat79:\n",
    "    df[name]=df[name].astype(\"object\")\n",
    "df=df.dropna()\n",
    "df.info()"
   ]
  },
  {
   "cell_type": "code",
   "execution_count": 4,
   "metadata": {},
   "outputs": [
    {
     "data": {
      "text/plain": [
       "0    2860\n",
       "1     638\n",
       "Name: label, dtype: int64"
      ]
     },
     "execution_count": 4,
     "metadata": {},
     "output_type": "execute_result"
    }
   ],
   "source": [
    "df[\"label\"].value_counts()"
   ]
  },
  {
   "cell_type": "code",
   "execution_count": 6,
   "metadata": {},
   "outputs": [
    {
     "data": {
      "application/vnd.plotly.v1+json": {
       "config": {
        "plotlyServerURL": "https://plot.ly"
       },
       "data": [
        {
         "cells": {
          "align": [
           "left",
           "center"
          ],
          "fill": {
           "color": [
            [
             "white",
             "lightgrey",
             "white",
             "lightgrey",
             "white",
             "lightgrey",
             "white",
             "lightgrey",
             "white",
             "lightgrey",
             "white",
             "lightgrey",
             "white",
             "lightgrey",
             "white",
             "lightgrey",
             "white",
             "lightgrey",
             "white",
             "lightgrey",
             "white",
             "lightgrey",
             "white",
             "lightgrey",
             "white",
             "lightgrey",
             "white",
             "lightgrey",
             "white",
             "lightgrey"
            ]
           ]
          },
          "font": {
           "color": "darkslategray",
           "size": 11
          },
          "values": [
           [
            "1-Hypertension",
            "0-Normal Range"
           ],
           [
            638,
            2860
           ],
           [
            0.182,
            0.818
           ]
          ]
         },
         "header": {
          "align": [
           "left",
           "center"
          ],
          "fill": {
           "color": "grey"
          },
          "font": {
           "color": "white",
           "size": 12
          },
          "values": [
           "<b>Response</b>",
           "<b>Count</b>",
           "<b>Percent</b>"
          ]
         },
         "type": "table"
        }
       ],
       "layout": {
        "template": {
         "data": {
          "bar": [
           {
            "error_x": {
             "color": "#2a3f5f"
            },
            "error_y": {
             "color": "#2a3f5f"
            },
            "marker": {
             "line": {
              "color": "#E5ECF6",
              "width": 0.5
             }
            },
            "type": "bar"
           }
          ],
          "barpolar": [
           {
            "marker": {
             "line": {
              "color": "#E5ECF6",
              "width": 0.5
             }
            },
            "type": "barpolar"
           }
          ],
          "carpet": [
           {
            "aaxis": {
             "endlinecolor": "#2a3f5f",
             "gridcolor": "white",
             "linecolor": "white",
             "minorgridcolor": "white",
             "startlinecolor": "#2a3f5f"
            },
            "baxis": {
             "endlinecolor": "#2a3f5f",
             "gridcolor": "white",
             "linecolor": "white",
             "minorgridcolor": "white",
             "startlinecolor": "#2a3f5f"
            },
            "type": "carpet"
           }
          ],
          "choropleth": [
           {
            "colorbar": {
             "outlinewidth": 0,
             "ticks": ""
            },
            "type": "choropleth"
           }
          ],
          "contour": [
           {
            "colorbar": {
             "outlinewidth": 0,
             "ticks": ""
            },
            "colorscale": [
             [
              0,
              "#0d0887"
             ],
             [
              0.1111111111111111,
              "#46039f"
             ],
             [
              0.2222222222222222,
              "#7201a8"
             ],
             [
              0.3333333333333333,
              "#9c179e"
             ],
             [
              0.4444444444444444,
              "#bd3786"
             ],
             [
              0.5555555555555556,
              "#d8576b"
             ],
             [
              0.6666666666666666,
              "#ed7953"
             ],
             [
              0.7777777777777778,
              "#fb9f3a"
             ],
             [
              0.8888888888888888,
              "#fdca26"
             ],
             [
              1,
              "#f0f921"
             ]
            ],
            "type": "contour"
           }
          ],
          "contourcarpet": [
           {
            "colorbar": {
             "outlinewidth": 0,
             "ticks": ""
            },
            "type": "contourcarpet"
           }
          ],
          "heatmap": [
           {
            "colorbar": {
             "outlinewidth": 0,
             "ticks": ""
            },
            "colorscale": [
             [
              0,
              "#0d0887"
             ],
             [
              0.1111111111111111,
              "#46039f"
             ],
             [
              0.2222222222222222,
              "#7201a8"
             ],
             [
              0.3333333333333333,
              "#9c179e"
             ],
             [
              0.4444444444444444,
              "#bd3786"
             ],
             [
              0.5555555555555556,
              "#d8576b"
             ],
             [
              0.6666666666666666,
              "#ed7953"
             ],
             [
              0.7777777777777778,
              "#fb9f3a"
             ],
             [
              0.8888888888888888,
              "#fdca26"
             ],
             [
              1,
              "#f0f921"
             ]
            ],
            "type": "heatmap"
           }
          ],
          "heatmapgl": [
           {
            "colorbar": {
             "outlinewidth": 0,
             "ticks": ""
            },
            "colorscale": [
             [
              0,
              "#0d0887"
             ],
             [
              0.1111111111111111,
              "#46039f"
             ],
             [
              0.2222222222222222,
              "#7201a8"
             ],
             [
              0.3333333333333333,
              "#9c179e"
             ],
             [
              0.4444444444444444,
              "#bd3786"
             ],
             [
              0.5555555555555556,
              "#d8576b"
             ],
             [
              0.6666666666666666,
              "#ed7953"
             ],
             [
              0.7777777777777778,
              "#fb9f3a"
             ],
             [
              0.8888888888888888,
              "#fdca26"
             ],
             [
              1,
              "#f0f921"
             ]
            ],
            "type": "heatmapgl"
           }
          ],
          "histogram": [
           {
            "marker": {
             "colorbar": {
              "outlinewidth": 0,
              "ticks": ""
             }
            },
            "type": "histogram"
           }
          ],
          "histogram2d": [
           {
            "colorbar": {
             "outlinewidth": 0,
             "ticks": ""
            },
            "colorscale": [
             [
              0,
              "#0d0887"
             ],
             [
              0.1111111111111111,
              "#46039f"
             ],
             [
              0.2222222222222222,
              "#7201a8"
             ],
             [
              0.3333333333333333,
              "#9c179e"
             ],
             [
              0.4444444444444444,
              "#bd3786"
             ],
             [
              0.5555555555555556,
              "#d8576b"
             ],
             [
              0.6666666666666666,
              "#ed7953"
             ],
             [
              0.7777777777777778,
              "#fb9f3a"
             ],
             [
              0.8888888888888888,
              "#fdca26"
             ],
             [
              1,
              "#f0f921"
             ]
            ],
            "type": "histogram2d"
           }
          ],
          "histogram2dcontour": [
           {
            "colorbar": {
             "outlinewidth": 0,
             "ticks": ""
            },
            "colorscale": [
             [
              0,
              "#0d0887"
             ],
             [
              0.1111111111111111,
              "#46039f"
             ],
             [
              0.2222222222222222,
              "#7201a8"
             ],
             [
              0.3333333333333333,
              "#9c179e"
             ],
             [
              0.4444444444444444,
              "#bd3786"
             ],
             [
              0.5555555555555556,
              "#d8576b"
             ],
             [
              0.6666666666666666,
              "#ed7953"
             ],
             [
              0.7777777777777778,
              "#fb9f3a"
             ],
             [
              0.8888888888888888,
              "#fdca26"
             ],
             [
              1,
              "#f0f921"
             ]
            ],
            "type": "histogram2dcontour"
           }
          ],
          "mesh3d": [
           {
            "colorbar": {
             "outlinewidth": 0,
             "ticks": ""
            },
            "type": "mesh3d"
           }
          ],
          "parcoords": [
           {
            "line": {
             "colorbar": {
              "outlinewidth": 0,
              "ticks": ""
             }
            },
            "type": "parcoords"
           }
          ],
          "pie": [
           {
            "automargin": true,
            "type": "pie"
           }
          ],
          "scatter": [
           {
            "marker": {
             "colorbar": {
              "outlinewidth": 0,
              "ticks": ""
             }
            },
            "type": "scatter"
           }
          ],
          "scatter3d": [
           {
            "line": {
             "colorbar": {
              "outlinewidth": 0,
              "ticks": ""
             }
            },
            "marker": {
             "colorbar": {
              "outlinewidth": 0,
              "ticks": ""
             }
            },
            "type": "scatter3d"
           }
          ],
          "scattercarpet": [
           {
            "marker": {
             "colorbar": {
              "outlinewidth": 0,
              "ticks": ""
             }
            },
            "type": "scattercarpet"
           }
          ],
          "scattergeo": [
           {
            "marker": {
             "colorbar": {
              "outlinewidth": 0,
              "ticks": ""
             }
            },
            "type": "scattergeo"
           }
          ],
          "scattergl": [
           {
            "marker": {
             "colorbar": {
              "outlinewidth": 0,
              "ticks": ""
             }
            },
            "type": "scattergl"
           }
          ],
          "scattermapbox": [
           {
            "marker": {
             "colorbar": {
              "outlinewidth": 0,
              "ticks": ""
             }
            },
            "type": "scattermapbox"
           }
          ],
          "scatterpolar": [
           {
            "marker": {
             "colorbar": {
              "outlinewidth": 0,
              "ticks": ""
             }
            },
            "type": "scatterpolar"
           }
          ],
          "scatterpolargl": [
           {
            "marker": {
             "colorbar": {
              "outlinewidth": 0,
              "ticks": ""
             }
            },
            "type": "scatterpolargl"
           }
          ],
          "scatterternary": [
           {
            "marker": {
             "colorbar": {
              "outlinewidth": 0,
              "ticks": ""
             }
            },
            "type": "scatterternary"
           }
          ],
          "surface": [
           {
            "colorbar": {
             "outlinewidth": 0,
             "ticks": ""
            },
            "colorscale": [
             [
              0,
              "#0d0887"
             ],
             [
              0.1111111111111111,
              "#46039f"
             ],
             [
              0.2222222222222222,
              "#7201a8"
             ],
             [
              0.3333333333333333,
              "#9c179e"
             ],
             [
              0.4444444444444444,
              "#bd3786"
             ],
             [
              0.5555555555555556,
              "#d8576b"
             ],
             [
              0.6666666666666666,
              "#ed7953"
             ],
             [
              0.7777777777777778,
              "#fb9f3a"
             ],
             [
              0.8888888888888888,
              "#fdca26"
             ],
             [
              1,
              "#f0f921"
             ]
            ],
            "type": "surface"
           }
          ],
          "table": [
           {
            "cells": {
             "fill": {
              "color": "#EBF0F8"
             },
             "line": {
              "color": "white"
             }
            },
            "header": {
             "fill": {
              "color": "#C8D4E3"
             },
             "line": {
              "color": "white"
             }
            },
            "type": "table"
           }
          ]
         },
         "layout": {
          "annotationdefaults": {
           "arrowcolor": "#2a3f5f",
           "arrowhead": 0,
           "arrowwidth": 1
          },
          "coloraxis": {
           "colorbar": {
            "outlinewidth": 0,
            "ticks": ""
           }
          },
          "colorscale": {
           "diverging": [
            [
             0,
             "#8e0152"
            ],
            [
             0.1,
             "#c51b7d"
            ],
            [
             0.2,
             "#de77ae"
            ],
            [
             0.3,
             "#f1b6da"
            ],
            [
             0.4,
             "#fde0ef"
            ],
            [
             0.5,
             "#f7f7f7"
            ],
            [
             0.6,
             "#e6f5d0"
            ],
            [
             0.7,
             "#b8e186"
            ],
            [
             0.8,
             "#7fbc41"
            ],
            [
             0.9,
             "#4d9221"
            ],
            [
             1,
             "#276419"
            ]
           ],
           "sequential": [
            [
             0,
             "#0d0887"
            ],
            [
             0.1111111111111111,
             "#46039f"
            ],
            [
             0.2222222222222222,
             "#7201a8"
            ],
            [
             0.3333333333333333,
             "#9c179e"
            ],
            [
             0.4444444444444444,
             "#bd3786"
            ],
            [
             0.5555555555555556,
             "#d8576b"
            ],
            [
             0.6666666666666666,
             "#ed7953"
            ],
            [
             0.7777777777777778,
             "#fb9f3a"
            ],
            [
             0.8888888888888888,
             "#fdca26"
            ],
            [
             1,
             "#f0f921"
            ]
           ],
           "sequentialminus": [
            [
             0,
             "#0d0887"
            ],
            [
             0.1111111111111111,
             "#46039f"
            ],
            [
             0.2222222222222222,
             "#7201a8"
            ],
            [
             0.3333333333333333,
             "#9c179e"
            ],
            [
             0.4444444444444444,
             "#bd3786"
            ],
            [
             0.5555555555555556,
             "#d8576b"
            ],
            [
             0.6666666666666666,
             "#ed7953"
            ],
            [
             0.7777777777777778,
             "#fb9f3a"
            ],
            [
             0.8888888888888888,
             "#fdca26"
            ],
            [
             1,
             "#f0f921"
            ]
           ]
          },
          "colorway": [
           "#636efa",
           "#EF553B",
           "#00cc96",
           "#ab63fa",
           "#FFA15A",
           "#19d3f3",
           "#FF6692",
           "#B6E880",
           "#FF97FF",
           "#FECB52"
          ],
          "font": {
           "color": "#2a3f5f"
          },
          "geo": {
           "bgcolor": "white",
           "lakecolor": "white",
           "landcolor": "#E5ECF6",
           "showlakes": true,
           "showland": true,
           "subunitcolor": "white"
          },
          "hoverlabel": {
           "align": "left"
          },
          "hovermode": "closest",
          "mapbox": {
           "style": "light"
          },
          "paper_bgcolor": "white",
          "plot_bgcolor": "#E5ECF6",
          "polar": {
           "angularaxis": {
            "gridcolor": "white",
            "linecolor": "white",
            "ticks": ""
           },
           "bgcolor": "#E5ECF6",
           "radialaxis": {
            "gridcolor": "white",
            "linecolor": "white",
            "ticks": ""
           }
          },
          "scene": {
           "xaxis": {
            "backgroundcolor": "#E5ECF6",
            "gridcolor": "white",
            "gridwidth": 2,
            "linecolor": "white",
            "showbackground": true,
            "ticks": "",
            "zerolinecolor": "white"
           },
           "yaxis": {
            "backgroundcolor": "#E5ECF6",
            "gridcolor": "white",
            "gridwidth": 2,
            "linecolor": "white",
            "showbackground": true,
            "ticks": "",
            "zerolinecolor": "white"
           },
           "zaxis": {
            "backgroundcolor": "#E5ECF6",
            "gridcolor": "white",
            "gridwidth": 2,
            "linecolor": "white",
            "showbackground": true,
            "ticks": "",
            "zerolinecolor": "white"
           }
          },
          "shapedefaults": {
           "line": {
            "color": "#2a3f5f"
           }
          },
          "ternary": {
           "aaxis": {
            "gridcolor": "white",
            "linecolor": "white",
            "ticks": ""
           },
           "baxis": {
            "gridcolor": "white",
            "linecolor": "white",
            "ticks": ""
           },
           "bgcolor": "#E5ECF6",
           "caxis": {
            "gridcolor": "white",
            "linecolor": "white",
            "ticks": ""
           }
          },
          "title": {
           "x": 0.05
          },
          "xaxis": {
           "automargin": true,
           "gridcolor": "white",
           "linecolor": "white",
           "ticks": "",
           "title": {
            "standoff": 15
           },
           "zerolinecolor": "white",
           "zerolinewidth": 2
          },
          "yaxis": {
           "automargin": true,
           "gridcolor": "white",
           "linecolor": "white",
           "ticks": "",
           "title": {
            "standoff": 15
           },
           "zerolinecolor": "white",
           "zerolinewidth": 2
          }
         }
        }
       }
      },
      "text/html": [
       "<div>\n",
       "        \n",
       "        \n",
       "            <div id=\"f41d1018-18a3-402d-be32-399ed10ade79\" class=\"plotly-graph-div\" style=\"height:525px; width:100%;\"></div>\n",
       "            <script type=\"text/javascript\">\n",
       "                require([\"plotly\"], function(Plotly) {\n",
       "                    window.PLOTLYENV=window.PLOTLYENV || {};\n",
       "                    \n",
       "                if (document.getElementById(\"f41d1018-18a3-402d-be32-399ed10ade79\")) {\n",
       "                    Plotly.newPlot(\n",
       "                        'f41d1018-18a3-402d-be32-399ed10ade79',\n",
       "                        [{\"cells\": {\"align\": [\"left\", \"center\"], \"fill\": {\"color\": [[\"white\", \"lightgrey\", \"white\", \"lightgrey\", \"white\", \"lightgrey\", \"white\", \"lightgrey\", \"white\", \"lightgrey\", \"white\", \"lightgrey\", \"white\", \"lightgrey\", \"white\", \"lightgrey\", \"white\", \"lightgrey\", \"white\", \"lightgrey\", \"white\", \"lightgrey\", \"white\", \"lightgrey\", \"white\", \"lightgrey\", \"white\", \"lightgrey\", \"white\", \"lightgrey\"]]}, \"font\": {\"color\": \"darkslategray\", \"size\": 11}, \"values\": [[\"1-Hypertension\", \"0-Normal Range\"], [638, 2860], [0.182, 0.818]]}, \"header\": {\"align\": [\"left\", \"center\"], \"fill\": {\"color\": \"grey\"}, \"font\": {\"color\": \"white\", \"size\": 12}, \"values\": [\"<b>Response</b>\", \"<b>Count</b>\", \"<b>Percent</b>\"]}, \"type\": \"table\"}],\n",
       "                        {\"template\": {\"data\": {\"bar\": [{\"error_x\": {\"color\": \"#2a3f5f\"}, \"error_y\": {\"color\": \"#2a3f5f\"}, \"marker\": {\"line\": {\"color\": \"#E5ECF6\", \"width\": 0.5}}, \"type\": \"bar\"}], \"barpolar\": [{\"marker\": {\"line\": {\"color\": \"#E5ECF6\", \"width\": 0.5}}, \"type\": \"barpolar\"}], \"carpet\": [{\"aaxis\": {\"endlinecolor\": \"#2a3f5f\", \"gridcolor\": \"white\", \"linecolor\": \"white\", \"minorgridcolor\": \"white\", \"startlinecolor\": \"#2a3f5f\"}, \"baxis\": {\"endlinecolor\": \"#2a3f5f\", \"gridcolor\": \"white\", \"linecolor\": \"white\", \"minorgridcolor\": \"white\", \"startlinecolor\": \"#2a3f5f\"}, \"type\": \"carpet\"}], \"choropleth\": [{\"colorbar\": {\"outlinewidth\": 0, \"ticks\": \"\"}, \"type\": \"choropleth\"}], \"contour\": [{\"colorbar\": {\"outlinewidth\": 0, \"ticks\": \"\"}, \"colorscale\": [[0.0, \"#0d0887\"], [0.1111111111111111, \"#46039f\"], [0.2222222222222222, \"#7201a8\"], [0.3333333333333333, \"#9c179e\"], [0.4444444444444444, \"#bd3786\"], [0.5555555555555556, \"#d8576b\"], [0.6666666666666666, \"#ed7953\"], [0.7777777777777778, \"#fb9f3a\"], [0.8888888888888888, \"#fdca26\"], [1.0, \"#f0f921\"]], \"type\": \"contour\"}], \"contourcarpet\": [{\"colorbar\": {\"outlinewidth\": 0, \"ticks\": \"\"}, \"type\": \"contourcarpet\"}], \"heatmap\": [{\"colorbar\": {\"outlinewidth\": 0, \"ticks\": \"\"}, \"colorscale\": [[0.0, \"#0d0887\"], [0.1111111111111111, \"#46039f\"], [0.2222222222222222, \"#7201a8\"], [0.3333333333333333, \"#9c179e\"], [0.4444444444444444, \"#bd3786\"], [0.5555555555555556, \"#d8576b\"], [0.6666666666666666, \"#ed7953\"], [0.7777777777777778, \"#fb9f3a\"], [0.8888888888888888, \"#fdca26\"], [1.0, \"#f0f921\"]], \"type\": \"heatmap\"}], \"heatmapgl\": [{\"colorbar\": {\"outlinewidth\": 0, \"ticks\": \"\"}, \"colorscale\": [[0.0, \"#0d0887\"], [0.1111111111111111, \"#46039f\"], [0.2222222222222222, \"#7201a8\"], [0.3333333333333333, \"#9c179e\"], [0.4444444444444444, \"#bd3786\"], [0.5555555555555556, \"#d8576b\"], [0.6666666666666666, \"#ed7953\"], [0.7777777777777778, \"#fb9f3a\"], [0.8888888888888888, \"#fdca26\"], [1.0, \"#f0f921\"]], \"type\": \"heatmapgl\"}], \"histogram\": [{\"marker\": {\"colorbar\": {\"outlinewidth\": 0, \"ticks\": \"\"}}, \"type\": \"histogram\"}], \"histogram2d\": [{\"colorbar\": {\"outlinewidth\": 0, \"ticks\": \"\"}, \"colorscale\": [[0.0, \"#0d0887\"], [0.1111111111111111, \"#46039f\"], [0.2222222222222222, \"#7201a8\"], [0.3333333333333333, \"#9c179e\"], [0.4444444444444444, \"#bd3786\"], [0.5555555555555556, \"#d8576b\"], [0.6666666666666666, \"#ed7953\"], [0.7777777777777778, \"#fb9f3a\"], [0.8888888888888888, \"#fdca26\"], [1.0, \"#f0f921\"]], \"type\": \"histogram2d\"}], \"histogram2dcontour\": [{\"colorbar\": {\"outlinewidth\": 0, \"ticks\": \"\"}, \"colorscale\": [[0.0, \"#0d0887\"], [0.1111111111111111, \"#46039f\"], [0.2222222222222222, \"#7201a8\"], [0.3333333333333333, \"#9c179e\"], [0.4444444444444444, \"#bd3786\"], [0.5555555555555556, \"#d8576b\"], [0.6666666666666666, \"#ed7953\"], [0.7777777777777778, \"#fb9f3a\"], [0.8888888888888888, \"#fdca26\"], [1.0, \"#f0f921\"]], \"type\": \"histogram2dcontour\"}], \"mesh3d\": [{\"colorbar\": {\"outlinewidth\": 0, \"ticks\": \"\"}, \"type\": \"mesh3d\"}], \"parcoords\": [{\"line\": {\"colorbar\": {\"outlinewidth\": 0, \"ticks\": \"\"}}, \"type\": \"parcoords\"}], \"pie\": [{\"automargin\": true, \"type\": \"pie\"}], \"scatter\": [{\"marker\": {\"colorbar\": {\"outlinewidth\": 0, \"ticks\": \"\"}}, \"type\": \"scatter\"}], \"scatter3d\": [{\"line\": {\"colorbar\": {\"outlinewidth\": 0, \"ticks\": \"\"}}, \"marker\": {\"colorbar\": {\"outlinewidth\": 0, \"ticks\": \"\"}}, \"type\": \"scatter3d\"}], \"scattercarpet\": [{\"marker\": {\"colorbar\": {\"outlinewidth\": 0, \"ticks\": \"\"}}, \"type\": \"scattercarpet\"}], \"scattergeo\": [{\"marker\": {\"colorbar\": {\"outlinewidth\": 0, \"ticks\": \"\"}}, \"type\": \"scattergeo\"}], \"scattergl\": [{\"marker\": {\"colorbar\": {\"outlinewidth\": 0, \"ticks\": \"\"}}, \"type\": \"scattergl\"}], \"scattermapbox\": [{\"marker\": {\"colorbar\": {\"outlinewidth\": 0, \"ticks\": \"\"}}, \"type\": \"scattermapbox\"}], \"scatterpolar\": [{\"marker\": {\"colorbar\": {\"outlinewidth\": 0, \"ticks\": \"\"}}, \"type\": \"scatterpolar\"}], \"scatterpolargl\": [{\"marker\": {\"colorbar\": {\"outlinewidth\": 0, \"ticks\": \"\"}}, \"type\": \"scatterpolargl\"}], \"scatterternary\": [{\"marker\": {\"colorbar\": {\"outlinewidth\": 0, \"ticks\": \"\"}}, \"type\": \"scatterternary\"}], \"surface\": [{\"colorbar\": {\"outlinewidth\": 0, \"ticks\": \"\"}, \"colorscale\": [[0.0, \"#0d0887\"], [0.1111111111111111, \"#46039f\"], [0.2222222222222222, \"#7201a8\"], [0.3333333333333333, \"#9c179e\"], [0.4444444444444444, \"#bd3786\"], [0.5555555555555556, \"#d8576b\"], [0.6666666666666666, \"#ed7953\"], [0.7777777777777778, \"#fb9f3a\"], [0.8888888888888888, \"#fdca26\"], [1.0, \"#f0f921\"]], \"type\": \"surface\"}], \"table\": [{\"cells\": {\"fill\": {\"color\": \"#EBF0F8\"}, \"line\": {\"color\": \"white\"}}, \"header\": {\"fill\": {\"color\": \"#C8D4E3\"}, \"line\": {\"color\": \"white\"}}, \"type\": \"table\"}]}, \"layout\": {\"annotationdefaults\": {\"arrowcolor\": \"#2a3f5f\", \"arrowhead\": 0, \"arrowwidth\": 1}, \"coloraxis\": {\"colorbar\": {\"outlinewidth\": 0, \"ticks\": \"\"}}, \"colorscale\": {\"diverging\": [[0, \"#8e0152\"], [0.1, \"#c51b7d\"], [0.2, \"#de77ae\"], [0.3, \"#f1b6da\"], [0.4, \"#fde0ef\"], [0.5, \"#f7f7f7\"], [0.6, \"#e6f5d0\"], [0.7, \"#b8e186\"], [0.8, \"#7fbc41\"], [0.9, \"#4d9221\"], [1, \"#276419\"]], \"sequential\": [[0.0, \"#0d0887\"], [0.1111111111111111, \"#46039f\"], [0.2222222222222222, \"#7201a8\"], [0.3333333333333333, \"#9c179e\"], [0.4444444444444444, \"#bd3786\"], [0.5555555555555556, \"#d8576b\"], [0.6666666666666666, \"#ed7953\"], [0.7777777777777778, \"#fb9f3a\"], [0.8888888888888888, \"#fdca26\"], [1.0, \"#f0f921\"]], \"sequentialminus\": [[0.0, \"#0d0887\"], [0.1111111111111111, \"#46039f\"], [0.2222222222222222, \"#7201a8\"], [0.3333333333333333, \"#9c179e\"], [0.4444444444444444, \"#bd3786\"], [0.5555555555555556, \"#d8576b\"], [0.6666666666666666, \"#ed7953\"], [0.7777777777777778, \"#fb9f3a\"], [0.8888888888888888, \"#fdca26\"], [1.0, \"#f0f921\"]]}, \"colorway\": [\"#636efa\", \"#EF553B\", \"#00cc96\", \"#ab63fa\", \"#FFA15A\", \"#19d3f3\", \"#FF6692\", \"#B6E880\", \"#FF97FF\", \"#FECB52\"], \"font\": {\"color\": \"#2a3f5f\"}, \"geo\": {\"bgcolor\": \"white\", \"lakecolor\": \"white\", \"landcolor\": \"#E5ECF6\", \"showlakes\": true, \"showland\": true, \"subunitcolor\": \"white\"}, \"hoverlabel\": {\"align\": \"left\"}, \"hovermode\": \"closest\", \"mapbox\": {\"style\": \"light\"}, \"paper_bgcolor\": \"white\", \"plot_bgcolor\": \"#E5ECF6\", \"polar\": {\"angularaxis\": {\"gridcolor\": \"white\", \"linecolor\": \"white\", \"ticks\": \"\"}, \"bgcolor\": \"#E5ECF6\", \"radialaxis\": {\"gridcolor\": \"white\", \"linecolor\": \"white\", \"ticks\": \"\"}}, \"scene\": {\"xaxis\": {\"backgroundcolor\": \"#E5ECF6\", \"gridcolor\": \"white\", \"gridwidth\": 2, \"linecolor\": \"white\", \"showbackground\": true, \"ticks\": \"\", \"zerolinecolor\": \"white\"}, \"yaxis\": {\"backgroundcolor\": \"#E5ECF6\", \"gridcolor\": \"white\", \"gridwidth\": 2, \"linecolor\": \"white\", \"showbackground\": true, \"ticks\": \"\", \"zerolinecolor\": \"white\"}, \"zaxis\": {\"backgroundcolor\": \"#E5ECF6\", \"gridcolor\": \"white\", \"gridwidth\": 2, \"linecolor\": \"white\", \"showbackground\": true, \"ticks\": \"\", \"zerolinecolor\": \"white\"}}, \"shapedefaults\": {\"line\": {\"color\": \"#2a3f5f\"}}, \"ternary\": {\"aaxis\": {\"gridcolor\": \"white\", \"linecolor\": \"white\", \"ticks\": \"\"}, \"baxis\": {\"gridcolor\": \"white\", \"linecolor\": \"white\", \"ticks\": \"\"}, \"bgcolor\": \"#E5ECF6\", \"caxis\": {\"gridcolor\": \"white\", \"linecolor\": \"white\", \"ticks\": \"\"}}, \"title\": {\"x\": 0.05}, \"xaxis\": {\"automargin\": true, \"gridcolor\": \"white\", \"linecolor\": \"white\", \"ticks\": \"\", \"title\": {\"standoff\": 15}, \"zerolinecolor\": \"white\", \"zerolinewidth\": 2}, \"yaxis\": {\"automargin\": true, \"gridcolor\": \"white\", \"linecolor\": \"white\", \"ticks\": \"\", \"title\": {\"standoff\": 15}, \"zerolinecolor\": \"white\", \"zerolinewidth\": 2}}}},\n",
       "                        {\"responsive\": true}\n",
       "                    ).then(function(){\n",
       "                            \n",
       "var gd = document.getElementById('f41d1018-18a3-402d-be32-399ed10ade79');\n",
       "var x = new MutationObserver(function (mutations, observer) {{\n",
       "        var display = window.getComputedStyle(gd).display;\n",
       "        if (!display || display === 'none') {{\n",
       "            console.log([gd, 'removed!']);\n",
       "            Plotly.purge(gd);\n",
       "            observer.disconnect();\n",
       "        }}\n",
       "}});\n",
       "\n",
       "// Listen for the removal of the full notebook cells\n",
       "var notebookContainer = gd.closest('#notebook-container');\n",
       "if (notebookContainer) {{\n",
       "    x.observe(notebookContainer, {childList: true});\n",
       "}}\n",
       "\n",
       "// Listen for the clearing of the current output cell\n",
       "var outputEl = gd.closest('.output');\n",
       "if (outputEl) {{\n",
       "    x.observe(outputEl, {childList: true});\n",
       "}}\n",
       "\n",
       "                        })\n",
       "                };\n",
       "                });\n",
       "            </script>\n",
       "        </div>"
      ]
     },
     "metadata": {},
     "output_type": "display_data"
    }
   ],
   "source": [
    "import plotly.graph_objects as go\n",
    "\n",
    "headerColor = 'grey'\n",
    "rowEvenColor = 'lightgrey'\n",
    "rowOddColor = 'white'\n",
    "\n",
    "fig = go.Figure(data=[go.Table(\n",
    "  header=dict(\n",
    "    values=['<b>Response</b>','<b>Count</b>','<b>Percent</b>'],\n",
    "    #line_color='lightgrey',\n",
    "    fill_color=headerColor,\n",
    "    align=['left','center'],\n",
    "    font=dict(color='white', size=12)\n",
    "  ),\n",
    "  cells=dict(\n",
    "    values=[\n",
    "      ['1-Hypertension','0-Normal Range'],\n",
    "      np.round([638,2860],3),\n",
    "      np.round([638/(638+2860),(2860/(2860+638))],3)],\n",
    "    #line_color='lightgrey',\n",
    "    # 2-D list of colors for alternating rows\n",
    "    fill_color = [[rowOddColor,rowEvenColor,rowOddColor, rowEvenColor,rowOddColor,rowEvenColor]*5],\n",
    "    align = ['left', 'center'],\n",
    "    font = dict(color = 'darkslategray', size = 11)\n",
    "    ))\n",
    "])\n",
    "\n",
    "fig.show()"
   ]
  },
  {
   "cell_type": "code",
   "execution_count": 7,
   "metadata": {},
   "outputs": [],
   "source": [
    "from sklearn.impute import SimpleImputer\n",
    "from sklearn.model_selection import train_test_split\n",
    "from sklearn.preprocessing import OneHotEncoder\n",
    "from sklearn.preprocessing import MinMaxScaler, StandardScaler\n",
    "\n",
    "X_train,X_test,y_train,y_test = train_test_split(df.iloc[:,:-1], df.iloc[:,-1] ,random_state=0)\n",
    "X_train.reset_index(drop=True, inplace=True)\n",
    "X_test.reset_index(drop=True, inplace=True)\n",
    "y_train.reset_index(drop=True, inplace=True)\n",
    "y_test.reset_index(drop=True, inplace=True)\n",
    "\n",
    "X_train_cat = X_train.select_dtypes(include='object')\n",
    "X_train_num = X_train.select_dtypes(exclude='object')\n",
    "X_test_cat = X_test.select_dtypes(include='object')\n",
    "X_test_num = X_test.select_dtypes(exclude='object')\n",
    "cat_colnames = X_train_cat.columns.tolist()\n",
    "num_colnames = X_train_num.columns.tolist()\n",
    "\n",
    "# imp_num = SimpleImputer(missing_values=np.nan, strategy=\"mean\")\n",
    "# X_train_num = imp_num.fit_transform(X_train_num)\n",
    "# X_test_num = imp_num.transform(X_test_num)\n",
    "\n",
    "scaler = MinMaxScaler()\n",
    "X_train_num = pd.DataFrame(scaler.fit_transform(X_train_num), columns=num_colnames)\n",
    "X_test_num = pd.DataFrame(scaler.transform(X_test_num), columns=num_colnames)\n",
    "\n",
    "enc = OneHotEncoder()\n",
    "X_train_cat_enc = enc.fit_transform(X_train_cat)\n",
    "cat_colnames = enc.get_feature_names(cat_colnames)\n",
    "X_train_cat = pd.DataFrame(X_train_cat_enc.toarray(),columns=cat_colnames)\n",
    "X_test_cat = pd.DataFrame(enc.transform(X_test_cat).toarray(),columns=cat_colnames)\n",
    "\n",
    "X_train = pd.concat([X_train_num, X_train_cat], axis=1)\n",
    "X_test = pd.concat([X_test_num, X_test_cat], axis=1)"
   ]
  },
  {
   "cell_type": "code",
   "execution_count": 8,
   "metadata": {},
   "outputs": [
    {
     "data": {
      "text/plain": [
       "(2623, 186)"
      ]
     },
     "execution_count": 8,
     "metadata": {},
     "output_type": "execute_result"
    }
   ],
   "source": [
    "X_train.shape"
   ]
  },
  {
   "cell_type": "markdown",
   "metadata": {},
   "source": [
    "## Feature Importance"
   ]
  },
  {
   "cell_type": "code",
   "execution_count": 119,
   "metadata": {},
   "outputs": [
    {
     "data": {
      "image/png": "[encoded data removed]",
      "text/plain": [
       "<Figure size 864x720 with 2 Axes>"
      ]
     },
     "metadata": {
      "needs_background": "light"
     },
     "output_type": "display_data"
    }
   ],
   "source": [
    "### heat map annot=True,\n",
    "import seaborn as sns\n",
    "import matplotlib.pyplot as plt\n",
    "plt.figure(figsize=(12,10))\n",
    "cor = X_train_num.corr()\n",
    "sns.heatmap(cor,cmap=plt.cm.Reds)\n",
    "plt.show()"
   ]
  },
  {
   "cell_type": "code",
   "execution_count": 42,
   "metadata": {},
   "outputs": [
    {
     "data": {
      "image/png": "[encoded data removed]",
      "text/plain": [
       "<Figure size 800x320 with 1 Axes>"
      ]
     },
     "metadata": {
      "needs_background": "light"
     },
     "output_type": "display_data"
    }
   ],
   "source": [
    "### random forest\n",
    "import matplotlib.pyplot as plt\n",
    "from sklearn.ensemble import RandomForestClassifier\n",
    "clf = RandomForestClassifier(random_state=0,n_estimators=1000).fit(X_train, y_train)\n",
    "plt.figure(figsize=(10,4), dpi=80)\n",
    "plt.plot(sorted(clf.feature_importances_ ,reverse=True)[0:100])\n",
    "plt.show()"
   ]
  },
  {
   "cell_type": "code",
   "execution_count": 43,
   "metadata": {},
   "outputs": [
    {
     "data": {
      "text/plain": [
       "[('RIDAGEYR', 0.038634252335550234),\n",
       " ('BPQ020_2.0', 0.023082004843082655),\n",
       " ('BPQ020_1.0', 0.020463494557622783),\n",
       " ('LBXSLDSI', 0.01848243118956949),\n",
       " ('LBXTC', 0.017890961654465975),\n",
       " ('LBXSCH', 0.017503233006207958),\n",
       " ('LBXGH', 0.017360390116125685),\n",
       " ('LBXSGL', 0.017272340070251944),\n",
       " ('BMXARMC', 0.01623556711408332),\n",
       " ('LBDRFO', 0.016050909410795625),\n",
       " ('BMDAVSAD', 0.016025539904194697),\n",
       " ('LBXSCR', 0.01583415369723583),\n",
       " ('BMXWT', 0.015777917678575778),\n",
       " ('LBXSAPSI', 0.015722923797648176),\n",
       " ('LBXSKSI', 0.015076831362607807),\n",
       " ('BMXWAIST', 0.015071614622416005),\n",
       " ('LBXSTR', 0.01471628708622553),\n",
       " ('BMXLEG', 0.014663574070116732),\n",
       " ('LBXEOPCT', 0.014601892008371937),\n",
       " ('LBXLYPCT', 0.014530893840191446)]"
      ]
     },
     "execution_count": 43,
     "metadata": {},
     "output_type": "execute_result"
    }
   ],
   "source": [
    "sorted(list(zip(X_train.columns,clf.feature_importances_)), key=lambda x: x[1],reverse=True)[0:20]"
   ]
  },
  {
   "cell_type": "code",
   "execution_count": 157,
   "metadata": {},
   "outputs": [],
   "source": [
    "selected_colnames=[x[0] for x in sorted(list(zip(X_train.columns,clf.feature_importances_)), key=lambda x: x[1],reverse=True)[0:20]]\n",
    "X_train_selected = X_train[selected_colnames]\n",
    "X_test_selected = X_test[selected_colnames]"
   ]
  },
  {
   "cell_type": "code",
   "execution_count": 80,
   "metadata": {},
   "outputs": [
    {
     "data": {
      "text/plain": [
       "(2623, 20)"
      ]
     },
     "execution_count": 80,
     "metadata": {},
     "output_type": "execute_result"
    }
   ],
   "source": [
    "X_train_selected.shape"
   ]
  },
  {
   "cell_type": "markdown",
   "metadata": {},
   "source": [
    "## Methods"
   ]
  },
  {
   "cell_type": "code",
   "execution_count": 67,
   "metadata": {},
   "outputs": [],
   "source": [
    "from sklearn.metrics import roc_curve, auc, accuracy_score, precision_score, recall_score, f1_score\n",
    "import matplotlib.pyplot as plt\n",
    "from sklearn.model_selection import cross_val_score\n",
    "from sklearn.ensemble import RandomForestClassifier\n",
    "from sklearn.linear_model import RidgeClassifier\n",
    "from sklearn.svm import LinearSVC\n",
    "from sklearn.svm import SVC\n",
    "from sklearn.linear_model import LogisticRegression\n",
    "from sklearn.dummy import DummyClassifier\n",
    "from sklearn.ensemble import GradientBoostingClassifier\n",
    "from sklearn.neighbors import KNeighborsClassifier\n",
    "from sklearn.metrics import precision_recall_curve\n",
    "from sklearn.model_selection import cross_val_score\n",
    "from sklearn.metrics import fbeta_score, make_scorer"
   ]
  },
  {
   "cell_type": "code",
   "execution_count": 68,
   "metadata": {},
   "outputs": [
    {
     "name": "stdout",
     "output_type": "stream",
     "text": [
      "0.4781420765027322 0.4801324503311258\n"
     ]
    }
   ],
   "source": [
    "dummy_clf = DummyClassifier(strategy=\"most_frequent\").fit(X_train_selected, y_train)\n",
    "print(fbeta_score(y_train,dummy_clf.predict(X_train_selected),beta=2,average='macro'),\n",
    "      fbeta_score(y_test,dummy_clf.predict(X_test_selected),beta=2,average='macro'))"
   ]
  },
  {
   "cell_type": "markdown",
   "metadata": {},
   "source": [
    "### Random Forest"
   ]
  },
  {
   "cell_type": "code",
   "execution_count": 69,
   "metadata": {},
   "outputs": [
    {
     "name": "stdout",
     "output_type": "stream",
     "text": [
      "[9, 7, array([0.51424985, 0.53495141, 0.51526986, 0.50818436, 0.53688199]), 0.5219074938326882]\n",
      "[9, 8, array([0.50567842, 0.55003271, 0.50172103, 0.51461648, 0.49426824]), 0.5132633774754065]\n",
      "[9, 9, array([0.49541208, 0.53175959, 0.51424985, 0.5253147 , 0.52635135]), 0.5186175139879678]\n",
      "[9, 10, array([0.51424985, 0.51322952, 0.52666134, 0.51461648, 0.51999652]), 0.5177507448777974]\n",
      "[10, 7, array([0.49541208, 0.52666134, 0.52253951, 0.51260524, 0.51897523]), 0.5152386795455186]\n",
      "[10, 8, array([0.51424985, 0.54178492, 0.51730898, 0.5115991 , 0.53267575]), 0.523523717386779]\n",
      "[10, 9, array([0.51424985, 0.53572207, 0.52253951, 0.53162389, 0.51999652]), 0.5248263690262528]\n",
      "[10, 10, array([0.51322952, 0.53069544, 0.51943512, 0.5105926 , 0.53162389]), 0.5211153141996546]\n"
     ]
    }
   ],
   "source": [
    "for i in [9,10]:\n",
    "    for j in [7,8,9,10]:\n",
    "        lr = RandomForestClassifier(n_estimators=100,random_state=0,max_depth=i,max_features=j)\n",
    "        cvs = cross_val_score(lr,X_train_selected,y_train,scoring=make_scorer(fbeta_score,beta=2,average='macro'),cv=5) \n",
    "        print([i,j,cvs,np.mean(cvs)])"
   ]
  },
  {
   "cell_type": "code",
   "execution_count": 158,
   "metadata": {},
   "outputs": [
    {
     "name": "stdout",
     "output_type": "stream",
     "text": [
      "0.8129218633459552 0.5347600798260689\n"
     ]
    }
   ],
   "source": [
    "clf = RandomForestClassifier(n_estimators=100,random_state=0,max_depth=10,max_features=8).fit(X_train_selected, y_train)\n",
    "print(fbeta_score(y_train,clf.predict(X_train_selected),beta=2,average='macro'),\n",
    "  fbeta_score(y_test,clf.predict(X_test_selected),beta=2,average='macro'))"
   ]
  },
  {
   "cell_type": "markdown",
   "metadata": {},
   "source": [
    "### Boosting"
   ]
  },
  {
   "cell_type": "code",
   "execution_count": 41,
   "metadata": {},
   "outputs": [
    {
     "name": "stdout",
     "output_type": "stream",
     "text": [
      "[4, 3, array([0.50914503, 0.53786452, 0.52456194, 0.5138645 , 0.53256746]), 0.5236006922381]\n",
      "[4, 4, array([0.5193101 , 0.51898044, 0.51529244, 0.52320384, 0.51701373]), 0.5187601098117245]\n",
      "[4, 5, array([0.51529244, 0.54055463, 0.52924988, 0.53150009, 0.52636254]), 0.5285919170217068]\n",
      "[4, 6, array([0.52141144, 0.52867334, 0.54287739, 0.51898971, 0.52004353]), 0.526399082809675]\n",
      "[4, 7, array([0.5163285 , 0.52976626, 0.54560734, 0.51371746, 0.52616163]), 0.5263162365907774]\n",
      "[4, 10, array([0.52141144, 0.53479767, 0.54228884, 0.52081989, 0.51181779]), 0.5262271268846689]\n",
      "[5, 3, array([0.51425612, 0.53927395, 0.5515873 , 0.52735052, 0.50973754]), 0.5284410870141182]\n",
      "[5, 4, array([0.50607817, 0.52320742, 0.54118274, 0.51477235, 0.53008705]), 0.5230655469828402]\n",
      "[5, 5, array([0.50914503, 0.52901533, 0.53140762, 0.51371746, 0.52900473]), 0.522458033376609]\n",
      "[5, 6, array([0.52351197, 0.52648726, 0.53304459, 0.53008705, 0.52402537]), 0.527431247693982]\n",
      "[5, 7, array([0.5224618 , 0.53565238, 0.5308591 , 0.51761295, 0.52295703]), 0.5259086519386129]\n",
      "[5, 10, array([0.51089572, 0.54394997, 0.52385367, 0.53173609, 0.52844701]), 0.5277764920053374]\n",
      "[6, 3, array([0.51010804, 0.55546371, 0.54450113, 0.5235917 , 0.51493613]), 0.5297201423840887]\n",
      "[6, 4, array([0.51898044, 0.5216943 , 0.52217734, 0.53392857, 0.52616163]), 0.5245884570249217]\n",
      "[6, 5, array([0.52111188, 0.54514222, 0.5151048 , 0.49642825, 0.52735052]), 0.5210275331717134]\n",
      "[6, 6, array([0.51615646, 0.54394997, 0.55046752, 0.50765615, 0.53283235]), 0.5302124906715926]\n",
      "[6, 7, array([0.52324263, 0.53263361, 0.52709175, 0.5203425 , 0.51654362]), 0.5239708236401512]\n",
      "[6, 10, array([0.52111188, 0.54961045, 0.52976626, 0.5203425 , 0.53063978]), 0.5302941752621966]\n"
     ]
    }
   ],
   "source": [
    "for i in [4,5,6]:\n",
    "    for j in [3,4,5,6,7,10]:\n",
    "        lr = GradientBoostingClassifier(n_estimators=100,max_depth=i,random_state=0,max_features=j)\n",
    "        cvs = cross_val_score(lr,X_train_selected,y_train,scoring=make_scorer(fbeta_score,beta=2,average='macro'),cv=5) \n",
    "        print([i,j,cvs,np.mean(cvs)])"
   ]
  },
  {
   "cell_type": "code",
   "execution_count": 159,
   "metadata": {
    "scrolled": false
   },
   "outputs": [
    {
     "name": "stdout",
     "output_type": "stream",
     "text": [
      "0.9220098490754607 0.5544283288336396\n"
     ]
    }
   ],
   "source": [
    "gbdt = GradientBoostingClassifier(n_estimators=100,max_depth=6,random_state=0,max_features=10).fit(X_train_selected, y_train)\n",
    "print(fbeta_score(y_train,gbdt.predict(X_train_selected),beta=2,average='macro'),\n",
    "      fbeta_score(y_test,gbdt.predict(X_test_selected),beta=2,average='macro'))"
   ]
  },
  {
   "cell_type": "markdown",
   "metadata": {},
   "source": [
    "### SVM"
   ]
  },
  {
   "cell_type": "code",
   "execution_count": 160,
   "metadata": {},
   "outputs": [
    {
     "name": "stdout",
     "output_type": "stream",
     "text": [
      "[1, 'linear', array([0.47805643, 0.47805643, 0.47805643, 0.47827061, 0.47827061]), 0.4781420995269715]\n",
      "[1, 'poly', array([0.47805643, 0.47805643, 0.47805643, 0.47827061, 0.47827061]), 0.4781420995269715]\n",
      "[1, 'rbf', array([0.47805643, 0.47805643, 0.47805643, 0.47827061, 0.47827061]), 0.4781420995269715]\n",
      "[1, 'sigmoid', array([0.51783171, 0.49767559, 0.49823238, 0.53140594, 0.50787716]), 0.5106045558555898]\n",
      "[10, 'linear', array([0.47805643, 0.47805643, 0.47805643, 0.47827061, 0.47827061]), 0.4781420995269715]\n",
      "[10, 'poly', array([0.48459113, 0.49482087, 0.47805643, 0.48491172, 0.47827061]), 0.4841301513155606]\n",
      "[10, 'rbf', array([0.47816011, 0.51322952, 0.50125313, 0.5115991 , 0.51662637]), 0.5041736475118019]\n",
      "[10, 'sigmoid', array([0.50357771, 0.50357771, 0.4988328 , 0.52077682, 0.50778469]), 0.506909944241763]\n",
      "[100, 'linear', array([0.47805643, 0.47805643, 0.47805643, 0.47827061, 0.47827061]), 0.4781420995269715]\n"
     ]
    },
    {
     "ename": "KeyboardInterrupt",
     "evalue": "",
     "output_type": "error",
     "traceback": [
      "\u001b[1;31m---------------------------------------------------------------------------\u001b[0m",
      "\u001b[1;31mKeyboardInterrupt\u001b[0m                         Traceback (most recent call last)",
      "\u001b[1;32m<ipython-input-160-85564278a7e0>\u001b[0m in \u001b[0;36m<module>\u001b[1;34m\u001b[0m\n\u001b[0;32m      2\u001b[0m     \u001b[1;32mfor\u001b[0m \u001b[0mk\u001b[0m \u001b[1;32min\u001b[0m \u001b[1;33m[\u001b[0m\u001b[1;34m'linear'\u001b[0m\u001b[1;33m,\u001b[0m\u001b[1;34m'poly'\u001b[0m\u001b[1;33m,\u001b[0m\u001b[1;34m'rbf'\u001b[0m\u001b[1;33m,\u001b[0m\u001b[1;34m'sigmoid'\u001b[0m\u001b[1;33m]\u001b[0m\u001b[1;33m:\u001b[0m\u001b[1;33m\u001b[0m\u001b[1;33m\u001b[0m\u001b[0m\n\u001b[0;32m      3\u001b[0m         \u001b[0mlr\u001b[0m \u001b[1;33m=\u001b[0m \u001b[0mSVC\u001b[0m\u001b[1;33m(\u001b[0m\u001b[0mprobability\u001b[0m\u001b[1;33m=\u001b[0m\u001b[1;32mTrue\u001b[0m\u001b[1;33m,\u001b[0m\u001b[0mkernel\u001b[0m\u001b[1;33m=\u001b[0m\u001b[0mk\u001b[0m\u001b[1;33m,\u001b[0m\u001b[0mC\u001b[0m\u001b[1;33m=\u001b[0m\u001b[0mi\u001b[0m\u001b[1;33m)\u001b[0m\u001b[1;33m\u001b[0m\u001b[1;33m\u001b[0m\u001b[0m\n\u001b[1;32m----> 4\u001b[1;33m         \u001b[0mcvs\u001b[0m \u001b[1;33m=\u001b[0m \u001b[0mcross_val_score\u001b[0m\u001b[1;33m(\u001b[0m\u001b[0mlr\u001b[0m\u001b[1;33m,\u001b[0m\u001b[0mX_train_selected\u001b[0m\u001b[1;33m,\u001b[0m\u001b[0my_train\u001b[0m\u001b[1;33m,\u001b[0m\u001b[0mscoring\u001b[0m\u001b[1;33m=\u001b[0m\u001b[0mmake_scorer\u001b[0m\u001b[1;33m(\u001b[0m\u001b[0mfbeta_score\u001b[0m\u001b[1;33m,\u001b[0m\u001b[0mbeta\u001b[0m\u001b[1;33m=\u001b[0m\u001b[1;36m2\u001b[0m\u001b[1;33m,\u001b[0m\u001b[0maverage\u001b[0m\u001b[1;33m=\u001b[0m\u001b[1;34m'macro'\u001b[0m\u001b[1;33m)\u001b[0m\u001b[1;33m,\u001b[0m\u001b[0mcv\u001b[0m\u001b[1;33m=\u001b[0m\u001b[1;36m5\u001b[0m\u001b[1;33m)\u001b[0m\u001b[1;33m\u001b[0m\u001b[1;33m\u001b[0m\u001b[0m\n\u001b[0m\u001b[0;32m      5\u001b[0m         \u001b[0mprint\u001b[0m\u001b[1;33m(\u001b[0m\u001b[1;33m[\u001b[0m\u001b[0mi\u001b[0m\u001b[1;33m,\u001b[0m\u001b[0mk\u001b[0m\u001b[1;33m,\u001b[0m\u001b[0mcvs\u001b[0m\u001b[1;33m,\u001b[0m\u001b[0mnp\u001b[0m\u001b[1;33m.\u001b[0m\u001b[0mmean\u001b[0m\u001b[1;33m(\u001b[0m\u001b[0mcvs\u001b[0m\u001b[1;33m)\u001b[0m\u001b[1;33m]\u001b[0m\u001b[1;33m)\u001b[0m\u001b[1;33m\u001b[0m\u001b[1;33m\u001b[0m\u001b[0m\n",
      "\u001b[1;32mc:\\users\\xun\\appdata\\local\\programs\\python\\python37\\lib\\site-packages\\sklearn\\model_selection\\_validation.py\u001b[0m in \u001b[0;36mcross_val_score\u001b[1;34m(estimator, X, y, groups, scoring, cv, n_jobs, verbose, fit_params, pre_dispatch, error_score)\u001b[0m\n\u001b[0;32m    387\u001b[0m                                 \u001b[0mfit_params\u001b[0m\u001b[1;33m=\u001b[0m\u001b[0mfit_params\u001b[0m\u001b[1;33m,\u001b[0m\u001b[1;33m\u001b[0m\u001b[1;33m\u001b[0m\u001b[0m\n\u001b[0;32m    388\u001b[0m                                 \u001b[0mpre_dispatch\u001b[0m\u001b[1;33m=\u001b[0m\u001b[0mpre_dispatch\u001b[0m\u001b[1;33m,\u001b[0m\u001b[1;33m\u001b[0m\u001b[1;33m\u001b[0m\u001b[0m\n\u001b[1;32m--> 389\u001b[1;33m                                 error_score=error_score)\n\u001b[0m\u001b[0;32m    390\u001b[0m     \u001b[1;32mreturn\u001b[0m \u001b[0mcv_results\u001b[0m\u001b[1;33m[\u001b[0m\u001b[1;34m'test_score'\u001b[0m\u001b[1;33m]\u001b[0m\u001b[1;33m\u001b[0m\u001b[1;33m\u001b[0m\u001b[0m\n\u001b[0;32m    391\u001b[0m \u001b[1;33m\u001b[0m\u001b[0m\n",
      "\u001b[1;32mc:\\users\\xun\\appdata\\local\\programs\\python\\python37\\lib\\site-packages\\sklearn\\model_selection\\_validation.py\u001b[0m in \u001b[0;36mcross_validate\u001b[1;34m(estimator, X, y, groups, scoring, cv, n_jobs, verbose, fit_params, pre_dispatch, return_train_score, return_estimator, error_score)\u001b[0m\n\u001b[0;32m    233\u001b[0m             \u001b[0mreturn_times\u001b[0m\u001b[1;33m=\u001b[0m\u001b[1;32mTrue\u001b[0m\u001b[1;33m,\u001b[0m \u001b[0mreturn_estimator\u001b[0m\u001b[1;33m=\u001b[0m\u001b[0mreturn_estimator\u001b[0m\u001b[1;33m,\u001b[0m\u001b[1;33m\u001b[0m\u001b[1;33m\u001b[0m\u001b[0m\n\u001b[0;32m    234\u001b[0m             error_score=error_score)\n\u001b[1;32m--> 235\u001b[1;33m         for train, test in cv.split(X, y, groups))\n\u001b[0m\u001b[0;32m    236\u001b[0m \u001b[1;33m\u001b[0m\u001b[0m\n\u001b[0;32m    237\u001b[0m     \u001b[0mzipped_scores\u001b[0m \u001b[1;33m=\u001b[0m \u001b[0mlist\u001b[0m\u001b[1;33m(\u001b[0m\u001b[0mzip\u001b[0m\u001b[1;33m(\u001b[0m\u001b[1;33m*\u001b[0m\u001b[0mscores\u001b[0m\u001b[1;33m)\u001b[0m\u001b[1;33m)\u001b[0m\u001b[1;33m\u001b[0m\u001b[1;33m\u001b[0m\u001b[0m\n",
      "\u001b[1;32mc:\\users\\xun\\appdata\\local\\programs\\python\\python37\\lib\\site-packages\\joblib\\parallel.py\u001b[0m in \u001b[0;36m__call__\u001b[1;34m(self, iterable)\u001b[0m\n\u001b[0;32m   1004\u001b[0m                 \u001b[0mself\u001b[0m\u001b[1;33m.\u001b[0m\u001b[0m_iterating\u001b[0m \u001b[1;33m=\u001b[0m \u001b[0mself\u001b[0m\u001b[1;33m.\u001b[0m\u001b[0m_original_iterator\u001b[0m \u001b[1;32mis\u001b[0m \u001b[1;32mnot\u001b[0m \u001b[1;32mNone\u001b[0m\u001b[1;33m\u001b[0m\u001b[1;33m\u001b[0m\u001b[0m\n\u001b[0;32m   1005\u001b[0m \u001b[1;33m\u001b[0m\u001b[0m\n\u001b[1;32m-> 1006\u001b[1;33m             \u001b[1;32mwhile\u001b[0m \u001b[0mself\u001b[0m\u001b[1;33m.\u001b[0m\u001b[0mdispatch_one_batch\u001b[0m\u001b[1;33m(\u001b[0m\u001b[0miterator\u001b[0m\u001b[1;33m)\u001b[0m\u001b[1;33m:\u001b[0m\u001b[1;33m\u001b[0m\u001b[1;33m\u001b[0m\u001b[0m\n\u001b[0m\u001b[0;32m   1007\u001b[0m                 \u001b[1;32mpass\u001b[0m\u001b[1;33m\u001b[0m\u001b[1;33m\u001b[0m\u001b[0m\n\u001b[0;32m   1008\u001b[0m \u001b[1;33m\u001b[0m\u001b[0m\n",
      "\u001b[1;32mc:\\users\\xun\\appdata\\local\\programs\\python\\python37\\lib\\site-packages\\joblib\\parallel.py\u001b[0m in \u001b[0;36mdispatch_one_batch\u001b[1;34m(self, iterator)\u001b[0m\n\u001b[0;32m    832\u001b[0m                 \u001b[1;32mreturn\u001b[0m \u001b[1;32mFalse\u001b[0m\u001b[1;33m\u001b[0m\u001b[1;33m\u001b[0m\u001b[0m\n\u001b[0;32m    833\u001b[0m             \u001b[1;32melse\u001b[0m\u001b[1;33m:\u001b[0m\u001b[1;33m\u001b[0m\u001b[1;33m\u001b[0m\u001b[0m\n\u001b[1;32m--> 834\u001b[1;33m                 \u001b[0mself\u001b[0m\u001b[1;33m.\u001b[0m\u001b[0m_dispatch\u001b[0m\u001b[1;33m(\u001b[0m\u001b[0mtasks\u001b[0m\u001b[1;33m)\u001b[0m\u001b[1;33m\u001b[0m\u001b[1;33m\u001b[0m\u001b[0m\n\u001b[0m\u001b[0;32m    835\u001b[0m                 \u001b[1;32mreturn\u001b[0m \u001b[1;32mTrue\u001b[0m\u001b[1;33m\u001b[0m\u001b[1;33m\u001b[0m\u001b[0m\n\u001b[0;32m    836\u001b[0m \u001b[1;33m\u001b[0m\u001b[0m\n",
      "\u001b[1;32mc:\\users\\xun\\appdata\\local\\programs\\python\\python37\\lib\\site-packages\\joblib\\parallel.py\u001b[0m in \u001b[0;36m_dispatch\u001b[1;34m(self, batch)\u001b[0m\n\u001b[0;32m    751\u001b[0m         \u001b[1;32mwith\u001b[0m \u001b[0mself\u001b[0m\u001b[1;33m.\u001b[0m\u001b[0m_lock\u001b[0m\u001b[1;33m:\u001b[0m\u001b[1;33m\u001b[0m\u001b[1;33m\u001b[0m\u001b[0m\n\u001b[0;32m    752\u001b[0m             \u001b[0mjob_idx\u001b[0m \u001b[1;33m=\u001b[0m \u001b[0mlen\u001b[0m\u001b[1;33m(\u001b[0m\u001b[0mself\u001b[0m\u001b[1;33m.\u001b[0m\u001b[0m_jobs\u001b[0m\u001b[1;33m)\u001b[0m\u001b[1;33m\u001b[0m\u001b[1;33m\u001b[0m\u001b[0m\n\u001b[1;32m--> 753\u001b[1;33m             \u001b[0mjob\u001b[0m \u001b[1;33m=\u001b[0m \u001b[0mself\u001b[0m\u001b[1;33m.\u001b[0m\u001b[0m_backend\u001b[0m\u001b[1;33m.\u001b[0m\u001b[0mapply_async\u001b[0m\u001b[1;33m(\u001b[0m\u001b[0mbatch\u001b[0m\u001b[1;33m,\u001b[0m \u001b[0mcallback\u001b[0m\u001b[1;33m=\u001b[0m\u001b[0mcb\u001b[0m\u001b[1;33m)\u001b[0m\u001b[1;33m\u001b[0m\u001b[1;33m\u001b[0m\u001b[0m\n\u001b[0m\u001b[0;32m    754\u001b[0m             \u001b[1;31m# A job can complete so quickly than its callback is\u001b[0m\u001b[1;33m\u001b[0m\u001b[1;33m\u001b[0m\u001b[1;33m\u001b[0m\u001b[0m\n\u001b[0;32m    755\u001b[0m             \u001b[1;31m# called before we get here, causing self._jobs to\u001b[0m\u001b[1;33m\u001b[0m\u001b[1;33m\u001b[0m\u001b[1;33m\u001b[0m\u001b[0m\n",
      "\u001b[1;32mc:\\users\\xun\\appdata\\local\\programs\\python\\python37\\lib\\site-packages\\joblib\\_parallel_backends.py\u001b[0m in \u001b[0;36mapply_async\u001b[1;34m(self, func, callback)\u001b[0m\n\u001b[0;32m    199\u001b[0m     \u001b[1;32mdef\u001b[0m \u001b[0mapply_async\u001b[0m\u001b[1;33m(\u001b[0m\u001b[0mself\u001b[0m\u001b[1;33m,\u001b[0m \u001b[0mfunc\u001b[0m\u001b[1;33m,\u001b[0m \u001b[0mcallback\u001b[0m\u001b[1;33m=\u001b[0m\u001b[1;32mNone\u001b[0m\u001b[1;33m)\u001b[0m\u001b[1;33m:\u001b[0m\u001b[1;33m\u001b[0m\u001b[1;33m\u001b[0m\u001b[0m\n\u001b[0;32m    200\u001b[0m         \u001b[1;34m\"\"\"Schedule a func to be run\"\"\"\u001b[0m\u001b[1;33m\u001b[0m\u001b[1;33m\u001b[0m\u001b[0m\n\u001b[1;32m--> 201\u001b[1;33m         \u001b[0mresult\u001b[0m \u001b[1;33m=\u001b[0m \u001b[0mImmediateResult\u001b[0m\u001b[1;33m(\u001b[0m\u001b[0mfunc\u001b[0m\u001b[1;33m)\u001b[0m\u001b[1;33m\u001b[0m\u001b[1;33m\u001b[0m\u001b[0m\n\u001b[0m\u001b[0;32m    202\u001b[0m         \u001b[1;32mif\u001b[0m \u001b[0mcallback\u001b[0m\u001b[1;33m:\u001b[0m\u001b[1;33m\u001b[0m\u001b[1;33m\u001b[0m\u001b[0m\n\u001b[0;32m    203\u001b[0m             \u001b[0mcallback\u001b[0m\u001b[1;33m(\u001b[0m\u001b[0mresult\u001b[0m\u001b[1;33m)\u001b[0m\u001b[1;33m\u001b[0m\u001b[1;33m\u001b[0m\u001b[0m\n",
      "\u001b[1;32mc:\\users\\xun\\appdata\\local\\programs\\python\\python37\\lib\\site-packages\\joblib\\_parallel_backends.py\u001b[0m in \u001b[0;36m__init__\u001b[1;34m(self, batch)\u001b[0m\n\u001b[0;32m    580\u001b[0m         \u001b[1;31m# Don't delay the application, to avoid keeping the input\u001b[0m\u001b[1;33m\u001b[0m\u001b[1;33m\u001b[0m\u001b[1;33m\u001b[0m\u001b[0m\n\u001b[0;32m    581\u001b[0m         \u001b[1;31m# arguments in memory\u001b[0m\u001b[1;33m\u001b[0m\u001b[1;33m\u001b[0m\u001b[1;33m\u001b[0m\u001b[0m\n\u001b[1;32m--> 582\u001b[1;33m         \u001b[0mself\u001b[0m\u001b[1;33m.\u001b[0m\u001b[0mresults\u001b[0m \u001b[1;33m=\u001b[0m \u001b[0mbatch\u001b[0m\u001b[1;33m(\u001b[0m\u001b[1;33m)\u001b[0m\u001b[1;33m\u001b[0m\u001b[1;33m\u001b[0m\u001b[0m\n\u001b[0m\u001b[0;32m    583\u001b[0m \u001b[1;33m\u001b[0m\u001b[0m\n\u001b[0;32m    584\u001b[0m     \u001b[1;32mdef\u001b[0m \u001b[0mget\u001b[0m\u001b[1;33m(\u001b[0m\u001b[0mself\u001b[0m\u001b[1;33m)\u001b[0m\u001b[1;33m:\u001b[0m\u001b[1;33m\u001b[0m\u001b[1;33m\u001b[0m\u001b[0m\n",
      "\u001b[1;32mc:\\users\\xun\\appdata\\local\\programs\\python\\python37\\lib\\site-packages\\joblib\\parallel.py\u001b[0m in \u001b[0;36m__call__\u001b[1;34m(self)\u001b[0m\n\u001b[0;32m    254\u001b[0m         \u001b[1;32mwith\u001b[0m \u001b[0mparallel_backend\u001b[0m\u001b[1;33m(\u001b[0m\u001b[0mself\u001b[0m\u001b[1;33m.\u001b[0m\u001b[0m_backend\u001b[0m\u001b[1;33m,\u001b[0m \u001b[0mn_jobs\u001b[0m\u001b[1;33m=\u001b[0m\u001b[0mself\u001b[0m\u001b[1;33m.\u001b[0m\u001b[0m_n_jobs\u001b[0m\u001b[1;33m)\u001b[0m\u001b[1;33m:\u001b[0m\u001b[1;33m\u001b[0m\u001b[1;33m\u001b[0m\u001b[0m\n\u001b[0;32m    255\u001b[0m             return [func(*args, **kwargs)\n\u001b[1;32m--> 256\u001b[1;33m                     for func, args, kwargs in self.items]\n\u001b[0m\u001b[0;32m    257\u001b[0m \u001b[1;33m\u001b[0m\u001b[0m\n\u001b[0;32m    258\u001b[0m     \u001b[1;32mdef\u001b[0m \u001b[0m__len__\u001b[0m\u001b[1;33m(\u001b[0m\u001b[0mself\u001b[0m\u001b[1;33m)\u001b[0m\u001b[1;33m:\u001b[0m\u001b[1;33m\u001b[0m\u001b[1;33m\u001b[0m\u001b[0m\n",
      "\u001b[1;32mc:\\users\\xun\\appdata\\local\\programs\\python\\python37\\lib\\site-packages\\joblib\\parallel.py\u001b[0m in \u001b[0;36m<listcomp>\u001b[1;34m(.0)\u001b[0m\n\u001b[0;32m    254\u001b[0m         \u001b[1;32mwith\u001b[0m \u001b[0mparallel_backend\u001b[0m\u001b[1;33m(\u001b[0m\u001b[0mself\u001b[0m\u001b[1;33m.\u001b[0m\u001b[0m_backend\u001b[0m\u001b[1;33m,\u001b[0m \u001b[0mn_jobs\u001b[0m\u001b[1;33m=\u001b[0m\u001b[0mself\u001b[0m\u001b[1;33m.\u001b[0m\u001b[0m_n_jobs\u001b[0m\u001b[1;33m)\u001b[0m\u001b[1;33m:\u001b[0m\u001b[1;33m\u001b[0m\u001b[1;33m\u001b[0m\u001b[0m\n\u001b[0;32m    255\u001b[0m             return [func(*args, **kwargs)\n\u001b[1;32m--> 256\u001b[1;33m                     for func, args, kwargs in self.items]\n\u001b[0m\u001b[0;32m    257\u001b[0m \u001b[1;33m\u001b[0m\u001b[0m\n\u001b[0;32m    258\u001b[0m     \u001b[1;32mdef\u001b[0m \u001b[0m__len__\u001b[0m\u001b[1;33m(\u001b[0m\u001b[0mself\u001b[0m\u001b[1;33m)\u001b[0m\u001b[1;33m:\u001b[0m\u001b[1;33m\u001b[0m\u001b[1;33m\u001b[0m\u001b[0m\n",
      "\u001b[1;32mc:\\users\\xun\\appdata\\local\\programs\\python\\python37\\lib\\site-packages\\sklearn\\model_selection\\_validation.py\u001b[0m in \u001b[0;36m_fit_and_score\u001b[1;34m(estimator, X, y, scorer, train, test, verbose, parameters, fit_params, return_train_score, return_parameters, return_n_test_samples, return_times, return_estimator, error_score)\u001b[0m\n\u001b[0;32m    513\u001b[0m             \u001b[0mestimator\u001b[0m\u001b[1;33m.\u001b[0m\u001b[0mfit\u001b[0m\u001b[1;33m(\u001b[0m\u001b[0mX_train\u001b[0m\u001b[1;33m,\u001b[0m \u001b[1;33m**\u001b[0m\u001b[0mfit_params\u001b[0m\u001b[1;33m)\u001b[0m\u001b[1;33m\u001b[0m\u001b[1;33m\u001b[0m\u001b[0m\n\u001b[0;32m    514\u001b[0m         \u001b[1;32melse\u001b[0m\u001b[1;33m:\u001b[0m\u001b[1;33m\u001b[0m\u001b[1;33m\u001b[0m\u001b[0m\n\u001b[1;32m--> 515\u001b[1;33m             \u001b[0mestimator\u001b[0m\u001b[1;33m.\u001b[0m\u001b[0mfit\u001b[0m\u001b[1;33m(\u001b[0m\u001b[0mX_train\u001b[0m\u001b[1;33m,\u001b[0m \u001b[0my_train\u001b[0m\u001b[1;33m,\u001b[0m \u001b[1;33m**\u001b[0m\u001b[0mfit_params\u001b[0m\u001b[1;33m)\u001b[0m\u001b[1;33m\u001b[0m\u001b[1;33m\u001b[0m\u001b[0m\n\u001b[0m\u001b[0;32m    516\u001b[0m \u001b[1;33m\u001b[0m\u001b[0m\n\u001b[0;32m    517\u001b[0m     \u001b[1;32mexcept\u001b[0m \u001b[0mException\u001b[0m \u001b[1;32mas\u001b[0m \u001b[0me\u001b[0m\u001b[1;33m:\u001b[0m\u001b[1;33m\u001b[0m\u001b[1;33m\u001b[0m\u001b[0m\n",
      "\u001b[1;32mc:\\users\\xun\\appdata\\local\\programs\\python\\python37\\lib\\site-packages\\sklearn\\svm\\_base.py\u001b[0m in \u001b[0;36mfit\u001b[1;34m(self, X, y, sample_weight)\u001b[0m\n\u001b[0;32m    197\u001b[0m \u001b[1;33m\u001b[0m\u001b[0m\n\u001b[0;32m    198\u001b[0m         \u001b[0mseed\u001b[0m \u001b[1;33m=\u001b[0m \u001b[0mrnd\u001b[0m\u001b[1;33m.\u001b[0m\u001b[0mrandint\u001b[0m\u001b[1;33m(\u001b[0m\u001b[0mnp\u001b[0m\u001b[1;33m.\u001b[0m\u001b[0miinfo\u001b[0m\u001b[1;33m(\u001b[0m\u001b[1;34m'i'\u001b[0m\u001b[1;33m)\u001b[0m\u001b[1;33m.\u001b[0m\u001b[0mmax\u001b[0m\u001b[1;33m)\u001b[0m\u001b[1;33m\u001b[0m\u001b[1;33m\u001b[0m\u001b[0m\n\u001b[1;32m--> 199\u001b[1;33m         \u001b[0mfit\u001b[0m\u001b[1;33m(\u001b[0m\u001b[0mX\u001b[0m\u001b[1;33m,\u001b[0m \u001b[0my\u001b[0m\u001b[1;33m,\u001b[0m \u001b[0msample_weight\u001b[0m\u001b[1;33m,\u001b[0m \u001b[0msolver_type\u001b[0m\u001b[1;33m,\u001b[0m \u001b[0mkernel\u001b[0m\u001b[1;33m,\u001b[0m \u001b[0mrandom_seed\u001b[0m\u001b[1;33m=\u001b[0m\u001b[0mseed\u001b[0m\u001b[1;33m)\u001b[0m\u001b[1;33m\u001b[0m\u001b[1;33m\u001b[0m\u001b[0m\n\u001b[0m\u001b[0;32m    200\u001b[0m         \u001b[1;31m# see comment on the other call to np.iinfo in this file\u001b[0m\u001b[1;33m\u001b[0m\u001b[1;33m\u001b[0m\u001b[1;33m\u001b[0m\u001b[0m\n\u001b[0;32m    201\u001b[0m \u001b[1;33m\u001b[0m\u001b[0m\n",
      "\u001b[1;32mc:\\users\\xun\\appdata\\local\\programs\\python\\python37\\lib\\site-packages\\sklearn\\svm\\_base.py\u001b[0m in \u001b[0;36m_dense_fit\u001b[1;34m(self, X, y, sample_weight, solver_type, kernel, random_seed)\u001b[0m\n\u001b[0;32m    256\u001b[0m                 \u001b[0mcache_size\u001b[0m\u001b[1;33m=\u001b[0m\u001b[0mself\u001b[0m\u001b[1;33m.\u001b[0m\u001b[0mcache_size\u001b[0m\u001b[1;33m,\u001b[0m \u001b[0mcoef0\u001b[0m\u001b[1;33m=\u001b[0m\u001b[0mself\u001b[0m\u001b[1;33m.\u001b[0m\u001b[0mcoef0\u001b[0m\u001b[1;33m,\u001b[0m\u001b[1;33m\u001b[0m\u001b[1;33m\u001b[0m\u001b[0m\n\u001b[0;32m    257\u001b[0m                 \u001b[0mgamma\u001b[0m\u001b[1;33m=\u001b[0m\u001b[0mself\u001b[0m\u001b[1;33m.\u001b[0m\u001b[0m_gamma\u001b[0m\u001b[1;33m,\u001b[0m \u001b[0mepsilon\u001b[0m\u001b[1;33m=\u001b[0m\u001b[0mself\u001b[0m\u001b[1;33m.\u001b[0m\u001b[0mepsilon\u001b[0m\u001b[1;33m,\u001b[0m\u001b[1;33m\u001b[0m\u001b[1;33m\u001b[0m\u001b[0m\n\u001b[1;32m--> 258\u001b[1;33m                 max_iter=self.max_iter, random_seed=random_seed)\n\u001b[0m\u001b[0;32m    259\u001b[0m \u001b[1;33m\u001b[0m\u001b[0m\n\u001b[0;32m    260\u001b[0m         \u001b[0mself\u001b[0m\u001b[1;33m.\u001b[0m\u001b[0m_warn_from_fit_status\u001b[0m\u001b[1;33m(\u001b[0m\u001b[1;33m)\u001b[0m\u001b[1;33m\u001b[0m\u001b[1;33m\u001b[0m\u001b[0m\n",
      "\u001b[1;31mKeyboardInterrupt\u001b[0m: "
     ]
    }
   ],
   "source": [
    "for i in [1,10,100]:\n",
    "    for k in ['linear','poly','rbf','sigmoid']:\n",
    "        lr = SVC(probability=True,kernel=k,C=i)\n",
    "        cvs = cross_val_score(lr,X_train_selected,y_train,scoring=make_scorer(fbeta_score,beta=2,average='macro'),cv=5) \n",
    "        print([i,k,cvs,np.mean(cvs)])"
   ]
  },
  {
   "cell_type": "code",
   "execution_count": 170,
   "metadata": {},
   "outputs": [
    {
     "name": "stdout",
     "output_type": "stream",
     "text": [
      "0.5070299002025545 0.48821368710103064\n"
     ]
    }
   ],
   "source": [
    "lsvc = SVC(C=100,kernel='sigmoid',probability=True,random_state=0).fit(X_train_selected, y_train)\n",
    "print(fbeta_score(y_train,lsvc.predict(X_train_selected),beta=2,average='macro'),\n",
    "      fbeta_score(y_test,lsvc.predict(X_test_selected),beta=2,average='macro'))"
   ]
  },
  {
   "cell_type": "markdown",
   "metadata": {},
   "source": [
    "### Logistic"
   ]
  },
  {
   "cell_type": "code",
   "execution_count": 171,
   "metadata": {},
   "outputs": [
    {
     "name": "stdout",
     "output_type": "stream",
     "text": [
      "[0.01, array([0.47805643, 0.47805643, 0.47805643, 0.47827061, 0.47827061]), 0.4781420995269715]\n",
      "[0.1, array([0.48463193, 0.47805643, 0.47805643, 0.47736441, 0.47827061]), 0.4792759610072004]\n",
      "[1, array([0.48715249, 0.48741688, 0.48278651, 0.48775774, 0.51016255]), 0.49105523388894545]\n",
      "[10, array([0.48619127, 0.51730898, 0.49577679, 0.48681553, 0.50620451]), 0.4984594155480817]\n",
      "[100, array([0.4905302 , 0.52047015, 0.49930816, 0.49426824, 0.5169318 ]), 0.5043017097510761]\n",
      "[1000.0, array([0.4905302 , 0.5224618 , 0.51201832, 0.4933099 , 0.52324078]), 0.5083122006934587]\n",
      "[10000.0, array([0.4905302 , 0.5224618 , 0.51201832, 0.4933099 , 0.52324078]), 0.5083122006934587]\n",
      "[100000.0, array([0.4905302 , 0.5224618 , 0.51201832, 0.4933099 , 0.52324078]), 0.5083122006934587]\n",
      "[1000000.0, array([0.4905302 , 0.5224618 , 0.51201832, 0.4933099 , 0.52324078]), 0.5083122006934587]\n",
      "[10000000.0, array([0.4905302 , 0.5224618 , 0.51201832, 0.4933099 , 0.52324078]), 0.5083122006934587]\n"
     ]
    }
   ],
   "source": [
    "for i in [0.01,0.1,1,10,100,1e3,1e4,1e5,1e6,1e7]:\n",
    "    lr = LogisticRegression(C=i)\n",
    "    cvs = cross_val_score(lr,X_train_selected,y_train,scoring=make_scorer(fbeta_score,beta=2,average='macro'),cv=5) \n",
    "    print([i,cvs,np.mean(cvs)])"
   ]
  },
  {
   "cell_type": "code",
   "execution_count": 190,
   "metadata": {},
   "outputs": [
    {
     "name": "stdout",
     "output_type": "stream",
     "text": [
      "0.5165740369192977 0.49756238993170393\n"
     ]
    }
   ],
   "source": [
    "lg = LogisticRegression(C=1e3).fit(X_train_selected, y_train)\n",
    "print(fbeta_score(y_train,lg.predict(X_train_selected),beta=2,average='macro'),\n",
    "      fbeta_score(y_test,lg.predict(X_test_selected),beta=2,average='macro'))"
   ]
  },
  {
   "cell_type": "markdown",
   "metadata": {},
   "source": [
    "### Ridge"
   ]
  },
  {
   "cell_type": "code",
   "execution_count": 180,
   "metadata": {},
   "outputs": [
    {
     "name": "stdout",
     "output_type": "stream",
     "text": [
      "[0.001, array([0.49117534, 0.48463193, 0.47805643, 0.47827061, 0.47736441]), 0.48189974366912613]\n",
      "[0.01, array([0.49117534, 0.48463193, 0.47805643, 0.47827061, 0.47736441]), 0.48189974366912613]\n",
      "[0.1, array([0.48463193, 0.48463193, 0.47805643, 0.47827061, 0.47827061]), 0.48077230198374127]\n",
      "[1, array([0.48463193, 0.47805643, 0.47805643, 0.47736441, 0.47827061]), 0.4792759610072004]\n",
      "[10, array([0.47805643, 0.47805643, 0.47805643, 0.47827061, 0.47827061]), 0.4781420995269715]\n",
      "[100, array([0.47805643, 0.47805643, 0.47805643, 0.47827061, 0.47827061]), 0.4781420995269715]\n"
     ]
    }
   ],
   "source": [
    "for i in [0.001,0.01,0.1,1,10,100]:\n",
    "    lr = RidgeClassifier(alpha=i)\n",
    "    cvs = cross_val_score(lr,X_train_selected,y_train,scoring=make_scorer(fbeta_score,beta=2,average='macro'),cv=5) \n",
    "    print([i,cvs,np.mean(cvs)])"
   ]
  },
  {
   "cell_type": "code",
   "execution_count": 184,
   "metadata": {},
   "outputs": [
    {
     "name": "stdout",
     "output_type": "stream",
     "text": [
      "0.48078661100298353 0.4801324503311258\n"
     ]
    }
   ],
   "source": [
    "ridge = RidgeClassifier(alpha=0.1).fit(X_train_selected, y_train)\n",
    "print(fbeta_score(y_train,ridge.predict(X_train_selected),beta=2,average='macro'),\n",
    "      fbeta_score(y_test,ridge.predict(X_test_selected),beta=2,average='macro'))"
   ]
  },
  {
   "cell_type": "markdown",
   "metadata": {},
   "source": [
    "### KNN"
   ]
  },
  {
   "cell_type": "code",
   "execution_count": 185,
   "metadata": {},
   "outputs": [
    {
     "name": "stdout",
     "output_type": "stream",
     "text": [
      "[2, array([0.52141144, 0.49179547, 0.54039307, 0.51077781, 0.49342377]), 0.5115603112614872]\n",
      "[3, array([0.52570011, 0.49789272, 0.59246661, 0.54203995, 0.54827231]), 0.5412743386392483]\n",
      "[4, array([0.49279017, 0.50198413, 0.54339497, 0.51493613, 0.51597506]), 0.5138160909318628]\n",
      "[5, array([0.52867334, 0.51088781, 0.5701581 , 0.5323835 , 0.52575723]), 0.5335719954423528]\n",
      "[6, array([0.49775643, 0.51321952, 0.53572207, 0.49195998, 0.51795365]), 0.5113223311107933]\n"
     ]
    }
   ],
   "source": [
    "for i in [2,3,4,5,6]:\n",
    "    lr = KNeighborsClassifier(n_neighbors=i)\n",
    "    cvs = cross_val_score(lr,X_train_selected,y_train,scoring=make_scorer(fbeta_score,beta=2,average='macro'),cv=5) \n",
    "    print([i,cvs,np.mean(cvs)])"
   ]
  },
  {
   "cell_type": "code",
   "execution_count": 188,
   "metadata": {},
   "outputs": [
    {
     "name": "stdout",
     "output_type": "stream",
     "text": [
      "0.7088292350721553 0.5270258050727038\n"
     ]
    }
   ],
   "source": [
    "knn = KNeighborsClassifier(n_neighbors=3).fit(X_train_selected, y_train)\n",
    "print(fbeta_score(y_train,knn.predict(X_train_selected),beta=2,average='macro'),\n",
    "      fbeta_score(y_test,knn.predict(X_test_selected),beta=2,average='macro'))"
   ]
  },
  {
   "cell_type": "markdown",
   "metadata": {},
   "source": [
    "## Evaluation"
   ]
  },
  {
   "cell_type": "markdown",
   "metadata": {},
   "source": [
    "### Precision-Recall"
   ]
  },
  {
   "cell_type": "code",
   "execution_count": 195,
   "metadata": {},
   "outputs": [
    {
     "data": {
      "image/png": "[encoded data removed]",
      "text/plain": [
       "<Figure size 504x504 with 1 Axes>"
      ]
     },
     "metadata": {
      "needs_background": "light"
     },
     "output_type": "display_data"
    }
   ],
   "source": [
    "plt.figure(figsize=(7,7))\n",
    "plt.xlim([0.0, 1.01])\n",
    "plt.ylim([0.0, 1.01])\n",
    "\n",
    "dummy_clf_df = dummy_clf.predict_proba(X_train_selected)[:,1]\n",
    "precision_dummy_clf, recall_dummy_clf, thresholds = precision_recall_curve(y_train, dummy_clf_df)\n",
    "plt.plot(precision_dummy_clf, recall_dummy_clf, label='Dummy')\n",
    "plt.plot(precision_score(y_train,dummy_clf.predict(X_train_selected)), recall_score(y_train,dummy_clf.predict(X_train_selected)), 'o', markersize = 12, fillstyle = 'none', c='r', mew=3)\n",
    "\n",
    "clf_df = clf.predict_proba(X_train_selected)[:,1]\n",
    "precision_clf, recall_clf, thresholds = precision_recall_curve(y_train, clf_df)\n",
    "plt.plot(precision_clf, recall_clf, label='Random Forest')\n",
    "plt.plot(precision_score(y_train,clf.predict(X_train_selected)), recall_score(y_train,clf.predict(X_train_selected)), 'o', markersize = 12, fillstyle = 'none', c='r', mew=3)\n",
    "\n",
    "gbdt_df = gbdt.predict_proba(X_train_selected)[:,1]\n",
    "precision_gbdt, recall_gbdt, thresholds = precision_recall_curve(y_train, gbdt_df)\n",
    "plt.plot(precision_gbdt, recall_gbdt, label='Boosting')\n",
    "plt.plot(precision_score(y_train,gbdt.predict(X_train_selected)), recall_score(y_train,gbdt.predict(X_train_selected)), 'o', markersize = 12, fillstyle = 'none', c='r', mew=3)\n",
    "\n",
    "# lsvc_df = lsvc.predict_proba(X_train_selected)[:,1]\n",
    "# precision_lsvc, recall_lsvc, thresholds = precision_recall_curve(y_train, lsvc_df)\n",
    "# plt.plot(precision_lsvc, recall_lsvc, label='SVM')\n",
    "# plt.plot(precision_score(y_train,lsvc.predict(X_train_selected)), recall_score(y_train,lsvc.predict(X_train_selected)), 'o', markersize = 12, fillstyle = 'none', c='r', mew=3)\n",
    "\n",
    "lg_df = lg.predict_proba(X_train_selected)[:,1]\n",
    "precision_lg, recall_lg, thresholds = precision_recall_curve(y_train, lg_df)\n",
    "plt.plot(precision_lg, recall_lg, label='Logistic')\n",
    "plt.plot(precision_score(y_train,lg.predict(X_train_selected)), recall_score(y_train,lg.predict(X_train_selected)), 'o', markersize = 12, fillstyle = 'none', c='r', mew=3)\n",
    "\n",
    "ridge_df = np.exp(ridge.decision_function(X_train_selected)) / np.sum(np.exp(ridge.decision_function(X_train_selected)))\n",
    "precision_ridge, recall_ridge, thresholds = precision_recall_curve(y_train, ridge_df)\n",
    "plt.plot(precision_ridge, recall_ridge, label='Ridge')\n",
    "plt.plot(precision_score(y_train,ridge.predict(X_train_selected)), recall_score(y_train,ridge.predict(X_train_selected)), 'o', markersize = 12, fillstyle = 'none', c='r', mew=3)\n",
    "\n",
    "knn_df = knn.predict_proba(X_train_selected)[:,1]\n",
    "precision_knn, recall_knn, thresholds = precision_recall_curve(y_train, knn_df)\n",
    "plt.plot(precision_knn, recall_knn, label='KNN(N=3)')\n",
    "plt.plot(precision_score(y_train,knn.predict(X_train_selected)), recall_score(y_train,knn.predict(X_train_selected)), 'o', markersize = 12, fillstyle = 'none', c='r', mew=3)\n",
    "\n",
    "plt.xlabel('Precision', fontsize=16)\n",
    "plt.ylabel('Recall', fontsize=16)\n",
    "plt.title('Precision-Recall curve(threshold=0.5)', fontsize=16)\n",
    "plt.legend(loc='lower left', fontsize=10)\n",
    "plt.axes().set_aspect('equal')\n",
    "plt.show()"
   ]
  },
  {
   "cell_type": "markdown",
   "metadata": {},
   "source": [
    "### Precision-Recall-Threshold-Adjustment"
   ]
  },
  {
   "cell_type": "code",
   "execution_count": 203,
   "metadata": {},
   "outputs": [
    {
     "data": {
      "text/plain": [
       "array([0.00022784, 0.0002279 , 0.00022796, ..., 0.00068953, 0.00069905,\n",
       "       0.00072064])"
      ]
     },
     "execution_count": 203,
     "metadata": {},
     "output_type": "execute_result"
    }
   ],
   "source": [
    "ridge_df = np.exp(ridge.decision_function(X_train_selected)) / np.sum(np.exp(ridge.decision_function(X_train_selected)))\n",
    "precision_ridge, recall_ridge, thresholds = precision_recall_curve(y_train, ridge_df)\n",
    "thresholds"
   ]
  },
  {
   "cell_type": "code",
   "execution_count": 214,
   "metadata": {
    "scrolled": false
   },
   "outputs": [
    {
     "data": {
      "image/png": "[encoded data removed]",
      "text/plain": [
       "<Figure size 504x504 with 1 Axes>"
      ]
     },
     "metadata": {
      "needs_background": "light"
     },
     "output_type": "display_data"
    }
   ],
   "source": [
    "plt.figure(figsize=(7,7))\n",
    "plt.xlim([-0.0, 1.01])\n",
    "plt.ylim([-0.0, 1.01])\n",
    "\n",
    "dummy_clf_df = dummy_clf.predict_proba(X_train_selected)[:,1]\n",
    "precision_dummy_clf, recall_dummy_clf, thresholds = precision_recall_curve(y_train, dummy_clf_df)\n",
    "plt.plot(np.hstack((0,thresholds)),recall_dummy_clf, label='Dummy')\n",
    "\n",
    "clf_df = clf.predict_proba(X_train_selected)[:,1]\n",
    "precision_clf, recall_clf, thresholds = precision_recall_curve(y_train, clf_df)\n",
    "plt.plot(np.hstack((0,thresholds)), recall_clf, label='Random Forest')\n",
    "\n",
    "gbdt_df = gbdt.predict_proba(X_train_selected)[:,1]\n",
    "precision_gbdt, recall_gbdt, thresholds = precision_recall_curve(y_train, gbdt_df)\n",
    "plt.plot(np.hstack((0,thresholds)), recall_gbdt, label='Boosting')\n",
    "#plt.plot(precision_score(y_train,gbdt.predict(X_train_selected)), recall_score(y_train,gbdt.predict(X_train_selected)), 'o', markersize = 12, fillstyle = 'none', c='r', mew=3)\n",
    "\n",
    "# lsvc_df = lsvc.predict_proba(X_train_selected)[:,1]\n",
    "# precision_lsvc, recall_lsvc, thresholds = precision_recall_curve(y_train, lsvc_df)\n",
    "# plt.plot(np.hstack((0,thresholds)), recall_lsvc, label='SVM')\n",
    "# #plt.plot(precision_score(y_train,lsvc.predict(X_train_selected)), recall_score(y_train,lsvc.predict(X_train_selected)), 'o', markersize = 12, fillstyle = 'none', c='r', mew=3)\n",
    "\n",
    "lg_df = lg.predict_proba(X_train_selected)[:,1]\n",
    "precision_lg, recall_lg, thresholds = precision_recall_curve(y_train, lg_df)\n",
    "plt.plot(np.hstack((0,thresholds)), recall_lg, label='Logistic')\n",
    "#plt.plot(precision_score(y_train,lr.predict(X_train_selected)), recall_score(y_train,lr.predict(X_train_selected)), 'o', markersize = 12, fillstyle = 'none', c='r', mew=3)\n",
    "\n",
    "#ridge_df = np.exp(ridge.decision_function(X_train_selected)) / np.sum(np.exp(ridge.decision_function(X_train_selected)))\n",
    "ridge_df = ridge.decision_function(X_train_selected)\n",
    "precision_ridge, recall_ridge, thresholds = precision_recall_curve(y_train, ridge_df)\n",
    "plt.plot(np.hstack((0,thresholds)), recall_ridge, label='Ridge',linewidth=3)\n",
    "#plt.plot(precision_score(y_train,ridge.predict(X_train_selected)), recall_score(y_train,ridge.predict(X_train_selected)), 'o', markersize = 12, fillstyle = 'none', c='r', mew=3)\n",
    "\n",
    "knn_df = knn.predict_proba(X_train_selected)[:,1]\n",
    "precision_knn, recall_knn, thresholds = precision_recall_curve(y_train, knn_df)\n",
    "plt.plot(np.hstack((0,thresholds)), recall_knn, label='KNN(N=3)',linewidth=2)\n",
    "\n",
    "plt.vlines(0.2,ymin=0,ymax=1,linestyle='dashed',colors='grey')\n",
    "plt.vlines(0.5,ymin=0,ymax=1,linestyle='dashed',colors='grey')\n",
    "\n",
    "plt.xlabel('Threshold', fontsize=16)\n",
    "plt.ylabel('Recall', fontsize=16)\n",
    "plt.title('Threshold-Recall curve', fontsize=16)\n",
    "plt.legend(loc='lower left', fontsize=10)\n",
    "plt.axes().set_aspect('equal')\n",
    "plt.show()"
   ]
  },
  {
   "cell_type": "code",
   "execution_count": 211,
   "metadata": {},
   "outputs": [
    {
     "data": {
      "image/png": "[encoded data removed]",
      "text/plain": [
       "<Figure size 504x504 with 1 Axes>"
      ]
     },
     "metadata": {
      "needs_background": "light"
     },
     "output_type": "display_data"
    }
   ],
   "source": [
    "plt.figure(figsize=(7,7))\n",
    "plt.xlim([0.0, 1.01])\n",
    "plt.ylim([0.0, 1.01])\n",
    "\n",
    "dummy_clf_df = dummy_clf.predict_proba(X_train_selected)[:,1]\n",
    "precision_dummy_clf, recall_dummy_clf, thresholds = precision_recall_curve(y_train, dummy_clf_df)\n",
    "plt.plot(precision_dummy_clf, recall_dummy_clf, label='Dummy')\n",
    "plt.plot(precision_score(y_train,1*(dummy_clf_df>=0.2)), recall_score(y_train,1*(dummy_clf_df>=0.2)), 'o', markersize = 12, fillstyle = 'none', c='r', mew=3)\n",
    "\n",
    "clf_df = clf.predict_proba(X_train_selected)[:,1]\n",
    "precision_clf, recall_clf, thresholds = precision_recall_curve(y_train, clf_df)\n",
    "plt.plot(precision_clf, recall_clf, label='Random Forest')\n",
    "plt.plot(precision_score(y_train,1*(clf_df>=0.2)), recall_score(y_train,1*(clf_df>=0.2)), 'o', markersize = 12, fillstyle = 'none', c='r', mew=3)\n",
    "\n",
    "gbdt_df = gbdt.predict_proba(X_train_selected)[:,1]\n",
    "precision_gbdt, recall_gbdt, thresholds = precision_recall_curve(y_train, gbdt_df)\n",
    "plt.plot(precision_gbdt, recall_gbdt, label='Boosting')\n",
    "plt.plot(precision_score(y_train,1*(gbdt_df>=0.2)), recall_score(y_train,1*(gbdt_df>=0.2)), 'o', markersize = 12, fillstyle = 'none', c='r', mew=3)\n",
    "\n",
    "# lsvc_df = lsvc.predict_proba(X_train_selected)[:,1]\n",
    "# precision_lsvc, recall_lsvc, thresholds = precision_recall_curve(y_train, lsvc_df)\n",
    "# plt.plot(precision_lsvc, recall_lsvc, label='SVM')\n",
    "# plt.plot(precision_score(y_train,1*(lsvc_df>=0.2)), recall_score(y_train,1*(lsvc_df>=0.2)), 'o', markersize = 12, fillstyle = 'none', c='r', mew=3)\n",
    "\n",
    "lg_df = lg.predict_proba(X_train_selected)[:,1]\n",
    "precision_lg, recall_lg, thresholds = precision_recall_curve(y_train, lg_df)\n",
    "plt.plot(precision_lg, recall_lg, label='Logistic')\n",
    "plt.plot(precision_score(y_train,1*(lg_df>=0.2)), recall_score(y_train,1*(lg_df>=0.2)), 'o', markersize = 12, fillstyle = 'none', c='r', mew=3)\n",
    "\n",
    "ridge_df = np.exp(ridge.decision_function(X_train_selected)) / np.sum(np.exp(ridge.decision_function(X_train_selected)))\n",
    "precision_ridge, recall_ridge, thresholds = precision_recall_curve(y_train, ridge_df)\n",
    "plt.plot(precision_ridge, recall_ridge, label='Ridge')\n",
    "plt.plot(precision_score(y_train,1*(ridge_df>=0.2)), recall_score(y_train,1*(ridge_df>=0.2)), 'o', markersize = 12, fillstyle = 'none', c='r', mew=3)\n",
    "\n",
    "knn_df = knn.predict_proba(X_train_selected)[:,1]\n",
    "precision_knn, recall_knn, thresholds = precision_recall_curve(y_train, knn_df)\n",
    "plt.plot(precision_knn, recall_knn, label='KNN(N=3)')\n",
    "plt.plot(precision_score(y_train,1*(knn_df>=0.2)), recall_score(y_train,1*(knn_df>=0.2)), 'o', markersize = 12, fillstyle = 'none', c='r', mew=3)\n",
    "\n",
    "plt.xlabel('Precision', fontsize=16)\n",
    "plt.ylabel('Recall', fontsize=16)\n",
    "plt.title('Adjusted Precision-Recall curve(threshold=0.2)', fontsize=16)\n",
    "plt.legend(loc='lower left', fontsize=10)\n",
    "plt.axes().set_aspect('equal')\n",
    "plt.show()"
   ]
  },
  {
   "cell_type": "markdown",
   "metadata": {},
   "source": [
    "### ROC"
   ]
  },
  {
   "cell_type": "code",
   "execution_count": 213,
   "metadata": {
    "scrolled": false
   },
   "outputs": [
    {
     "data": {
      "image/png": "[encoded data removed]",
      "text/plain": [
       "<Figure size 504x504 with 1 Axes>"
      ]
     },
     "metadata": {
      "needs_background": "light"
     },
     "output_type": "display_data"
    }
   ],
   "source": [
    "plt.figure(figsize=(7,7))\n",
    "plt.xlim([0.0, 1.01])\n",
    "plt.ylim([0.0, 1.01])\n",
    "\n",
    "fpr, tpr, _ = roc_curve(y_train, dummy_clf_df)  \n",
    "roc_auc = auc(fpr, tpr) \n",
    "plt.plot(fpr, tpr, lw=3, label='Dummy = {:0.2f}'.format(roc_auc))\n",
    "\n",
    "fpr, tpr, _ = roc_curve(y_train, clf_df)  \n",
    "roc_auc = auc(fpr, tpr) \n",
    "plt.plot(fpr, tpr, lw=3, label='Random Forest = {:0.2f}'.format(roc_auc))\n",
    "\n",
    "fpr, tpr, _ = roc_curve(y_train, gbdt_df)  \n",
    "roc_auc = auc(fpr, tpr) \n",
    "plt.plot(fpr, tpr, lw=3, label='Gradient Boosting = {:0.2f}'.format(roc_auc))\n",
    "\n",
    "# fpr, tpr, _ = roc_curve(y_train, lsvc_df)  \n",
    "# roc_auc = auc(fpr, tpr) \n",
    "# plt.plot(fpr, tpr, lw=3, label='SVM = {:0.2f}'.format(roc_auc))\n",
    "\n",
    "fpr, tpr, _ = roc_curve(y_train, lg_df)  \n",
    "roc_auc = auc(fpr, tpr) \n",
    "plt.plot(fpr, tpr, lw=3, label='Logistic = {:0.2f}'.format(roc_auc))\n",
    "\n",
    "fpr, tpr, _ = roc_curve(y_train, ridge_df)  \n",
    "roc_auc = auc(fpr, tpr) \n",
    "plt.plot(fpr, tpr, lw=3, label='Ridge = {:0.2f}'.format(roc_auc))\n",
    "\n",
    "fpr, tpr, _ = roc_curve(y_train, knn_df)  \n",
    "roc_auc = auc(fpr, tpr) \n",
    "plt.plot(fpr, tpr, lw=3, label='KNN(N=3) = {:0.2f}'.format(roc_auc))\n",
    "\n",
    "plt.xlabel('False Positive Rate', fontsize=16)\n",
    "plt.ylabel('True Positive Rate', fontsize=16)\n",
    "plt.title('ROC curve', fontsize=16)\n",
    "plt.legend(loc='lower right', fontsize=13)\n",
    "plt.plot([0, 1], [0, 1], color='navy', lw=3, linestyle='--')\n",
    "plt.axes().set_aspect('equal')\n",
    "plt.show()"
   ]
  },
  {
   "cell_type": "markdown",
   "metadata": {},
   "source": [
    "### F1 score, beta=2"
   ]
  },
  {
   "cell_type": "code",
   "execution_count": 215,
   "metadata": {},
   "outputs": [],
   "source": [
    "f1_train=[fbeta_score(y_train,dummy_clf.predict(X_train_selected),beta=2,average='macro'),\n",
    "          fbeta_score(y_train,clf.predict(X_train_selected),beta=2,average='macro'),\n",
    "          fbeta_score(y_train,gbdt.predict(X_train_selected),beta=2,average='macro'),\n",
    "          #fbeta_score(y_train,lsvc.predict(X_train_selected),beta=2,average='macro'),\n",
    "          fbeta_score(y_train,lg.predict(X_train_selected),beta=2,average='macro'),\n",
    "          fbeta_score(y_train,ridge.predict(X_train_selected),beta=2,average='macro'),\n",
    "          fbeta_score(y_train,knn.predict(X_train_selected),beta=2,average='macro')]\n",
    "f1_train_adjust=[\n",
    "          fbeta_score(y_train,1*(dummy_clf_df)>=0.2,beta=2,average='macro'),\n",
    "          fbeta_score(y_train,1*(clf_df>=0.2),beta=2,average='macro'),\n",
    "          fbeta_score(y_train,1*(gbdt_df>=0.2),beta=2,average='macro'),\n",
    "          #fbeta_score(y_train,1*(lsvc_df>=0.2),beta=2,average='macro'),\n",
    "          fbeta_score(y_train,1*(lg_df>=0.2),beta=2,average='macro'),\n",
    "          fbeta_score(y_train,1*(ridge_df>=0.2),beta=2,average='macro'),\n",
    "          fbeta_score(y_train,1*(knn_df>=0.2),beta=2,average='macro')]\n",
    "acc_train=[accuracy_score(y_train,dummy_clf.predict(X_train_selected)),\n",
    "          accuracy_score(y_train,clf.predict(X_train_selected)),\n",
    "          accuracy_score(y_train,gbdt.predict(X_train_selected)),\n",
    "          #accuracy_score(y_train,lsvc.predict(X_train_selected)),\n",
    "          accuracy_score(y_train,lg.predict(X_train_selected)),\n",
    "          accuracy_score(y_train,ridge.predict(X_train_selected)),\n",
    "          accuracy_score(y_train,knn.predict(X_train_selected))]\n",
    "acc_train_adjust=[accuracy_score(y_train,1*(dummy_clf_df)>=0.2),\n",
    "          accuracy_score(y_train,1*(clf_df)>=0.2),\n",
    "          accuracy_score(y_train,1*(gbdt_df>=0.2)),\n",
    "          #accuracy_score(y_train,lsvc.predict(X_train_selected)),\n",
    "          accuracy_score(y_train,1*(lg_df>=0.2)),\n",
    "          accuracy_score(y_train,1*(ridge_df>=0.2)),\n",
    "          accuracy_score(y_train,1*(knn_df>=0.2))]"
   ]
  },
  {
   "cell_type": "markdown",
   "metadata": {},
   "source": [
    "## Prediction"
   ]
  },
  {
   "cell_type": "markdown",
   "metadata": {},
   "source": [
    "### Precision-Recall Adjusted"
   ]
  },
  {
   "cell_type": "code",
   "execution_count": 225,
   "metadata": {},
   "outputs": [
    {
     "data": {
      "image/png": "[encoded data removed]",
      "text/plain": [
       "<Figure size 504x504 with 1 Axes>"
      ]
     },
     "metadata": {
      "needs_background": "light"
     },
     "output_type": "display_data"
    }
   ],
   "source": [
    "plt.figure(figsize=(7,7))\n",
    "plt.xlim([0.0, 1.01])\n",
    "plt.ylim([0.0, 1.01])\n",
    "\n",
    "dummy_clf_df = dummy_clf.predict_proba(X_test_selected)[:,1]\n",
    "precision_dummy_clf, recall_dummy_clf, thresholds = precision_recall_curve(y_test, dummy_clf_df)\n",
    "plt.plot(precision_dummy_clf, recall_dummy_clf, label='Dummy')\n",
    "plt.plot(precision_score(y_test,1*(dummy_clf_df>=0.2)), recall_score(y_test,1*(dummy_clf_df>=0.2)), 'o', markersize = 12, fillstyle = 'none', c='r', mew=3)\n",
    "\n",
    "clf_df = clf.predict_proba(X_test_selected)[:,1]\n",
    "precision_clf, recall_clf, thresholds = precision_recall_curve(y_test, clf_df)\n",
    "plt.plot(precision_clf, recall_clf, label='Random Forest')\n",
    "plt.plot(precision_score(y_test,1*(clf_df>=0.2)), recall_score(y_test,1*(clf_df>=0.2)), 'o', markersize = 12, fillstyle = 'none', c='r', mew=3)\n",
    "\n",
    "gbdt_df = gbdt.predict_proba(X_test_selected)[:,1]\n",
    "precision_gbdt, recall_gbdt, thresholds = precision_recall_curve(y_test, gbdt_df)\n",
    "plt.plot(precision_gbdt, recall_gbdt, label='Boosting')\n",
    "plt.plot(precision_score(y_test,1*(gbdt_df>=0.2)), recall_score(y_test,1*(gbdt_df>=0.2)), 'o', markersize = 12, fillstyle = 'none', c='r', mew=3)\n",
    "\n",
    "# lsvc_df = lsvc.predict_proba(X_test_selected)[:,1]\n",
    "# precision_lsvc, recall_lsvc, thresholds = precision_recall_curve(y_test, lsvc_df)\n",
    "# plt.plot(precision_lsvc, recall_lsvc, label='SVM')\n",
    "# plt.plot(precision_score(y_test,1*(lsvc_df>=0.2)), recall_score(y_test,1*(lsvc_df>=0.2)), 'o', markersize = 12, fillstyle = 'none', c='r', mew=3)\n",
    "\n",
    "lg_df = lg.predict_proba(X_test_selected)[:,1]\n",
    "precision_lg, recall_lg, thresholds = precision_recall_curve(y_test, lg_df)\n",
    "plt.plot(precision_lg, recall_lg, label='Logistic')\n",
    "plt.plot(precision_score(y_test,1*(lg_df>=0.2)), recall_score(y_test,1*(lg_df>=0.2)), 'o', markersize = 12, fillstyle = 'none', c='r', mew=3)\n",
    "\n",
    "ridge_df = np.exp(ridge.decision_function(X_test_selected)) / np.sum(np.exp(ridge.decision_function(X_test_selected)))\n",
    "precision_ridge, recall_ridge, thresholds = precision_recall_curve(y_test, ridge_df)\n",
    "plt.plot(precision_ridge, recall_ridge, label='Ridge')\n",
    "plt.plot(precision_score(y_test,1*(ridge_df>=0.2)), recall_score(y_test,1*(ridge_df>=0.2)), 'o', markersize = 12, fillstyle = 'none', c='r', mew=3)\n",
    "\n",
    "knn_df = knn.predict_proba(X_test_selected)[:,1]\n",
    "precision_knn, recall_knn, thresholds = precision_recall_curve(y_test, knn_df)\n",
    "plt.plot(precision_knn, recall_knn, label='KNN(N=3)')\n",
    "plt.plot(precision_score(y_test,1*(knn_df>=0.2)), recall_score(y_test,1*(knn_df>=0.2)), 'o', markersize = 12, fillstyle = 'none', c='r', mew=3)\n",
    "\n",
    "plt.xlabel('Precision', fontsize=16)\n",
    "plt.ylabel('Recall', fontsize=16)\n",
    "plt.title('Adjusted Precision-Recall curve(threshold=0.2)', fontsize=16)\n",
    "plt.legend(loc='lower left', fontsize=10)\n",
    "plt.axes().set_aspect('equal')\n",
    "plt.show()"
   ]
  },
  {
   "cell_type": "markdown",
   "metadata": {},
   "source": [
    "### ROC"
   ]
  },
  {
   "cell_type": "code",
   "execution_count": 226,
   "metadata": {},
   "outputs": [
    {
     "data": {
      "image/png": "[encoded data removed]",
      "text/plain": [
       "<Figure size 504x504 with 1 Axes>"
      ]
     },
     "metadata": {
      "needs_background": "light"
     },
     "output_type": "display_data"
    }
   ],
   "source": [
    "plt.figure(figsize=(7,7))\n",
    "plt.xlim([0.0, 1.01])\n",
    "plt.ylim([0.0, 1.01])\n",
    "\n",
    "fpr, tpr, _ = roc_curve(y_test, dummy_clf_df)  \n",
    "roc_auc = auc(fpr, tpr) \n",
    "plt.plot(fpr, tpr, lw=3, label='Dummy = {:0.2f}'.format(roc_auc))\n",
    "\n",
    "fpr, tpr, _ = roc_curve(y_test, clf_df)  \n",
    "roc_auc = auc(fpr, tpr) \n",
    "plt.plot(fpr, tpr, lw=3, label='Random Forest = {:0.2f}'.format(roc_auc))\n",
    "\n",
    "fpr, tpr, _ = roc_curve(y_test, gbdt_df)  \n",
    "roc_auc = auc(fpr, tpr) \n",
    "plt.plot(fpr, tpr, lw=3, label='Gradient Boosting = {:0.2f}'.format(roc_auc))\n",
    "\n",
    "# fpr, tpr, _ = roc_curve(y_test, lsvc_df)  \n",
    "# roc_auc = auc(fpr, tpr) \n",
    "# plt.plot(fpr, tpr, lw=3, label='SVM = {:0.2f}'.format(roc_auc))\n",
    "\n",
    "fpr, tpr, _ = roc_curve(y_test, lg_df)  \n",
    "roc_auc = auc(fpr, tpr) \n",
    "plt.plot(fpr, tpr, lw=3, label='Logistic = {:0.2f}'.format(roc_auc))\n",
    "\n",
    "fpr, tpr, _ = roc_curve(y_test, ridge_df)  \n",
    "roc_auc = auc(fpr, tpr) \n",
    "plt.plot(fpr, tpr, lw=3, label='Ridge = {:0.2f}'.format(roc_auc))\n",
    "\n",
    "fpr, tpr, _ = roc_curve(y_test, knn_df)  \n",
    "roc_auc = auc(fpr, tpr) \n",
    "plt.plot(fpr, tpr, lw=3, label='KNN(N=3) = {:0.2f}'.format(roc_auc))\n",
    "\n",
    "plt.xlabel('False Positive Rate', fontsize=16)\n",
    "plt.ylabel('True Positive Rate', fontsize=16)\n",
    "plt.title('ROC curve', fontsize=16)\n",
    "plt.legend(loc='lower right', fontsize=13)\n",
    "plt.plot([0, 1], [0, 1], color='navy', lw=3, linestyle='--')\n",
    "plt.axes().set_aspect('equal')\n",
    "plt.show()"
   ]
  },
  {
   "cell_type": "markdown",
   "metadata": {},
   "source": [
    "### F1 score, beta=2"
   ]
  },
  {
   "cell_type": "code",
   "execution_count": 228,
   "metadata": {},
   "outputs": [],
   "source": [
    "f1_test=[ fbeta_score(y_test,dummy_clf.predict(X_test_selected),beta=2,average='macro'),\n",
    "          fbeta_score(y_test,clf.predict(X_test_selected),beta=2,average='macro'),\n",
    "          fbeta_score(y_test,gbdt.predict(X_test_selected),beta=2,average='macro'),\n",
    "          #fbeta_score(y_test,lsvc.predict(X_test_selected),beta=2,average='macro'),\n",
    "          fbeta_score(y_test,lg.predict(X_test_selected),beta=2,average='macro'),\n",
    "          fbeta_score(y_test,ridge.predict(X_test_selected),beta=2,average='macro'),\n",
    "          fbeta_score(y_test,knn.predict(X_test_selected),beta=2,average='macro')]\n",
    "f1_test_adjust=[fbeta_score(y_test,1*(dummy_clf_df>=0.2),beta=2,average='macro'),\n",
    "          fbeta_score(y_test,1*(clf_df>=0.2),beta=2,average='macro'),\n",
    "          fbeta_score(y_test,1*(gbdt_df>=0.2),beta=2,average='macro'),\n",
    "          #fbeta_score(y_test,1*(lsvc_df>=0.2),beta=2,average='macro'),\n",
    "          fbeta_score(y_test,1*(lg_df>=0.2),beta=2,average='macro'),\n",
    "          fbeta_score(y_test,1*(ridge_df>=0.2),beta=2,average='macro'),\n",
    "          fbeta_score(y_test,1*(knn_df>=0.2),beta=2,average='macro')]\n",
    "acc_test=[accuracy_score(y_test,dummy_clf.predict(X_test_selected)),\n",
    "          accuracy_score(y_test,clf.predict(X_test_selected)),\n",
    "          accuracy_score(y_test,gbdt.predict(X_test_selected)),\n",
    "          #accuracy_score(y_train,lsvc.predict(X_train_selected)),\n",
    "          accuracy_score(y_test,lg.predict(X_test_selected)),\n",
    "          accuracy_score(y_test,ridge.predict(X_test_selected)),\n",
    "          accuracy_score(y_test,knn.predict(X_test_selected))]\n",
    "acc_test_adjust=[accuracy_score(y_test,1*(dummy_clf_df)>=0.2),\n",
    "          accuracy_score(y_test,1*(clf_df)>=0.2),\n",
    "          accuracy_score(y_test,1*(gbdt_df>=0.2)),\n",
    "          #accuracy_score(y_train,lsvc.predict(X_train_selected)),\n",
    "          accuracy_score(y_test,1*(lg_df>=0.2)),\n",
    "          accuracy_score(y_test,1*(ridge_df>=0.2)),\n",
    "          accuracy_score(y_test,1*(knn_df>=0.2))]"
   ]
  },
  {
   "cell_type": "code",
   "execution_count": 245,
   "metadata": {},
   "outputs": [
    {
     "data": {
      "application/vnd.plotly.v1+json": {
       "config": {
        "plotlyServerURL": "https://plot.ly"
       },
       "data": [
        {
         "cells": {
          "align": [
           "left",
           "center"
          ],
          "fill": {
           "color": [
            [
             "white",
             "lightgrey",
             "white",
             "lightgrey",
             "white",
             "lightgrey",
             "white",
             "lightgrey",
             "white",
             "lightgrey",
             "white",
             "lightgrey",
             "white",
             "lightgrey",
             "white",
             "lightgrey",
             "white",
             "lightgrey",
             "white",
             "lightgrey",
             "white",
             "lightgrey",
             "white",
             "lightgrey",
             "white",
             "lightgrey",
             "white",
             "lightgrey",
             "white",
             "lightgrey"
            ]
           ]
          },
          "font": {
           "color": "darkslategray",
           "size": 11
          },
          "values": [
           [
            "Dummy",
            "Random Forest",
            "Gradient Boosting",
            "Logistic",
            "Ridge",
            "KNN(N=3)"
           ],
           [
            0.478,
            0.813,
            0.922,
            0.517,
            0.481,
            0.709
           ],
           [
            0.478,
            0.848,
            0.943,
            0.647,
            0.478,
            0.782
           ],
           [
            0.48,
            0.535,
            0.554,
            0.498,
            0.48,
            0.527
           ],
           [
            0.48,
            0.621,
            0.619,
            0.635,
            0.48,
            0.559
           ],
           [
            0.814,
            0.924,
            0.967,
            0.812,
            0.815,
            0.862
           ],
           [
            0.829,
            0.831,
            0.825,
            0.819,
            0.829,
            0.774
           ]
          ]
         },
         "header": {
          "align": [
           "left",
           "center"
          ],
          "fill": {
           "color": "grey"
          },
          "font": {
           "color": "white",
           "size": 12
          },
          "values": [
           "<b>Classifiers</b>",
           "<b>Fbeta score (training, th.=0.5)</b>",
           "<b>Fbeta score (training, th.=0.2)</b>",
           "<b>Fbeta score (test, th.=0.5)</b>",
           "<b>Fbeta score (test, th.=0.2)</b>",
           "<b>Accuracy (training)</b>",
           "<b>Accuracy (test)</b>"
          ]
         },
         "type": "table"
        }
       ],
       "layout": {
        "template": {
         "data": {
          "bar": [
           {
            "error_x": {
             "color": "#2a3f5f"
            },
            "error_y": {
             "color": "#2a3f5f"
            },
            "marker": {
             "line": {
              "color": "#E5ECF6",
              "width": 0.5
             }
            },
            "type": "bar"
           }
          ],
          "barpolar": [
           {
            "marker": {
             "line": {
              "color": "#E5ECF6",
              "width": 0.5
             }
            },
            "type": "barpolar"
           }
          ],
          "carpet": [
           {
            "aaxis": {
             "endlinecolor": "#2a3f5f",
             "gridcolor": "white",
             "linecolor": "white",
             "minorgridcolor": "white",
             "startlinecolor": "#2a3f5f"
            },
            "baxis": {
             "endlinecolor": "#2a3f5f",
             "gridcolor": "white",
             "linecolor": "white",
             "minorgridcolor": "white",
             "startlinecolor": "#2a3f5f"
            },
            "type": "carpet"
           }
          ],
          "choropleth": [
           {
            "colorbar": {
             "outlinewidth": 0,
             "ticks": ""
            },
            "type": "choropleth"
           }
          ],
          "contour": [
           {
            "colorbar": {
             "outlinewidth": 0,
             "ticks": ""
            },
            "colorscale": [
             [
              0,
              "#0d0887"
             ],
             [
              0.1111111111111111,
              "#46039f"
             ],
             [
              0.2222222222222222,
              "#7201a8"
             ],
             [
              0.3333333333333333,
              "#9c179e"
             ],
             [
              0.4444444444444444,
              "#bd3786"
             ],
             [
              0.5555555555555556,
              "#d8576b"
             ],
             [
              0.6666666666666666,
              "#ed7953"
             ],
             [
              0.7777777777777778,
              "#fb9f3a"
             ],
             [
              0.8888888888888888,
              "#fdca26"
             ],
             [
              1,
              "#f0f921"
             ]
            ],
            "type": "contour"
           }
          ],
          "contourcarpet": [
           {
            "colorbar": {
             "outlinewidth": 0,
             "ticks": ""
            },
            "type": "contourcarpet"
           }
          ],
          "heatmap": [
           {
            "colorbar": {
             "outlinewidth": 0,
             "ticks": ""
            },
            "colorscale": [
             [
              0,
              "#0d0887"
             ],
             [
              0.1111111111111111,
              "#46039f"
             ],
             [
              0.2222222222222222,
              "#7201a8"
             ],
             [
              0.3333333333333333,
              "#9c179e"
             ],
             [
              0.4444444444444444,
              "#bd3786"
             ],
             [
              0.5555555555555556,
              "#d8576b"
             ],
             [
              0.6666666666666666,
              "#ed7953"
             ],
             [
              0.7777777777777778,
              "#fb9f3a"
             ],
             [
              0.8888888888888888,
              "#fdca26"
             ],
             [
              1,
              "#f0f921"
             ]
            ],
            "type": "heatmap"
           }
          ],
          "heatmapgl": [
           {
            "colorbar": {
             "outlinewidth": 0,
             "ticks": ""
            },
            "colorscale": [
             [
              0,
              "#0d0887"
             ],
             [
              0.1111111111111111,
              "#46039f"
             ],
             [
              0.2222222222222222,
              "#7201a8"
             ],
             [
              0.3333333333333333,
              "#9c179e"
             ],
             [
              0.4444444444444444,
              "#bd3786"
             ],
             [
              0.5555555555555556,
              "#d8576b"
             ],
             [
              0.6666666666666666,
              "#ed7953"
             ],
             [
              0.7777777777777778,
              "#fb9f3a"
             ],
             [
              0.8888888888888888,
              "#fdca26"
             ],
             [
              1,
              "#f0f921"
             ]
            ],
            "type": "heatmapgl"
           }
          ],
          "histogram": [
           {
            "marker": {
             "colorbar": {
              "outlinewidth": 0,
              "ticks": ""
             }
            },
            "type": "histogram"
           }
          ],
          "histogram2d": [
           {
            "colorbar": {
             "outlinewidth": 0,
             "ticks": ""
            },
            "colorscale": [
             [
              0,
              "#0d0887"
             ],
             [
              0.1111111111111111,
              "#46039f"
             ],
             [
              0.2222222222222222,
              "#7201a8"
             ],
             [
              0.3333333333333333,
              "#9c179e"
             ],
             [
              0.4444444444444444,
              "#bd3786"
             ],
             [
              0.5555555555555556,
              "#d8576b"
             ],
             [
              0.6666666666666666,
              "#ed7953"
             ],
             [
              0.7777777777777778,
              "#fb9f3a"
             ],
             [
              0.8888888888888888,
              "#fdca26"
             ],
             [
              1,
              "#f0f921"
             ]
            ],
            "type": "histogram2d"
           }
          ],
          "histogram2dcontour": [
           {
            "colorbar": {
             "outlinewidth": 0,
             "ticks": ""
            },
            "colorscale": [
             [
              0,
              "#0d0887"
             ],
             [
              0.1111111111111111,
              "#46039f"
             ],
             [
              0.2222222222222222,
              "#7201a8"
             ],
             [
              0.3333333333333333,
              "#9c179e"
             ],
             [
              0.4444444444444444,
              "#bd3786"
             ],
             [
              0.5555555555555556,
              "#d8576b"
             ],
             [
              0.6666666666666666,
              "#ed7953"
             ],
             [
              0.7777777777777778,
              "#fb9f3a"
             ],
             [
              0.8888888888888888,
              "#fdca26"
             ],
             [
              1,
              "#f0f921"
             ]
            ],
            "type": "histogram2dcontour"
           }
          ],
          "mesh3d": [
           {
            "colorbar": {
             "outlinewidth": 0,
             "ticks": ""
            },
            "type": "mesh3d"
           }
          ],
          "parcoords": [
           {
            "line": {
             "colorbar": {
              "outlinewidth": 0,
              "ticks": ""
             }
            },
            "type": "parcoords"
           }
          ],
          "pie": [
           {
            "automargin": true,
            "type": "pie"
           }
          ],
          "scatter": [
           {
            "marker": {
             "colorbar": {
              "outlinewidth": 0,
              "ticks": ""
             }
            },
            "type": "scatter"
           }
          ],
          "scatter3d": [
           {
            "line": {
             "colorbar": {
              "outlinewidth": 0,
              "ticks": ""
             }
            },
            "marker": {
             "colorbar": {
              "outlinewidth": 0,
              "ticks": ""
             }
            },
            "type": "scatter3d"
           }
          ],
          "scattercarpet": [
           {
            "marker": {
             "colorbar": {
              "outlinewidth": 0,
              "ticks": ""
             }
            },
            "type": "scattercarpet"
           }
          ],
          "scattergeo": [
           {
            "marker": {
             "colorbar": {
              "outlinewidth": 0,
              "ticks": ""
             }
            },
            "type": "scattergeo"
           }
          ],
          "scattergl": [
           {
            "marker": {
             "colorbar": {
              "outlinewidth": 0,
              "ticks": ""
             }
            },
            "type": "scattergl"
           }
          ],
          "scattermapbox": [
           {
            "marker": {
             "colorbar": {
              "outlinewidth": 0,
              "ticks": ""
             }
            },
            "type": "scattermapbox"
           }
          ],
          "scatterpolar": [
           {
            "marker": {
             "colorbar": {
              "outlinewidth": 0,
              "ticks": ""
             }
            },
            "type": "scatterpolar"
           }
          ],
          "scatterpolargl": [
           {
            "marker": {
             "colorbar": {
              "outlinewidth": 0,
              "ticks": ""
             }
            },
            "type": "scatterpolargl"
           }
          ],
          "scatterternary": [
           {
            "marker": {
             "colorbar": {
              "outlinewidth": 0,
              "ticks": ""
             }
            },
            "type": "scatterternary"
           }
          ],
          "surface": [
           {
            "colorbar": {
             "outlinewidth": 0,
             "ticks": ""
            },
            "colorscale": [
             [
              0,
              "#0d0887"
             ],
             [
              0.1111111111111111,
              "#46039f"
             ],
             [
              0.2222222222222222,
              "#7201a8"
             ],
             [
              0.3333333333333333,
              "#9c179e"
             ],
             [
              0.4444444444444444,
              "#bd3786"
             ],
             [
              0.5555555555555556,
              "#d8576b"
             ],
             [
              0.6666666666666666,
              "#ed7953"
             ],
             [
              0.7777777777777778,
              "#fb9f3a"
             ],
             [
              0.8888888888888888,
              "#fdca26"
             ],
             [
              1,
              "#f0f921"
             ]
            ],
            "type": "surface"
           }
          ],
          "table": [
           {
            "cells": {
             "fill": {
              "color": "#EBF0F8"
             },
             "line": {
              "color": "white"
             }
            },
            "header": {
             "fill": {
              "color": "#C8D4E3"
             },
             "line": {
              "color": "white"
             }
            },
            "type": "table"
           }
          ]
         },
         "layout": {
          "annotationdefaults": {
           "arrowcolor": "#2a3f5f",
           "arrowhead": 0,
           "arrowwidth": 1
          },
          "coloraxis": {
           "colorbar": {
            "outlinewidth": 0,
            "ticks": ""
           }
          },
          "colorscale": {
           "diverging": [
            [
             0,
             "#8e0152"
            ],
            [
             0.1,
             "#c51b7d"
            ],
            [
             0.2,
             "#de77ae"
            ],
            [
             0.3,
             "#f1b6da"
            ],
            [
             0.4,
             "#fde0ef"
            ],
            [
             0.5,
             "#f7f7f7"
            ],
            [
             0.6,
             "#e6f5d0"
            ],
            [
             0.7,
             "#b8e186"
            ],
            [
             0.8,
             "#7fbc41"
            ],
            [
             0.9,
             "#4d9221"
            ],
            [
             1,
             "#276419"
            ]
           ],
           "sequential": [
            [
             0,
             "#0d0887"
            ],
            [
             0.1111111111111111,
             "#46039f"
            ],
            [
             0.2222222222222222,
             "#7201a8"
            ],
            [
             0.3333333333333333,
             "#9c179e"
            ],
            [
             0.4444444444444444,
             "#bd3786"
            ],
            [
             0.5555555555555556,
             "#d8576b"
            ],
            [
             0.6666666666666666,
             "#ed7953"
            ],
            [
             0.7777777777777778,
             "#fb9f3a"
            ],
            [
             0.8888888888888888,
             "#fdca26"
            ],
            [
             1,
             "#f0f921"
            ]
           ],
           "sequentialminus": [
            [
             0,
             "#0d0887"
            ],
            [
             0.1111111111111111,
             "#46039f"
            ],
            [
             0.2222222222222222,
             "#7201a8"
            ],
            [
             0.3333333333333333,
             "#9c179e"
            ],
            [
             0.4444444444444444,
             "#bd3786"
            ],
            [
             0.5555555555555556,
             "#d8576b"
            ],
            [
             0.6666666666666666,
             "#ed7953"
            ],
            [
             0.7777777777777778,
             "#fb9f3a"
            ],
            [
             0.8888888888888888,
             "#fdca26"
            ],
            [
             1,
             "#f0f921"
            ]
           ]
          },
          "colorway": [
           "#636efa",
           "#EF553B",
           "#00cc96",
           "#ab63fa",
           "#FFA15A",
           "#19d3f3",
           "#FF6692",
           "#B6E880",
           "#FF97FF",
           "#FECB52"
          ],
          "font": {
           "color": "#2a3f5f"
          },
          "geo": {
           "bgcolor": "white",
           "lakecolor": "white",
           "landcolor": "#E5ECF6",
           "showlakes": true,
           "showland": true,
           "subunitcolor": "white"
          },
          "hoverlabel": {
           "align": "left"
          },
          "hovermode": "closest",
          "mapbox": {
           "style": "light"
          },
          "paper_bgcolor": "white",
          "plot_bgcolor": "#E5ECF6",
          "polar": {
           "angularaxis": {
            "gridcolor": "white",
            "linecolor": "white",
            "ticks": ""
           },
           "bgcolor": "#E5ECF6",
           "radialaxis": {
            "gridcolor": "white",
            "linecolor": "white",
            "ticks": ""
           }
          },
          "scene": {
           "xaxis": {
            "backgroundcolor": "#E5ECF6",
            "gridcolor": "white",
            "gridwidth": 2,
            "linecolor": "white",
            "showbackground": true,
            "ticks": "",
            "zerolinecolor": "white"
           },
           "yaxis": {
            "backgroundcolor": "#E5ECF6",
            "gridcolor": "white",
            "gridwidth": 2,
            "linecolor": "white",
            "showbackground": true,
            "ticks": "",
            "zerolinecolor": "white"
           },
           "zaxis": {
            "backgroundcolor": "#E5ECF6",
            "gridcolor": "white",
            "gridwidth": 2,
            "linecolor": "white",
            "showbackground": true,
            "ticks": "",
            "zerolinecolor": "white"
           }
          },
          "shapedefaults": {
           "line": {
            "color": "#2a3f5f"
           }
          },
          "ternary": {
           "aaxis": {
            "gridcolor": "white",
            "linecolor": "white",
            "ticks": ""
           },
           "baxis": {
            "gridcolor": "white",
            "linecolor": "white",
            "ticks": ""
           },
           "bgcolor": "#E5ECF6",
           "caxis": {
            "gridcolor": "white",
            "linecolor": "white",
            "ticks": ""
           }
          },
          "title": {
           "x": 0.05
          },
          "xaxis": {
           "automargin": true,
           "gridcolor": "white",
           "linecolor": "white",
           "ticks": "",
           "title": {
            "standoff": 15
           },
           "zerolinecolor": "white",
           "zerolinewidth": 2
          },
          "yaxis": {
           "automargin": true,
           "gridcolor": "white",
           "linecolor": "white",
           "ticks": "",
           "title": {
            "standoff": 15
           },
           "zerolinecolor": "white",
           "zerolinewidth": 2
          }
         }
        }
       }
      },
      "text/html": [
       "<div>\n",
       "        \n",
       "        \n",
       "            <div id=\"82de0294-d03d-448f-b426-0cd86a599bc1\" class=\"plotly-graph-div\" style=\"height:525px; width:100%;\"></div>\n",
       "            <script type=\"text/javascript\">\n",
       "                require([\"plotly\"], function(Plotly) {\n",
       "                    window.PLOTLYENV=window.PLOTLYENV || {};\n",
       "                    \n",
       "                if (document.getElementById(\"82de0294-d03d-448f-b426-0cd86a599bc1\")) {\n",
       "                    Plotly.newPlot(\n",
       "                        '82de0294-d03d-448f-b426-0cd86a599bc1',\n",
       "                        [{\"cells\": {\"align\": [\"left\", \"center\"], \"fill\": {\"color\": [[\"white\", \"lightgrey\", \"white\", \"lightgrey\", \"white\", \"lightgrey\", \"white\", \"lightgrey\", \"white\", \"lightgrey\", \"white\", \"lightgrey\", \"white\", \"lightgrey\", \"white\", \"lightgrey\", \"white\", \"lightgrey\", \"white\", \"lightgrey\", \"white\", \"lightgrey\", \"white\", \"lightgrey\", \"white\", \"lightgrey\", \"white\", \"lightgrey\", \"white\", \"lightgrey\"]]}, \"font\": {\"color\": \"darkslategray\", \"size\": 11}, \"values\": [[\"Dummy\", \"Random Forest\", \"Gradient Boosting\", \"Logistic\", \"Ridge\", \"KNN(N=3)\"], [0.478, 0.813, 0.922, 0.517, 0.481, 0.709], [0.478, 0.848, 0.943, 0.647, 0.478, 0.782], [0.48, 0.535, 0.554, 0.498, 0.48, 0.527], [0.48, 0.621, 0.619, 0.635, 0.48, 0.559], [0.814, 0.924, 0.967, 0.812, 0.815, 0.862], [0.829, 0.831, 0.825, 0.819, 0.829, 0.774]]}, \"header\": {\"align\": [\"left\", \"center\"], \"fill\": {\"color\": \"grey\"}, \"font\": {\"color\": \"white\", \"size\": 12}, \"values\": [\"<b>Classifiers</b>\", \"<b>Fbeta score (training, th.=0.5)</b>\", \"<b>Fbeta score (training, th.=0.2)</b>\", \"<b>Fbeta score (test, th.=0.5)</b>\", \"<b>Fbeta score (test, th.=0.2)</b>\", \"<b>Accuracy (training)</b>\", \"<b>Accuracy (test)</b>\"]}, \"type\": \"table\"}],\n",
       "                        {\"template\": {\"data\": {\"bar\": [{\"error_x\": {\"color\": \"#2a3f5f\"}, \"error_y\": {\"color\": \"#2a3f5f\"}, \"marker\": {\"line\": {\"color\": \"#E5ECF6\", \"width\": 0.5}}, \"type\": \"bar\"}], \"barpolar\": [{\"marker\": {\"line\": {\"color\": \"#E5ECF6\", \"width\": 0.5}}, \"type\": \"barpolar\"}], \"carpet\": [{\"aaxis\": {\"endlinecolor\": \"#2a3f5f\", \"gridcolor\": \"white\", \"linecolor\": \"white\", \"minorgridcolor\": \"white\", \"startlinecolor\": \"#2a3f5f\"}, \"baxis\": {\"endlinecolor\": \"#2a3f5f\", \"gridcolor\": \"white\", \"linecolor\": \"white\", \"minorgridcolor\": \"white\", \"startlinecolor\": \"#2a3f5f\"}, \"type\": \"carpet\"}], \"choropleth\": [{\"colorbar\": {\"outlinewidth\": 0, \"ticks\": \"\"}, \"type\": \"choropleth\"}], \"contour\": [{\"colorbar\": {\"outlinewidth\": 0, \"ticks\": \"\"}, \"colorscale\": [[0.0, \"#0d0887\"], [0.1111111111111111, \"#46039f\"], [0.2222222222222222, \"#7201a8\"], [0.3333333333333333, \"#9c179e\"], [0.4444444444444444, \"#bd3786\"], [0.5555555555555556, \"#d8576b\"], [0.6666666666666666, \"#ed7953\"], [0.7777777777777778, \"#fb9f3a\"], [0.8888888888888888, \"#fdca26\"], [1.0, \"#f0f921\"]], \"type\": \"contour\"}], \"contourcarpet\": [{\"colorbar\": {\"outlinewidth\": 0, \"ticks\": \"\"}, \"type\": \"contourcarpet\"}], \"heatmap\": [{\"colorbar\": {\"outlinewidth\": 0, \"ticks\": \"\"}, \"colorscale\": [[0.0, \"#0d0887\"], [0.1111111111111111, \"#46039f\"], [0.2222222222222222, \"#7201a8\"], [0.3333333333333333, \"#9c179e\"], [0.4444444444444444, \"#bd3786\"], [0.5555555555555556, \"#d8576b\"], [0.6666666666666666, \"#ed7953\"], [0.7777777777777778, \"#fb9f3a\"], [0.8888888888888888, \"#fdca26\"], [1.0, \"#f0f921\"]], \"type\": \"heatmap\"}], \"heatmapgl\": [{\"colorbar\": {\"outlinewidth\": 0, \"ticks\": \"\"}, \"colorscale\": [[0.0, \"#0d0887\"], [0.1111111111111111, \"#46039f\"], [0.2222222222222222, \"#7201a8\"], [0.3333333333333333, \"#9c179e\"], [0.4444444444444444, \"#bd3786\"], [0.5555555555555556, \"#d8576b\"], [0.6666666666666666, \"#ed7953\"], [0.7777777777777778, \"#fb9f3a\"], [0.8888888888888888, \"#fdca26\"], [1.0, \"#f0f921\"]], \"type\": \"heatmapgl\"}], \"histogram\": [{\"marker\": {\"colorbar\": {\"outlinewidth\": 0, \"ticks\": \"\"}}, \"type\": \"histogram\"}], \"histogram2d\": [{\"colorbar\": {\"outlinewidth\": 0, \"ticks\": \"\"}, \"colorscale\": [[0.0, \"#0d0887\"], [0.1111111111111111, \"#46039f\"], [0.2222222222222222, \"#7201a8\"], [0.3333333333333333, \"#9c179e\"], [0.4444444444444444, \"#bd3786\"], [0.5555555555555556, \"#d8576b\"], [0.6666666666666666, \"#ed7953\"], [0.7777777777777778, \"#fb9f3a\"], [0.8888888888888888, \"#fdca26\"], [1.0, \"#f0f921\"]], \"type\": \"histogram2d\"}], \"histogram2dcontour\": [{\"colorbar\": {\"outlinewidth\": 0, \"ticks\": \"\"}, \"colorscale\": [[0.0, \"#0d0887\"], [0.1111111111111111, \"#46039f\"], [0.2222222222222222, \"#7201a8\"], [0.3333333333333333, \"#9c179e\"], [0.4444444444444444, \"#bd3786\"], [0.5555555555555556, \"#d8576b\"], [0.6666666666666666, \"#ed7953\"], [0.7777777777777778, \"#fb9f3a\"], [0.8888888888888888, \"#fdca26\"], [1.0, \"#f0f921\"]], \"type\": \"histogram2dcontour\"}], \"mesh3d\": [{\"colorbar\": {\"outlinewidth\": 0, \"ticks\": \"\"}, \"type\": \"mesh3d\"}], \"parcoords\": [{\"line\": {\"colorbar\": {\"outlinewidth\": 0, \"ticks\": \"\"}}, \"type\": \"parcoords\"}], \"pie\": [{\"automargin\": true, \"type\": \"pie\"}], \"scatter\": [{\"marker\": {\"colorbar\": {\"outlinewidth\": 0, \"ticks\": \"\"}}, \"type\": \"scatter\"}], \"scatter3d\": [{\"line\": {\"colorbar\": {\"outlinewidth\": 0, \"ticks\": \"\"}}, \"marker\": {\"colorbar\": {\"outlinewidth\": 0, \"ticks\": \"\"}}, \"type\": \"scatter3d\"}], \"scattercarpet\": [{\"marker\": {\"colorbar\": {\"outlinewidth\": 0, \"ticks\": \"\"}}, \"type\": \"scattercarpet\"}], \"scattergeo\": [{\"marker\": {\"colorbar\": {\"outlinewidth\": 0, \"ticks\": \"\"}}, \"type\": \"scattergeo\"}], \"scattergl\": [{\"marker\": {\"colorbar\": {\"outlinewidth\": 0, \"ticks\": \"\"}}, \"type\": \"scattergl\"}], \"scattermapbox\": [{\"marker\": {\"colorbar\": {\"outlinewidth\": 0, \"ticks\": \"\"}}, \"type\": \"scattermapbox\"}], \"scatterpolar\": [{\"marker\": {\"colorbar\": {\"outlinewidth\": 0, \"ticks\": \"\"}}, \"type\": \"scatterpolar\"}], \"scatterpolargl\": [{\"marker\": {\"colorbar\": {\"outlinewidth\": 0, \"ticks\": \"\"}}, \"type\": \"scatterpolargl\"}], \"scatterternary\": [{\"marker\": {\"colorbar\": {\"outlinewidth\": 0, \"ticks\": \"\"}}, \"type\": \"scatterternary\"}], \"surface\": [{\"colorbar\": {\"outlinewidth\": 0, \"ticks\": \"\"}, \"colorscale\": [[0.0, \"#0d0887\"], [0.1111111111111111, \"#46039f\"], [0.2222222222222222, \"#7201a8\"], [0.3333333333333333, \"#9c179e\"], [0.4444444444444444, \"#bd3786\"], [0.5555555555555556, \"#d8576b\"], [0.6666666666666666, \"#ed7953\"], [0.7777777777777778, \"#fb9f3a\"], [0.8888888888888888, \"#fdca26\"], [1.0, \"#f0f921\"]], \"type\": \"surface\"}], \"table\": [{\"cells\": {\"fill\": {\"color\": \"#EBF0F8\"}, \"line\": {\"color\": \"white\"}}, \"header\": {\"fill\": {\"color\": \"#C8D4E3\"}, \"line\": {\"color\": \"white\"}}, \"type\": \"table\"}]}, \"layout\": {\"annotationdefaults\": {\"arrowcolor\": \"#2a3f5f\", \"arrowhead\": 0, \"arrowwidth\": 1}, \"coloraxis\": {\"colorbar\": {\"outlinewidth\": 0, \"ticks\": \"\"}}, \"colorscale\": {\"diverging\": [[0, \"#8e0152\"], [0.1, \"#c51b7d\"], [0.2, \"#de77ae\"], [0.3, \"#f1b6da\"], [0.4, \"#fde0ef\"], [0.5, \"#f7f7f7\"], [0.6, \"#e6f5d0\"], [0.7, \"#b8e186\"], [0.8, \"#7fbc41\"], [0.9, \"#4d9221\"], [1, \"#276419\"]], \"sequential\": [[0.0, \"#0d0887\"], [0.1111111111111111, \"#46039f\"], [0.2222222222222222, \"#7201a8\"], [0.3333333333333333, \"#9c179e\"], [0.4444444444444444, \"#bd3786\"], [0.5555555555555556, \"#d8576b\"], [0.6666666666666666, \"#ed7953\"], [0.7777777777777778, \"#fb9f3a\"], [0.8888888888888888, \"#fdca26\"], [1.0, \"#f0f921\"]], \"sequentialminus\": [[0.0, \"#0d0887\"], [0.1111111111111111, \"#46039f\"], [0.2222222222222222, \"#7201a8\"], [0.3333333333333333, \"#9c179e\"], [0.4444444444444444, \"#bd3786\"], [0.5555555555555556, \"#d8576b\"], [0.6666666666666666, \"#ed7953\"], [0.7777777777777778, \"#fb9f3a\"], [0.8888888888888888, \"#fdca26\"], [1.0, \"#f0f921\"]]}, \"colorway\": [\"#636efa\", \"#EF553B\", \"#00cc96\", \"#ab63fa\", \"#FFA15A\", \"#19d3f3\", \"#FF6692\", \"#B6E880\", \"#FF97FF\", \"#FECB52\"], \"font\": {\"color\": \"#2a3f5f\"}, \"geo\": {\"bgcolor\": \"white\", \"lakecolor\": \"white\", \"landcolor\": \"#E5ECF6\", \"showlakes\": true, \"showland\": true, \"subunitcolor\": \"white\"}, \"hoverlabel\": {\"align\": \"left\"}, \"hovermode\": \"closest\", \"mapbox\": {\"style\": \"light\"}, \"paper_bgcolor\": \"white\", \"plot_bgcolor\": \"#E5ECF6\", \"polar\": {\"angularaxis\": {\"gridcolor\": \"white\", \"linecolor\": \"white\", \"ticks\": \"\"}, \"bgcolor\": \"#E5ECF6\", \"radialaxis\": {\"gridcolor\": \"white\", \"linecolor\": \"white\", \"ticks\": \"\"}}, \"scene\": {\"xaxis\": {\"backgroundcolor\": \"#E5ECF6\", \"gridcolor\": \"white\", \"gridwidth\": 2, \"linecolor\": \"white\", \"showbackground\": true, \"ticks\": \"\", \"zerolinecolor\": \"white\"}, \"yaxis\": {\"backgroundcolor\": \"#E5ECF6\", \"gridcolor\": \"white\", \"gridwidth\": 2, \"linecolor\": \"white\", \"showbackground\": true, \"ticks\": \"\", \"zerolinecolor\": \"white\"}, \"zaxis\": {\"backgroundcolor\": \"#E5ECF6\", \"gridcolor\": \"white\", \"gridwidth\": 2, \"linecolor\": \"white\", \"showbackground\": true, \"ticks\": \"\", \"zerolinecolor\": \"white\"}}, \"shapedefaults\": {\"line\": {\"color\": \"#2a3f5f\"}}, \"ternary\": {\"aaxis\": {\"gridcolor\": \"white\", \"linecolor\": \"white\", \"ticks\": \"\"}, \"baxis\": {\"gridcolor\": \"white\", \"linecolor\": \"white\", \"ticks\": \"\"}, \"bgcolor\": \"#E5ECF6\", \"caxis\": {\"gridcolor\": \"white\", \"linecolor\": \"white\", \"ticks\": \"\"}}, \"title\": {\"x\": 0.05}, \"xaxis\": {\"automargin\": true, \"gridcolor\": \"white\", \"linecolor\": \"white\", \"ticks\": \"\", \"title\": {\"standoff\": 15}, \"zerolinecolor\": \"white\", \"zerolinewidth\": 2}, \"yaxis\": {\"automargin\": true, \"gridcolor\": \"white\", \"linecolor\": \"white\", \"ticks\": \"\", \"title\": {\"standoff\": 15}, \"zerolinecolor\": \"white\", \"zerolinewidth\": 2}}}},\n",
       "                        {\"responsive\": true}\n",
       "                    ).then(function(){\n",
       "                            \n",
       "var gd = document.getElementById('82de0294-d03d-448f-b426-0cd86a599bc1');\n",
       "var x = new MutationObserver(function (mutations, observer) {{\n",
       "        var display = window.getComputedStyle(gd).display;\n",
       "        if (!display || display === 'none') {{\n",
       "            console.log([gd, 'removed!']);\n",
       "            Plotly.purge(gd);\n",
       "            observer.disconnect();\n",
       "        }}\n",
       "}});\n",
       "\n",
       "// Listen for the removal of the full notebook cells\n",
       "var notebookContainer = gd.closest('#notebook-container');\n",
       "if (notebookContainer) {{\n",
       "    x.observe(notebookContainer, {childList: true});\n",
       "}}\n",
       "\n",
       "// Listen for the clearing of the current output cell\n",
       "var outputEl = gd.closest('.output');\n",
       "if (outputEl) {{\n",
       "    x.observe(outputEl, {childList: true});\n",
       "}}\n",
       "\n",
       "                        })\n",
       "                };\n",
       "                });\n",
       "            </script>\n",
       "        </div>"
      ]
     },
     "metadata": {},
     "output_type": "display_data"
    }
   ],
   "source": [
    "import plotly.graph_objects as go\n",
    "\n",
    "headerColor = 'grey'\n",
    "rowEvenColor = 'lightgrey'\n",
    "rowOddColor = 'white'\n",
    "\n",
    "fig = go.Figure(data=[go.Table(\n",
    "  header=dict(\n",
    "    values=['<b>Classifiers</b>','<b>Fbeta score (training, th.=0.5)</b>','<b>Fbeta score (training, th.=0.2)</b>','<b>Fbeta score (test, th.=0.5)</b>','<b>Fbeta score (test, th.=0.2)</b>','<b>Accuracy (training)</b>','<b>Accuracy (test)</b>'],\n",
    "    #line_color='lightgrey',\n",
    "    fill_color=headerColor,\n",
    "    align=['left','center'],\n",
    "    font=dict(color='white', size=12)\n",
    "  ),\n",
    "  cells=dict(\n",
    "    values=[\n",
    "      ['Dummy','Random Forest', 'Gradient Boosting', 'Logistic', 'Ridge','KNN(N=3)'],\n",
    "      np.round(f1_train,3),\n",
    "      np.round(f1_train_adjust,3),\n",
    "      np.round(f1_test,3),\n",
    "      np.round(f1_test_adjust,3),\n",
    "      np.round(acc_train,3),\n",
    "      np.round(acc_test,3)],\n",
    "    #line_color='lightgrey',\n",
    "    # 2-D list of colors for alternating rows\n",
    "    fill_color = [[rowOddColor,rowEvenColor,rowOddColor, rowEvenColor,rowOddColor,rowEvenColor]*5],\n",
    "    align = ['left', 'center'],\n",
    "    font = dict(color = 'darkslategray', size = 11)\n",
    "    ))\n",
    "])\n",
    "\n",
    "fig.show()"
   ]
  },
  {
   "cell_type": "code",
   "execution_count": 246,
   "metadata": {},
   "outputs": [
    {
     "data": {
      "application/vnd.plotly.v1+json": {
       "config": {
        "plotlyServerURL": "https://plot.ly"
       },
       "data": [
        {
         "cells": {
          "align": [
           "left",
           "center"
          ],
          "fill": {
           "color": [
            [
             "white",
             "lightgrey",
             "white",
             "lightgrey",
             "white",
             "lightgrey",
             "white",
             "lightgrey",
             "white",
             "lightgrey",
             "white",
             "lightgrey",
             "white",
             "lightgrey",
             "white",
             "lightgrey",
             "white",
             "lightgrey",
             "white",
             "lightgrey",
             "white",
             "lightgrey",
             "white",
             "lightgrey",
             "white",
             "lightgrey",
             "white",
             "lightgrey",
             "white",
             "lightgrey"
            ]
           ]
          },
          "font": {
           "color": "darkslategray",
           "size": 11
          },
          "values": [
           [
            "NORMAL",
            "ELEVATED",
            "STAGE 1 HYPERTENSION",
            "STAGE 2 HYPERTENSION",
            "HYPERTENSIVE CRISIS"
           ],
           [
            "LESS THAN 120",
            "120-129",
            "130-139",
            "140 OR HIGHER",
            "HIGHER THAN 180"
           ],
           [
            "and",
            "and",
            "or",
            "or",
            "and/or"
           ],
           [
            "LESS THAN 80",
            "LESS THAN 80",
            "80-89",
            "90 OR HIGHER",
            "HIGHER THAN 120"
           ]
          ]
         },
         "header": {
          "align": [
           "left",
           "center"
          ],
          "fill": {
           "color": "grey"
          },
          "font": {
           "color": "white",
           "size": 12
          },
          "values": [
           "<b>BLOOD PRESSURE CATEGORY</b>",
           "<b>SYSTOLIC/mm Hg</b>",
           "<b></b>",
           "<b>DIASTOLIC/mm Hg</b>"
          ]
         },
         "type": "table"
        }
       ],
       "layout": {
        "template": {
         "data": {
          "bar": [
           {
            "error_x": {
             "color": "#2a3f5f"
            },
            "error_y": {
             "color": "#2a3f5f"
            },
            "marker": {
             "line": {
              "color": "#E5ECF6",
              "width": 0.5
             }
            },
            "type": "bar"
           }
          ],
          "barpolar": [
           {
            "marker": {
             "line": {
              "color": "#E5ECF6",
              "width": 0.5
             }
            },
            "type": "barpolar"
           }
          ],
          "carpet": [
           {
            "aaxis": {
             "endlinecolor": "#2a3f5f",
             "gridcolor": "white",
             "linecolor": "white",
             "minorgridcolor": "white",
             "startlinecolor": "#2a3f5f"
            },
            "baxis": {
             "endlinecolor": "#2a3f5f",
             "gridcolor": "white",
             "linecolor": "white",
             "minorgridcolor": "white",
             "startlinecolor": "#2a3f5f"
            },
            "type": "carpet"
           }
          ],
          "choropleth": [
           {
            "colorbar": {
             "outlinewidth": 0,
             "ticks": ""
            },
            "type": "choropleth"
           }
          ],
          "contour": [
           {
            "colorbar": {
             "outlinewidth": 0,
             "ticks": ""
            },
            "colorscale": [
             [
              0,
              "#0d0887"
             ],
             [
              0.1111111111111111,
              "#46039f"
             ],
             [
              0.2222222222222222,
              "#7201a8"
             ],
             [
              0.3333333333333333,
              "#9c179e"
             ],
             [
              0.4444444444444444,
              "#bd3786"
             ],
             [
              0.5555555555555556,
              "#d8576b"
             ],
             [
              0.6666666666666666,
              "#ed7953"
             ],
             [
              0.7777777777777778,
              "#fb9f3a"
             ],
             [
              0.8888888888888888,
              "#fdca26"
             ],
             [
              1,
              "#f0f921"
             ]
            ],
            "type": "contour"
           }
          ],
          "contourcarpet": [
           {
            "colorbar": {
             "outlinewidth": 0,
             "ticks": ""
            },
            "type": "contourcarpet"
           }
          ],
          "heatmap": [
           {
            "colorbar": {
             "outlinewidth": 0,
             "ticks": ""
            },
            "colorscale": [
             [
              0,
              "#0d0887"
             ],
             [
              0.1111111111111111,
              "#46039f"
             ],
             [
              0.2222222222222222,
              "#7201a8"
             ],
             [
              0.3333333333333333,
              "#9c179e"
             ],
             [
              0.4444444444444444,
              "#bd3786"
             ],
             [
              0.5555555555555556,
              "#d8576b"
             ],
             [
              0.6666666666666666,
              "#ed7953"
             ],
             [
              0.7777777777777778,
              "#fb9f3a"
             ],
             [
              0.8888888888888888,
              "#fdca26"
             ],
             [
              1,
              "#f0f921"
             ]
            ],
            "type": "heatmap"
           }
          ],
          "heatmapgl": [
           {
            "colorbar": {
             "outlinewidth": 0,
             "ticks": ""
            },
            "colorscale": [
             [
              0,
              "#0d0887"
             ],
             [
              0.1111111111111111,
              "#46039f"
             ],
             [
              0.2222222222222222,
              "#7201a8"
             ],
             [
              0.3333333333333333,
              "#9c179e"
             ],
             [
              0.4444444444444444,
              "#bd3786"
             ],
             [
              0.5555555555555556,
              "#d8576b"
             ],
             [
              0.6666666666666666,
              "#ed7953"
             ],
             [
              0.7777777777777778,
              "#fb9f3a"
             ],
             [
              0.8888888888888888,
              "#fdca26"
             ],
             [
              1,
              "#f0f921"
             ]
            ],
            "type": "heatmapgl"
           }
          ],
          "histogram": [
           {
            "marker": {
             "colorbar": {
              "outlinewidth": 0,
              "ticks": ""
             }
            },
            "type": "histogram"
           }
          ],
          "histogram2d": [
           {
            "colorbar": {
             "outlinewidth": 0,
             "ticks": ""
            },
            "colorscale": [
             [
              0,
              "#0d0887"
             ],
             [
              0.1111111111111111,
              "#46039f"
             ],
             [
              0.2222222222222222,
              "#7201a8"
             ],
             [
              0.3333333333333333,
              "#9c179e"
             ],
             [
              0.4444444444444444,
              "#bd3786"
             ],
             [
              0.5555555555555556,
              "#d8576b"
             ],
             [
              0.6666666666666666,
              "#ed7953"
             ],
             [
              0.7777777777777778,
              "#fb9f3a"
             ],
             [
              0.8888888888888888,
              "#fdca26"
             ],
             [
              1,
              "#f0f921"
             ]
            ],
            "type": "histogram2d"
           }
          ],
          "histogram2dcontour": [
           {
            "colorbar": {
             "outlinewidth": 0,
             "ticks": ""
            },
            "colorscale": [
             [
              0,
              "#0d0887"
             ],
             [
              0.1111111111111111,
              "#46039f"
             ],
             [
              0.2222222222222222,
              "#7201a8"
             ],
             [
              0.3333333333333333,
              "#9c179e"
             ],
             [
              0.4444444444444444,
              "#bd3786"
             ],
             [
              0.5555555555555556,
              "#d8576b"
             ],
             [
              0.6666666666666666,
              "#ed7953"
             ],
             [
              0.7777777777777778,
              "#fb9f3a"
             ],
             [
              0.8888888888888888,
              "#fdca26"
             ],
             [
              1,
              "#f0f921"
             ]
            ],
            "type": "histogram2dcontour"
           }
          ],
          "mesh3d": [
           {
            "colorbar": {
             "outlinewidth": 0,
             "ticks": ""
            },
            "type": "mesh3d"
           }
          ],
          "parcoords": [
           {
            "line": {
             "colorbar": {
              "outlinewidth": 0,
              "ticks": ""
             }
            },
            "type": "parcoords"
           }
          ],
          "pie": [
           {
            "automargin": true,
            "type": "pie"
           }
          ],
          "scatter": [
           {
            "marker": {
             "colorbar": {
              "outlinewidth": 0,
              "ticks": ""
             }
            },
            "type": "scatter"
           }
          ],
          "scatter3d": [
           {
            "line": {
             "colorbar": {
              "outlinewidth": 0,
              "ticks": ""
             }
            },
            "marker": {
             "colorbar": {
              "outlinewidth": 0,
              "ticks": ""
             }
            },
            "type": "scatter3d"
           }
          ],
          "scattercarpet": [
           {
            "marker": {
             "colorbar": {
              "outlinewidth": 0,
              "ticks": ""
             }
            },
            "type": "scattercarpet"
           }
          ],
          "scattergeo": [
           {
            "marker": {
             "colorbar": {
              "outlinewidth": 0,
              "ticks": ""
             }
            },
            "type": "scattergeo"
           }
          ],
          "scattergl": [
           {
            "marker": {
             "colorbar": {
              "outlinewidth": 0,
              "ticks": ""
             }
            },
            "type": "scattergl"
           }
          ],
          "scattermapbox": [
           {
            "marker": {
             "colorbar": {
              "outlinewidth": 0,
              "ticks": ""
             }
            },
            "type": "scattermapbox"
           }
          ],
          "scatterpolar": [
           {
            "marker": {
             "colorbar": {
              "outlinewidth": 0,
              "ticks": ""
             }
            },
            "type": "scatterpolar"
           }
          ],
          "scatterpolargl": [
           {
            "marker": {
             "colorbar": {
              "outlinewidth": 0,
              "ticks": ""
             }
            },
            "type": "scatterpolargl"
           }
          ],
          "scatterternary": [
           {
            "marker": {
             "colorbar": {
              "outlinewidth": 0,
              "ticks": ""
             }
            },
            "type": "scatterternary"
           }
          ],
          "surface": [
           {
            "colorbar": {
             "outlinewidth": 0,
             "ticks": ""
            },
            "colorscale": [
             [
              0,
              "#0d0887"
             ],
             [
              0.1111111111111111,
              "#46039f"
             ],
             [
              0.2222222222222222,
              "#7201a8"
             ],
             [
              0.3333333333333333,
              "#9c179e"
             ],
             [
              0.4444444444444444,
              "#bd3786"
             ],
             [
              0.5555555555555556,
              "#d8576b"
             ],
             [
              0.6666666666666666,
              "#ed7953"
             ],
             [
              0.7777777777777778,
              "#fb9f3a"
             ],
             [
              0.8888888888888888,
              "#fdca26"
             ],
             [
              1,
              "#f0f921"
             ]
            ],
            "type": "surface"
           }
          ],
          "table": [
           {
            "cells": {
             "fill": {
              "color": "#EBF0F8"
             },
             "line": {
              "color": "white"
             }
            },
            "header": {
             "fill": {
              "color": "#C8D4E3"
             },
             "line": {
              "color": "white"
             }
            },
            "type": "table"
           }
          ]
         },
         "layout": {
          "annotationdefaults": {
           "arrowcolor": "#2a3f5f",
           "arrowhead": 0,
           "arrowwidth": 1
          },
          "coloraxis": {
           "colorbar": {
            "outlinewidth": 0,
            "ticks": ""
           }
          },
          "colorscale": {
           "diverging": [
            [
             0,
             "#8e0152"
            ],
            [
             0.1,
             "#c51b7d"
            ],
            [
             0.2,
             "#de77ae"
            ],
            [
             0.3,
             "#f1b6da"
            ],
            [
             0.4,
             "#fde0ef"
            ],
            [
             0.5,
             "#f7f7f7"
            ],
            [
             0.6,
             "#e6f5d0"
            ],
            [
             0.7,
             "#b8e186"
            ],
            [
             0.8,
             "#7fbc41"
            ],
            [
             0.9,
             "#4d9221"
            ],
            [
             1,
             "#276419"
            ]
           ],
           "sequential": [
            [
             0,
             "#0d0887"
            ],
            [
             0.1111111111111111,
             "#46039f"
            ],
            [
             0.2222222222222222,
             "#7201a8"
            ],
            [
             0.3333333333333333,
             "#9c179e"
            ],
            [
             0.4444444444444444,
             "#bd3786"
            ],
            [
             0.5555555555555556,
             "#d8576b"
            ],
            [
             0.6666666666666666,
             "#ed7953"
            ],
            [
             0.7777777777777778,
             "#fb9f3a"
            ],
            [
             0.8888888888888888,
             "#fdca26"
            ],
            [
             1,
             "#f0f921"
            ]
           ],
           "sequentialminus": [
            [
             0,
             "#0d0887"
            ],
            [
             0.1111111111111111,
             "#46039f"
            ],
            [
             0.2222222222222222,
             "#7201a8"
            ],
            [
             0.3333333333333333,
             "#9c179e"
            ],
            [
             0.4444444444444444,
             "#bd3786"
            ],
            [
             0.5555555555555556,
             "#d8576b"
            ],
            [
             0.6666666666666666,
             "#ed7953"
            ],
            [
             0.7777777777777778,
             "#fb9f3a"
            ],
            [
             0.8888888888888888,
             "#fdca26"
            ],
            [
             1,
             "#f0f921"
            ]
           ]
          },
          "colorway": [
           "#636efa",
           "#EF553B",
           "#00cc96",
           "#ab63fa",
           "#FFA15A",
           "#19d3f3",
           "#FF6692",
           "#B6E880",
           "#FF97FF",
           "#FECB52"
          ],
          "font": {
           "color": "#2a3f5f"
          },
          "geo": {
           "bgcolor": "white",
           "lakecolor": "white",
           "landcolor": "#E5ECF6",
           "showlakes": true,
           "showland": true,
           "subunitcolor": "white"
          },
          "hoverlabel": {
           "align": "left"
          },
          "hovermode": "closest",
          "mapbox": {
           "style": "light"
          },
          "paper_bgcolor": "white",
          "plot_bgcolor": "#E5ECF6",
          "polar": {
           "angularaxis": {
            "gridcolor": "white",
            "linecolor": "white",
            "ticks": ""
           },
           "bgcolor": "#E5ECF6",
           "radialaxis": {
            "gridcolor": "white",
            "linecolor": "white",
            "ticks": ""
           }
          },
          "scene": {
           "xaxis": {
            "backgroundcolor": "#E5ECF6",
            "gridcolor": "white",
            "gridwidth": 2,
            "linecolor": "white",
            "showbackground": true,
            "ticks": "",
            "zerolinecolor": "white"
           },
           "yaxis": {
            "backgroundcolor": "#E5ECF6",
            "gridcolor": "white",
            "gridwidth": 2,
            "linecolor": "white",
            "showbackground": true,
            "ticks": "",
            "zerolinecolor": "white"
           },
           "zaxis": {
            "backgroundcolor": "#E5ECF6",
            "gridcolor": "white",
            "gridwidth": 2,
            "linecolor": "white",
            "showbackground": true,
            "ticks": "",
            "zerolinecolor": "white"
           }
          },
          "shapedefaults": {
           "line": {
            "color": "#2a3f5f"
           }
          },
          "ternary": {
           "aaxis": {
            "gridcolor": "white",
            "linecolor": "white",
            "ticks": ""
           },
           "baxis": {
            "gridcolor": "white",
            "linecolor": "white",
            "ticks": ""
           },
           "bgcolor": "#E5ECF6",
           "caxis": {
            "gridcolor": "white",
            "linecolor": "white",
            "ticks": ""
           }
          },
          "title": {
           "x": 0.05
          },
          "xaxis": {
           "automargin": true,
           "gridcolor": "white",
           "linecolor": "white",
           "ticks": "",
           "title": {
            "standoff": 15
           },
           "zerolinecolor": "white",
           "zerolinewidth": 2
          },
          "yaxis": {
           "automargin": true,
           "gridcolor": "white",
           "linecolor": "white",
           "ticks": "",
           "title": {
            "standoff": 15
           },
           "zerolinecolor": "white",
           "zerolinewidth": 2
          }
         }
        }
       }
      },
      "text/html": [
       "<div>\n",
       "        \n",
       "        \n",
       "            <div id=\"c9d49113-ab98-49e9-bd5e-027df67ad536\" class=\"plotly-graph-div\" style=\"height:525px; width:100%;\"></div>\n",
       "            <script type=\"text/javascript\">\n",
       "                require([\"plotly\"], function(Plotly) {\n",
       "                    window.PLOTLYENV=window.PLOTLYENV || {};\n",
       "                    \n",
       "                if (document.getElementById(\"c9d49113-ab98-49e9-bd5e-027df67ad536\")) {\n",
       "                    Plotly.newPlot(\n",
       "                        'c9d49113-ab98-49e9-bd5e-027df67ad536',\n",
       "                        [{\"cells\": {\"align\": [\"left\", \"center\"], \"fill\": {\"color\": [[\"white\", \"lightgrey\", \"white\", \"lightgrey\", \"white\", \"lightgrey\", \"white\", \"lightgrey\", \"white\", \"lightgrey\", \"white\", \"lightgrey\", \"white\", \"lightgrey\", \"white\", \"lightgrey\", \"white\", \"lightgrey\", \"white\", \"lightgrey\", \"white\", \"lightgrey\", \"white\", \"lightgrey\", \"white\", \"lightgrey\", \"white\", \"lightgrey\", \"white\", \"lightgrey\"]]}, \"font\": {\"color\": \"darkslategray\", \"size\": 11}, \"values\": [[\"NORMAL\", \"ELEVATED\", \"STAGE 1 HYPERTENSION\", \"STAGE 2 HYPERTENSION\", \"HYPERTENSIVE CRISIS\"], [\"LESS THAN 120\", \"120-129\", \"130-139\", \"140 OR HIGHER\", \"HIGHER THAN 180\"], [\"and\", \"and\", \"or\", \"or\", \"and/or\"], [\"LESS THAN 80\", \"LESS THAN 80\", \"80-89\", \"90 OR HIGHER\", \"HIGHER THAN 120\"]]}, \"header\": {\"align\": [\"left\", \"center\"], \"fill\": {\"color\": \"grey\"}, \"font\": {\"color\": \"white\", \"size\": 12}, \"values\": [\"<b>BLOOD PRESSURE CATEGORY</b>\", \"<b>SYSTOLIC/mm Hg</b>\", \"<b></b>\", \"<b>DIASTOLIC/mm Hg</b>\"]}, \"type\": \"table\"}],\n",
       "                        {\"template\": {\"data\": {\"bar\": [{\"error_x\": {\"color\": \"#2a3f5f\"}, \"error_y\": {\"color\": \"#2a3f5f\"}, \"marker\": {\"line\": {\"color\": \"#E5ECF6\", \"width\": 0.5}}, \"type\": \"bar\"}], \"barpolar\": [{\"marker\": {\"line\": {\"color\": \"#E5ECF6\", \"width\": 0.5}}, \"type\": \"barpolar\"}], \"carpet\": [{\"aaxis\": {\"endlinecolor\": \"#2a3f5f\", \"gridcolor\": \"white\", \"linecolor\": \"white\", \"minorgridcolor\": \"white\", \"startlinecolor\": \"#2a3f5f\"}, \"baxis\": {\"endlinecolor\": \"#2a3f5f\", \"gridcolor\": \"white\", \"linecolor\": \"white\", \"minorgridcolor\": \"white\", \"startlinecolor\": \"#2a3f5f\"}, \"type\": \"carpet\"}], \"choropleth\": [{\"colorbar\": {\"outlinewidth\": 0, \"ticks\": \"\"}, \"type\": \"choropleth\"}], \"contour\": [{\"colorbar\": {\"outlinewidth\": 0, \"ticks\": \"\"}, \"colorscale\": [[0.0, \"#0d0887\"], [0.1111111111111111, \"#46039f\"], [0.2222222222222222, \"#7201a8\"], [0.3333333333333333, \"#9c179e\"], [0.4444444444444444, \"#bd3786\"], [0.5555555555555556, \"#d8576b\"], [0.6666666666666666, \"#ed7953\"], [0.7777777777777778, \"#fb9f3a\"], [0.8888888888888888, \"#fdca26\"], [1.0, \"#f0f921\"]], \"type\": \"contour\"}], \"contourcarpet\": [{\"colorbar\": {\"outlinewidth\": 0, \"ticks\": \"\"}, \"type\": \"contourcarpet\"}], \"heatmap\": [{\"colorbar\": {\"outlinewidth\": 0, \"ticks\": \"\"}, \"colorscale\": [[0.0, \"#0d0887\"], [0.1111111111111111, \"#46039f\"], [0.2222222222222222, \"#7201a8\"], [0.3333333333333333, \"#9c179e\"], [0.4444444444444444, \"#bd3786\"], [0.5555555555555556, \"#d8576b\"], [0.6666666666666666, \"#ed7953\"], [0.7777777777777778, \"#fb9f3a\"], [0.8888888888888888, \"#fdca26\"], [1.0, \"#f0f921\"]], \"type\": \"heatmap\"}], \"heatmapgl\": [{\"colorbar\": {\"outlinewidth\": 0, \"ticks\": \"\"}, \"colorscale\": [[0.0, \"#0d0887\"], [0.1111111111111111, \"#46039f\"], [0.2222222222222222, \"#7201a8\"], [0.3333333333333333, \"#9c179e\"], [0.4444444444444444, \"#bd3786\"], [0.5555555555555556, \"#d8576b\"], [0.6666666666666666, \"#ed7953\"], [0.7777777777777778, \"#fb9f3a\"], [0.8888888888888888, \"#fdca26\"], [1.0, \"#f0f921\"]], \"type\": \"heatmapgl\"}], \"histogram\": [{\"marker\": {\"colorbar\": {\"outlinewidth\": 0, \"ticks\": \"\"}}, \"type\": \"histogram\"}], \"histogram2d\": [{\"colorbar\": {\"outlinewidth\": 0, \"ticks\": \"\"}, \"colorscale\": [[0.0, \"#0d0887\"], [0.1111111111111111, \"#46039f\"], [0.2222222222222222, \"#7201a8\"], [0.3333333333333333, \"#9c179e\"], [0.4444444444444444, \"#bd3786\"], [0.5555555555555556, \"#d8576b\"], [0.6666666666666666, \"#ed7953\"], [0.7777777777777778, \"#fb9f3a\"], [0.8888888888888888, \"#fdca26\"], [1.0, \"#f0f921\"]], \"type\": \"histogram2d\"}], \"histogram2dcontour\": [{\"colorbar\": {\"outlinewidth\": 0, \"ticks\": \"\"}, \"colorscale\": [[0.0, \"#0d0887\"], [0.1111111111111111, \"#46039f\"], [0.2222222222222222, \"#7201a8\"], [0.3333333333333333, \"#9c179e\"], [0.4444444444444444, \"#bd3786\"], [0.5555555555555556, \"#d8576b\"], [0.6666666666666666, \"#ed7953\"], [0.7777777777777778, \"#fb9f3a\"], [0.8888888888888888, \"#fdca26\"], [1.0, \"#f0f921\"]], \"type\": \"histogram2dcontour\"}], \"mesh3d\": [{\"colorbar\": {\"outlinewidth\": 0, \"ticks\": \"\"}, \"type\": \"mesh3d\"}], \"parcoords\": [{\"line\": {\"colorbar\": {\"outlinewidth\": 0, \"ticks\": \"\"}}, \"type\": \"parcoords\"}], \"pie\": [{\"automargin\": true, \"type\": \"pie\"}], \"scatter\": [{\"marker\": {\"colorbar\": {\"outlinewidth\": 0, \"ticks\": \"\"}}, \"type\": \"scatter\"}], \"scatter3d\": [{\"line\": {\"colorbar\": {\"outlinewidth\": 0, \"ticks\": \"\"}}, \"marker\": {\"colorbar\": {\"outlinewidth\": 0, \"ticks\": \"\"}}, \"type\": \"scatter3d\"}], \"scattercarpet\": [{\"marker\": {\"colorbar\": {\"outlinewidth\": 0, \"ticks\": \"\"}}, \"type\": \"scattercarpet\"}], \"scattergeo\": [{\"marker\": {\"colorbar\": {\"outlinewidth\": 0, \"ticks\": \"\"}}, \"type\": \"scattergeo\"}], \"scattergl\": [{\"marker\": {\"colorbar\": {\"outlinewidth\": 0, \"ticks\": \"\"}}, \"type\": \"scattergl\"}], \"scattermapbox\": [{\"marker\": {\"colorbar\": {\"outlinewidth\": 0, \"ticks\": \"\"}}, \"type\": \"scattermapbox\"}], \"scatterpolar\": [{\"marker\": {\"colorbar\": {\"outlinewidth\": 0, \"ticks\": \"\"}}, \"type\": \"scatterpolar\"}], \"scatterpolargl\": [{\"marker\": {\"colorbar\": {\"outlinewidth\": 0, \"ticks\": \"\"}}, \"type\": \"scatterpolargl\"}], \"scatterternary\": [{\"marker\": {\"colorbar\": {\"outlinewidth\": 0, \"ticks\": \"\"}}, \"type\": \"scatterternary\"}], \"surface\": [{\"colorbar\": {\"outlinewidth\": 0, \"ticks\": \"\"}, \"colorscale\": [[0.0, \"#0d0887\"], [0.1111111111111111, \"#46039f\"], [0.2222222222222222, \"#7201a8\"], [0.3333333333333333, \"#9c179e\"], [0.4444444444444444, \"#bd3786\"], [0.5555555555555556, \"#d8576b\"], [0.6666666666666666, \"#ed7953\"], [0.7777777777777778, \"#fb9f3a\"], [0.8888888888888888, \"#fdca26\"], [1.0, \"#f0f921\"]], \"type\": \"surface\"}], \"table\": [{\"cells\": {\"fill\": {\"color\": \"#EBF0F8\"}, \"line\": {\"color\": \"white\"}}, \"header\": {\"fill\": {\"color\": \"#C8D4E3\"}, \"line\": {\"color\": \"white\"}}, \"type\": \"table\"}]}, \"layout\": {\"annotationdefaults\": {\"arrowcolor\": \"#2a3f5f\", \"arrowhead\": 0, \"arrowwidth\": 1}, \"coloraxis\": {\"colorbar\": {\"outlinewidth\": 0, \"ticks\": \"\"}}, \"colorscale\": {\"diverging\": [[0, \"#8e0152\"], [0.1, \"#c51b7d\"], [0.2, \"#de77ae\"], [0.3, \"#f1b6da\"], [0.4, \"#fde0ef\"], [0.5, \"#f7f7f7\"], [0.6, \"#e6f5d0\"], [0.7, \"#b8e186\"], [0.8, \"#7fbc41\"], [0.9, \"#4d9221\"], [1, \"#276419\"]], \"sequential\": [[0.0, \"#0d0887\"], [0.1111111111111111, \"#46039f\"], [0.2222222222222222, \"#7201a8\"], [0.3333333333333333, \"#9c179e\"], [0.4444444444444444, \"#bd3786\"], [0.5555555555555556, \"#d8576b\"], [0.6666666666666666, \"#ed7953\"], [0.7777777777777778, \"#fb9f3a\"], [0.8888888888888888, \"#fdca26\"], [1.0, \"#f0f921\"]], \"sequentialminus\": [[0.0, \"#0d0887\"], [0.1111111111111111, \"#46039f\"], [0.2222222222222222, \"#7201a8\"], [0.3333333333333333, \"#9c179e\"], [0.4444444444444444, \"#bd3786\"], [0.5555555555555556, \"#d8576b\"], [0.6666666666666666, \"#ed7953\"], [0.7777777777777778, \"#fb9f3a\"], [0.8888888888888888, \"#fdca26\"], [1.0, \"#f0f921\"]]}, \"colorway\": [\"#636efa\", \"#EF553B\", \"#00cc96\", \"#ab63fa\", \"#FFA15A\", \"#19d3f3\", \"#FF6692\", \"#B6E880\", \"#FF97FF\", \"#FECB52\"], \"font\": {\"color\": \"#2a3f5f\"}, \"geo\": {\"bgcolor\": \"white\", \"lakecolor\": \"white\", \"landcolor\": \"#E5ECF6\", \"showlakes\": true, \"showland\": true, \"subunitcolor\": \"white\"}, \"hoverlabel\": {\"align\": \"left\"}, \"hovermode\": \"closest\", \"mapbox\": {\"style\": \"light\"}, \"paper_bgcolor\": \"white\", \"plot_bgcolor\": \"#E5ECF6\", \"polar\": {\"angularaxis\": {\"gridcolor\": \"white\", \"linecolor\": \"white\", \"ticks\": \"\"}, \"bgcolor\": \"#E5ECF6\", \"radialaxis\": {\"gridcolor\": \"white\", \"linecolor\": \"white\", \"ticks\": \"\"}}, \"scene\": {\"xaxis\": {\"backgroundcolor\": \"#E5ECF6\", \"gridcolor\": \"white\", \"gridwidth\": 2, \"linecolor\": \"white\", \"showbackground\": true, \"ticks\": \"\", \"zerolinecolor\": \"white\"}, \"yaxis\": {\"backgroundcolor\": \"#E5ECF6\", \"gridcolor\": \"white\", \"gridwidth\": 2, \"linecolor\": \"white\", \"showbackground\": true, \"ticks\": \"\", \"zerolinecolor\": \"white\"}, \"zaxis\": {\"backgroundcolor\": \"#E5ECF6\", \"gridcolor\": \"white\", \"gridwidth\": 2, \"linecolor\": \"white\", \"showbackground\": true, \"ticks\": \"\", \"zerolinecolor\": \"white\"}}, \"shapedefaults\": {\"line\": {\"color\": \"#2a3f5f\"}}, \"ternary\": {\"aaxis\": {\"gridcolor\": \"white\", \"linecolor\": \"white\", \"ticks\": \"\"}, \"baxis\": {\"gridcolor\": \"white\", \"linecolor\": \"white\", \"ticks\": \"\"}, \"bgcolor\": \"#E5ECF6\", \"caxis\": {\"gridcolor\": \"white\", \"linecolor\": \"white\", \"ticks\": \"\"}}, \"title\": {\"x\": 0.05}, \"xaxis\": {\"automargin\": true, \"gridcolor\": \"white\", \"linecolor\": \"white\", \"ticks\": \"\", \"title\": {\"standoff\": 15}, \"zerolinecolor\": \"white\", \"zerolinewidth\": 2}, \"yaxis\": {\"automargin\": true, \"gridcolor\": \"white\", \"linecolor\": \"white\", \"ticks\": \"\", \"title\": {\"standoff\": 15}, \"zerolinecolor\": \"white\", \"zerolinewidth\": 2}}}},\n",
       "                        {\"responsive\": true}\n",
       "                    ).then(function(){\n",
       "                            \n",
       "var gd = document.getElementById('c9d49113-ab98-49e9-bd5e-027df67ad536');\n",
       "var x = new MutationObserver(function (mutations, observer) {{\n",
       "        var display = window.getComputedStyle(gd).display;\n",
       "        if (!display || display === 'none') {{\n",
       "            console.log([gd, 'removed!']);\n",
       "            Plotly.purge(gd);\n",
       "            observer.disconnect();\n",
       "        }}\n",
       "}});\n",
       "\n",
       "// Listen for the removal of the full notebook cells\n",
       "var notebookContainer = gd.closest('#notebook-container');\n",
       "if (notebookContainer) {{\n",
       "    x.observe(notebookContainer, {childList: true});\n",
       "}}\n",
       "\n",
       "// Listen for the clearing of the current output cell\n",
       "var outputEl = gd.closest('.output');\n",
       "if (outputEl) {{\n",
       "    x.observe(outputEl, {childList: true});\n",
       "}}\n",
       "\n",
       "                        })\n",
       "                };\n",
       "                });\n",
       "            </script>\n",
       "        </div>"
      ]
     },
     "metadata": {},
     "output_type": "display_data"
    }
   ],
   "source": [
    "import plotly.graph_objects as go\n",
    "\n",
    "headerColor = 'grey'\n",
    "rowEvenColor = 'lightgrey'\n",
    "rowOddColor = 'white'\n",
    "\n",
    "fig = go.Figure(data=[go.Table(\n",
    "  header=dict(\n",
    "    values=['<b>BLOOD PRESSURE CATEGORY</b>','<b>SYSTOLIC/mm Hg</b>','<b></b>','<b>DIASTOLIC/mm Hg</b>'],\n",
    "    #line_color='lightgrey',\n",
    "    fill_color=headerColor,\n",
    "    align=['left','center'],\n",
    "    font=dict(color='white', size=12)\n",
    "  ),\n",
    "  cells=dict(\n",
    "    values=[\n",
    "      ['NORMAL','ELEVATED', 'STAGE 1 HYPERTENSION', 'STAGE 2 HYPERTENSION', 'HYPERTENSIVE CRISIS'],\n",
    "      ['LESS THAN 120','120-129','130-139','140 OR HIGHER','HIGHER THAN 180'],\n",
    "        ['and','and','or','or','and/or'],\n",
    "        ['LESS THAN 80','LESS THAN 80','80-89','90 OR HIGHER','HIGHER THAN 120']\n",
    "    ],\n",
    "    #line_color='lightgrey',\n",
    "    # 2-D list of colors for alternating rows\n",
    "    fill_color = [[rowOddColor,rowEvenColor,rowOddColor, rowEvenColor,rowOddColor,rowEvenColor]*5],\n",
    "    align = ['left', 'center'],\n",
    "    font = dict(color = 'darkslategray', size = 11)\n",
    "    ))\n",
    "])\n",
    "\n",
    "fig.show()"
   ]
  },
  {
   "cell_type": "code",
   "execution_count": null,
   "metadata": {},
   "outputs": [],
   "source": []
  }
 ],
 "metadata": {
  "kernelspec": {
   "display_name": "Python 3",
   "language": "python",
   "name": "python3"
  },
  "language_info": {
   "codemirror_mode": {
    "name": "ipython",
    "version": 3
   },
   "file_extension": ".py",
   "mimetype": "text/x-python",
   "name": "python",
   "nbconvert_exporter": "python",
   "pygments_lexer": "ipython3",
   "version": "3.7.2"
  }
 },
 "nbformat": 4,
 "nbformat_minor": 2
}
