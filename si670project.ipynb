{
 "cells": [
  {
   "cell_type": "markdown",
   "metadata": {},
   "source": [
    "### Data Preprocessing"
   ]
  },
  {
   "cell_type": "code",
   "execution_count": 2,
   "metadata": {},
   "outputs": [],
   "source": [
    "import pandas as pd\n",
    "import numpy as np\n",
    "import os"
   ]
  },
  {
   "cell_type": "code",
   "execution_count": 24,
   "metadata": {},
   "outputs": [],
   "source": [
    "demo = pd.read_sas(\"DEMO_I.XPT\")\n",
    "demo = demo.drop(columns=[\"SDDSRVYR\",\"RIDSTATR\",\"RIDAGEMN\",\"RIDRETH1\",\"RIDEXAGM\",\"DMQADFC\",\"DMDYRSUS\",\n",
    "                          \"DMDEDUC3\",\"RIDEXPRG\",\"SDMVPSU\",\"SDMVSTRA\",\"DMDHSEDU\",\"SIALANG\",\"SIAPROXY\",\n",
    "                          \"SIAINTRP\",\"FIALANG\",\"FIAPROXY\",\"FIAINTRP\",\"MIALANG\",\"MIAPROXY\",\"MIAINTRP\",\n",
    "                          \"AIALANGA\",\"WTMEC2YR\"])\n",
    "bpx = pd.read_sas(\"BPX_I.XPT\")\n",
    "bpx = bpx.loc[:,[\"SEQN\",\"BPXPLS\",\"BPXSY2\",\"BPXDI2\"]]\n",
    "bmx = pd.read_sas(\"BMX_I.XPT\")\n",
    "bmx = bmx.loc[:,[\"SEQN\",\"BMXWT\",\"BMXHT\",\"BMXBMI\",\"BMXLEG\",\"BMXARML\",\"BMXARMC\",\"BMXWAIST\",\"BMDAVSAD\"]]\n",
    "hdl = pd.read_sas(\"HDL_I.XPT\")\n",
    "hdl = hdl.loc[:,[\"SEQN\",\"LBDHDD\"]]\n",
    "# tri = pd.read_sas(\"TRIGLY_I.XPT\")\n",
    "# tri = tri.loc[:,[\"SEQN\",\"LBDLDL\"]]\n",
    "ghb = pd.read_sas(\"GHB_I.XPT\")\n",
    "ghb = ghb.loc[:,[\"SEQN\",\"LBXGH\"]]\n",
    "pro = pd.read_sas(\"BIOPRO_I.XPT\")\n",
    "pro = pro.loc[:,[\"SEQN\",\"LBXSAL\",\"LBXSAPSI\",\"LBXSASSI\", \"LBXSATSI\", \"LBXSBU\", \"LBXSC3SI\", \"LBXSCA\",\n",
    "                 \"LBXSCH\",\"LBXSCK\",\"LBXSCLSI\",\"LBXSCR\",\"LBXSGB\", \"LBXSGL\", \"LBXSGTSI\", \"LBXSIR\", \n",
    "                 \"LBXSKSI\",\"LBXSLDSI\", \"LBXSNASI\", \"LBXSOSSI\", \"LBXSPH\", \"LBXSTB\", \"LBXSTP\",\"LBXSTR\",\"LBXSUA\"]]\n",
    "cbi = pd.read_sas(\"CBC_I.XPT\")\n",
    "cbi = cbi.loc[:,[\"SEQN\",\"LBXWBCSI\", \"LBXLYPCT\", \"LBXMOPCT\", \"LBXNEPCT\",\"LBXEOPCT\", \"LBXBAPCT\", \"LBXRBCSI\", \"LBXHGB\",\n",
    "                \"LBXHCT\", \"LBXMCVSI\", \"LBXMCHSI\", \"LBXRDW\", \"LBXPLTSI\", \"LBXMPSI\"]]\n",
    "hsq = pd.read_sas(\"HSQ_I.XPT\")\n",
    "hsq = hsq.loc[:,[\"SEQN\",\"HSD010\",\"HSQ500\",\"HSQ510\",\"HSQ520\",\"HSQ590\"]]"
   ]
  },
  {
   "cell_type": "code",
   "execution_count": 25,
   "metadata": {},
   "outputs": [
    {
     "data": {
      "text/plain": [
       "(4966, 80)"
      ]
     },
     "execution_count": 25,
     "metadata": {},
     "output_type": "execute_result"
    }
   ],
   "source": [
    "df_cluster=pd.merge(pro,cbi)\n",
    "df_cluster=pd.merge(df_cluster,hdl)\n",
    "df_cluster=pd.merge(df_cluster,ghb)\n",
    "df_cluster=pd.merge(df_cluster,bpx)\n",
    "df_cluster=pd.merge(df_cluster,bmx)\n",
    "# df_cluster=pd.merge(df_cluster,tri)\n",
    "df = pd.merge(demo, hsq, left_on=\"SEQN\",right_on=\"SEQN\",how='inner')\n",
    "df = pd.merge(df_cluster,df)\n",
    "df = df.loc[df.RIDAGEYR>=20,]\n",
    "df = df[np.isfinite(df[\"HSD010\"])]\n",
    "df.reset_index(drop=True, inplace=True)\n",
    "df.shape"
   ]
  },
  {
   "cell_type": "markdown",
   "metadata": {},
   "source": [
    "### Resampling"
   ]
  },
  {
   "cell_type": "code",
   "execution_count": 27,
   "metadata": {},
   "outputs": [
    {
     "data": {
      "text/plain": [
       "4953"
      ]
     },
     "execution_count": 27,
     "metadata": {},
     "output_type": "execute_result"
    }
   ],
   "source": [
    "## resampling\n",
    "# import random\n",
    "# ind=random.choices(range(df.shape[0]),weights=df[\"WTINT2YR\"],k=df.shape[0])\n",
    "# len(set(ind))\n",
    "\n",
    "#df.loc[df.HSQ590.isin([7,9]),:]"
   ]
  },
  {
   "cell_type": "code",
   "execution_count": 26,
   "metadata": {},
   "outputs": [],
   "source": [
    "## replicate\n",
    "ind=np.repeat(df.index,round(df[\"WTINT2YR\"]/min(df[\"WTINT2YR\"])))\n",
    "df=df.iloc[ind,:]"
   ]
  },
  {
   "cell_type": "code",
   "execution_count": 27,
   "metadata": {
    "scrolled": false
   },
   "outputs": [
    {
     "name": "stdout",
     "output_type": "stream",
     "text": [
      "<class 'pandas.core.frame.DataFrame'>\n",
      "Int64Index: 38952 entries, 0 to 4965\n",
      "Data columns (total 80 columns):\n",
      "SEQN        38952 non-null float64\n",
      "LBXSAL      37173 non-null float64\n",
      "LBXSAPSI    37170 non-null float64\n",
      "LBXSASSI    37177 non-null float64\n",
      "LBXSATSI    37177 non-null float64\n",
      "LBXSBU      37173 non-null float64\n",
      "LBXSC3SI    37180 non-null float64\n",
      "LBXSCA      37180 non-null float64\n",
      "LBXSCH      37174 non-null float64\n",
      "LBXSCK      37158 non-null float64\n",
      "LBXSCLSI    37180 non-null float64\n",
      "LBXSCR      37173 non-null float64\n",
      "LBXSGB      37152 non-null float64\n",
      "LBXSGL      37180 non-null float64\n",
      "LBXSGTSI    37177 non-null float64\n",
      "LBXSIR      37141 non-null float64\n",
      "LBXSKSI     37180 non-null float64\n",
      "LBXSLDSI    37178 non-null float64\n",
      "LBXSNASI    37180 non-null float64\n",
      "LBXSOSSI    37168 non-null float64\n",
      "LBXSPH      37173 non-null float64\n",
      "LBXSTB      37163 non-null float64\n",
      "LBXSTP      37157 non-null float64\n",
      "LBXSTR      37175 non-null float64\n",
      "LBXSUA      37174 non-null float64\n",
      "LBXWBCSI    37200 non-null float64\n",
      "LBXLYPCT    37197 non-null float64\n",
      "LBXMOPCT    37197 non-null float64\n",
      "LBXNEPCT    37197 non-null float64\n",
      "LBXEOPCT    37197 non-null float64\n",
      "LBXBAPCT    37197 non-null float64\n",
      "LBXRBCSI    37200 non-null float64\n",
      "LBXHGB      37200 non-null float64\n",
      "LBXHCT      37200 non-null float64\n",
      "LBXMCVSI    37200 non-null float64\n",
      "LBXMCHSI    37200 non-null float64\n",
      "LBXRDW      37200 non-null float64\n",
      "LBXPLTSI    37200 non-null float64\n",
      "LBXMPSI     37200 non-null float64\n",
      "LBDHDD      37233 non-null float64\n",
      "LBXGH       37446 non-null float64\n",
      "BPXPLS      38539 non-null float64\n",
      "BPXSY2      38160 non-null float64\n",
      "BPXDI2      38160 non-null float64\n",
      "BMXWT       38645 non-null float64\n",
      "BMXHT       38727 non-null float64\n",
      "BMXBMI      38628 non-null float64\n",
      "BMXLEG      37488 non-null float64\n",
      "BMXARML     37953 non-null float64\n",
      "BMXARMC     37932 non-null float64\n",
      "BMXWAIST    37594 non-null float64\n",
      "BMDAVSAD    36686 non-null float64\n",
      "RIAGENDR    38952 non-null float64\n",
      "RIDAGEYR    38952 non-null float64\n",
      "RIDRETH3    38952 non-null float64\n",
      "RIDEXMON    38952 non-null float64\n",
      "DMQMILIZ    38952 non-null float64\n",
      "DMDBORN4    38952 non-null float64\n",
      "DMDCITZN    38950 non-null float64\n",
      "DMDEDUC2    38952 non-null float64\n",
      "DMDMARTL    38952 non-null float64\n",
      "DMDHHSIZ    38952 non-null float64\n",
      "DMDFMSIZ    38952 non-null float64\n",
      "DMDHHSZA    38952 non-null float64\n",
      "DMDHHSZB    38952 non-null float64\n",
      "DMDHHSZE    38952 non-null float64\n",
      "DMDHRGND    38952 non-null float64\n",
      "DMDHRAGE    38952 non-null float64\n",
      "DMDHRBR4    37648 non-null float64\n",
      "DMDHREDU    37648 non-null float64\n",
      "DMDHRMAR    38914 non-null float64\n",
      "WTINT2YR    38952 non-null float64\n",
      "INDHHIN2    38125 non-null float64\n",
      "INDFMIN2    38183 non-null float64\n",
      "INDFMPIR    36086 non-null float64\n",
      "HSD010      38952 non-null float64\n",
      "HSQ500      38952 non-null float64\n",
      "HSQ510      38952 non-null float64\n",
      "HSQ520      38952 non-null float64\n",
      "HSQ590      38952 non-null float64\n",
      "dtypes: float64(80)\n",
      "memory usage: 24.1 MB\n"
     ]
    }
   ],
   "source": [
    "df.info()"
   ]
  },
  {
   "cell_type": "code",
   "execution_count": 28,
   "metadata": {},
   "outputs": [],
   "source": [
    "## categorical: little NA-drop, many NA-add indicator\n",
    "df.RIAGENDR = df.RIAGENDR.replace({1:\"Male\", 2:\"Female\"})\n",
    "df.RIDRETH3 = df.RIDRETH3.replace({1:\"Mexican American\", 2:\"Other Hispanic\", 3:\"Non-Hispanic White\", 4:\"Non-Hispanic Black\", 6:\"Non-Hispanic Asian\", 7:\"Other Race\"})\n",
    "df.RIDEXMON = df.RIDEXMON.replace({1:\"November 1 through April 30\", 2:\"May 1 through October 31\"})\n",
    "df.DMQMILIZ = df.DMQMILIZ.replace({1:\"Yes\", 2:\"No\"})\n",
    "df = df.loc[df.DMDBORN4<7,]\n",
    "df.DMDBORN4 = df.DMDBORN4.replace({1:\"Born in 50 US states or Washington, DC\", 2:\"Others\"})\n",
    "df = df.loc[df.DMDCITZN<7,]\n",
    "df.DMDCITZN = df.DMDCITZN.replace({1:\"Citizen by birth or naturalization\", 2:\"Not a citizen of the US\"})\n",
    "df = df.loc[df.DMDEDUC2<7,]\n",
    "df.DMDEDUC2 = df.DMDEDUC2.replace({1:\"Less than 9th grade\", 2:\"9-11th grade (Includes 12th grade with no diploma)\", 3:\"High school graduate/GED or equivalent\", 4:\"Some college or AA degree\", 5:\"College graduate or above\"})\n",
    "df = df.loc[df.DMDMARTL<7,]\n",
    "df.DMDMARTL = df.DMDMARTL.replace({1:\"Married\", 2:\"Widowed\", 3:\"Divorced\", 4:\"Separated\", 5:\"Never married\", 6:\"Living with partner\"})\n",
    "df.DMDHRGND = df.DMDHRGND.replace({1:\"Male\", 2:\"Female\"})\n",
    "df.DMDHRBR4 = df.DMDHRBR4.astype(\"object\").replace([77,99], np.nan)\n",
    "df.DMDHRBR4 = df.DMDHRBR4.replace({1:\"Born in 50 US states or Washington, DC\", 2:\"Others\"})\n",
    "df.DMDHREDU=df.DMDHREDU.astype(\"object\").replace([7,9], np.nan)\n",
    "df.DMDHREDU = df.DMDHREDU.replace({1:\"Less than 9th grade\", 2:\"9-11th grade (Includes 12th grade with no diploma)\", 3:\"High school graduate/GED or equivalent\", 4:\"Some college or AA degree\", 5:\"College graduate or above\"})\n",
    "df.DMDHRMAR=df.DMDHRMAR.astype(\"object\").replace([77,99], np.nan)\n",
    "df.DMDHRMAR = df.DMDHRMAR.replace({1:\"Married\", 2:\"Widowed\", 3:\"Divorced\", 4:\"Separated\", 5:\"Never married\", 6:\"Living with partner\"})\n",
    "df.INDHHIN2 = df.INDHHIN2.astype(\"object\").replace([77,99], np.nan)\n",
    "df.INDFMIN2 = df.INDFMIN2.astype(\"object\").replace([77,99], np.nan)\n",
    "df.HSD010 = df.HSD010.replace({1:\"Excellent\", 2:\"Very good\", 3:\"Good\", 4:\"Fair\", 5:\"Poor\"})\n",
    "df = df.loc[df.HSQ500<7,]\n",
    "df.HSQ500 = df.HSQ500.replace({1:\"Yes\", 2:\"No\"})\n",
    "df = df.loc[df.HSQ510<7,]\n",
    "df.HSQ510 = df.HSQ510.replace({1:\"Yes\", 2:\"No\"})\n",
    "df = df.loc[df.HSQ520<7,]\n",
    "df.HSQ520 = df.HSQ520.replace({1:\"Yes\", 2:\"No\"})\n",
    "df.HSQ590 = df.HSQ590.replace({1:\"Yes\", 2:\"No\"}).replace([7,9], np.nan)"
   ]
  },
  {
   "cell_type": "code",
   "execution_count": 29,
   "metadata": {},
   "outputs": [
    {
     "data": {
      "text/plain": [
       "(38671, 80)"
      ]
     },
     "execution_count": 29,
     "metadata": {},
     "output_type": "execute_result"
    }
   ],
   "source": [
    "df.shape"
   ]
  },
  {
   "cell_type": "code",
   "execution_count": 41,
   "metadata": {},
   "outputs": [],
   "source": [
    "df1=df.iloc[:,range(52)]\n",
    "df2=pd.concat([df.iloc[:,0],df.iloc[:,52:]],axis=1)"
   ]
  },
  {
   "cell_type": "code",
   "execution_count": 42,
   "metadata": {},
   "outputs": [
    {
     "data": {
      "text/plain": [
       "((38671, 52), (38671, 29))"
      ]
     },
     "execution_count": 42,
     "metadata": {},
     "output_type": "execute_result"
    }
   ],
   "source": [
    "df1.shape,df2.shape"
   ]
  },
  {
   "cell_type": "markdown",
   "metadata": {},
   "source": [
    "### Clustering"
   ]
  },
  {
   "cell_type": "code",
   "execution_count": 43,
   "metadata": {},
   "outputs": [],
   "source": [
    "from sklearn.impute import SimpleImputer\n",
    "imp = SimpleImputer(missing_values=np.nan, strategy=\"mean\")\n",
    "df1= pd.DataFrame(imp.fit_transform(df1))"
   ]
  },
  {
   "cell_type": "code",
   "execution_count": 44,
   "metadata": {},
   "outputs": [],
   "source": [
    "from sklearn.cluster import KMeans\n",
    "from sklearn.metrics import silhouette_samples, silhouette_score\n",
    "from sklearn.preprocessing import MinMaxScaler\n",
    "df1_scaled = MinMaxScaler().fit_transform(df1.iloc[:,1:])\n",
    "avg = []\n",
    "scores = []\n",
    "for k in range(2,21):\n",
    "    clusterer = KMeans(n_clusters=k, random_state=0)\n",
    "    cluster_labels = clusterer.fit_predict(df1_scaled)\n",
    "    avg.append(silhouette_score(df1_scaled, cluster_labels))\n",
    "    scores.append(-clusterer.score(df1_scaled))"
   ]
  },
  {
   "cell_type": "code",
   "execution_count": 48,
   "metadata": {},
   "outputs": [
    {
     "data": {
      "text/plain": [
       "[0.13701094956753665,\n",
       " 0.10711008915495697,\n",
       " 0.09658940794815747,\n",
       " 0.07587976377769959,\n",
       " 0.07600524718750507,\n",
       " 0.06839092778938913,\n",
       " 0.05902754327549209,\n",
       " 0.06056479387700064,\n",
       " 0.06249732956061123,\n",
       " 0.05335907417453845,\n",
       " 0.04467725743964505,\n",
       " 0.04671381828630045,\n",
       " 0.04470475499861391,\n",
       " 0.04542350977438057,\n",
       " 0.045310875264646895,\n",
       " 0.04780810742027608,\n",
       " 0.049690254027885995,\n",
       " 0.045142563465301266,\n",
       " 0.04442008112989899]"
      ]
     },
     "execution_count": 48,
     "metadata": {},
     "output_type": "execute_result"
    }
   ],
   "source": [
    "avg"
   ]
  },
  {
   "cell_type": "code",
   "execution_count": 49,
   "metadata": {},
   "outputs": [
    {
     "data": {
      "image/png": "[encoded data removed]",
      "text/plain": [
       "<Figure size 432x288 with 1 Axes>"
      ]
     },
     "metadata": {
      "needs_background": "light"
     },
     "output_type": "display_data"
    }
   ],
   "source": [
    "plt.scatter(list(range(2,21)), avg)\n",
    "plt.xticks(range(2,21))\n",
    "plt.show()"
   ]
  },
  {
   "cell_type": "code",
   "execution_count": 46,
   "metadata": {},
   "outputs": [
    {
     "name": "stdout",
     "output_type": "stream",
     "text": [
      "Automatically created module for IPython interactive environment\n"
     ]
    },
    {
     "ename": "NameError",
     "evalue": "name 'X' is not defined",
     "output_type": "error",
     "traceback": [
      "\u001b[1;31m---------------------------------------------------------------------------\u001b[0m",
      "\u001b[1;31mNameError\u001b[0m                                 Traceback (most recent call last)",
      "\u001b[1;32m<ipython-input-46-969ca68ae9d7>\u001b[0m in \u001b[0;36m<module>\u001b[1;34m\u001b[0m\n\u001b[0;32m     21\u001b[0m     \u001b[1;31m# The (n_clusters+1)*10 is for inserting blank space between silhouette\u001b[0m\u001b[1;33m\u001b[0m\u001b[1;33m\u001b[0m\u001b[1;33m\u001b[0m\u001b[0m\n\u001b[0;32m     22\u001b[0m     \u001b[1;31m# plots of individual clusters, to demarcate them clearly.\u001b[0m\u001b[1;33m\u001b[0m\u001b[1;33m\u001b[0m\u001b[1;33m\u001b[0m\u001b[0m\n\u001b[1;32m---> 23\u001b[1;33m     \u001b[0max1\u001b[0m\u001b[1;33m.\u001b[0m\u001b[0mset_ylim\u001b[0m\u001b[1;33m(\u001b[0m\u001b[1;33m[\u001b[0m\u001b[1;36m0\u001b[0m\u001b[1;33m,\u001b[0m \u001b[0mlen\u001b[0m\u001b[1;33m(\u001b[0m\u001b[0mX\u001b[0m\u001b[1;33m)\u001b[0m \u001b[1;33m+\u001b[0m \u001b[1;33m(\u001b[0m\u001b[0mn_clusters\u001b[0m \u001b[1;33m+\u001b[0m \u001b[1;36m1\u001b[0m\u001b[1;33m)\u001b[0m \u001b[1;33m*\u001b[0m \u001b[1;36m10\u001b[0m\u001b[1;33m]\u001b[0m\u001b[1;33m)\u001b[0m\u001b[1;33m\u001b[0m\u001b[1;33m\u001b[0m\u001b[0m\n\u001b[0m\u001b[0;32m     24\u001b[0m \u001b[1;33m\u001b[0m\u001b[0m\n\u001b[0;32m     25\u001b[0m     \u001b[1;31m# Initialize the clusterer with n_clusters value and a random generator\u001b[0m\u001b[1;33m\u001b[0m\u001b[1;33m\u001b[0m\u001b[1;33m\u001b[0m\u001b[0m\n",
      "\u001b[1;31mNameError\u001b[0m: name 'X' is not defined"
     ]
    }
   ],
   "source": [
    "from sklearn.cluster import KMeans\n",
    "from sklearn.metrics import silhouette_samples, silhouette_score\n",
    "\n",
    "import matplotlib.pyplot as plt\n",
    "import matplotlib.cm as cm\n",
    "import numpy as np\n",
    "\n",
    "print(__doc__)\n",
    "\n",
    "range_n_clusters = list(range(2,11))\n",
    "\n",
    "for n_clusters in range_n_clusters:\n",
    "    # Create a subplot with 1 row and 2 columns\n",
    "    fig, ax1 = plt.subplots(1, 1)\n",
    "    fig.set_size_inches(18, 7)\n",
    "\n",
    "    # The 1st subplot is the silhouette plot\n",
    "    # The silhouette coefficient can range from -1, 1 but in this example all\n",
    "    # lie within [-0.1, 1]\n",
    "    ax1.set_xlim([-0.1, 1])\n",
    "    # The (n_clusters+1)*10 is for inserting blank space between silhouette\n",
    "    # plots of individual clusters, to demarcate them clearly.\n",
    "    ax1.set_ylim([0, len(X) + (n_clusters + 1) * 10])\n",
    "\n",
    "    # Initialize the clusterer with n_clusters value and a random generator\n",
    "    # seed of 10 for reproducibility.\n",
    "    clusterer = KMeans(n_clusters=n_clusters, random_state=10)\n",
    "    cluster_labels = clusterer.fit_predict(X)\n",
    "\n",
    "    # The silhouette_score gives the average value for all the samples.\n",
    "    # This gives a perspective into the density and separation of the formed\n",
    "    # clusters\n",
    "    silhouette_avg = silhouette_score(X, cluster_labels)\n",
    "    print(\"For n_clusters =\", n_clusters,\n",
    "          \"The average silhouette_score is :\", silhouette_avg)\n",
    "\n",
    "    # Compute the silhouette scores for each sample\n",
    "    sample_silhouette_values = silhouette_samples(X, cluster_labels)\n",
    "\n",
    "    y_lower = 10\n",
    "    for i in range(n_clusters):\n",
    "        # Aggregate the silhouette scores for samples belonging to\n",
    "        # cluster i, and sort them\n",
    "        ith_cluster_silhouette_values = \\\n",
    "            sample_silhouette_values[cluster_labels == i]\n",
    "\n",
    "        ith_cluster_silhouette_values.sort()\n",
    "\n",
    "        size_cluster_i = ith_cluster_silhouette_values.shape[0]\n",
    "        y_upper = y_lower + size_cluster_i\n",
    "\n",
    "        color = cm.nipy_spectral(float(i) / n_clusters)\n",
    "        ax1.fill_betweenx(np.arange(y_lower, y_upper),\n",
    "                          0, ith_cluster_silhouette_values,\n",
    "                          facecolor=color, edgecolor=color, alpha=0.7)\n",
    "\n",
    "        # Label the silhouette plots with their cluster numbers at the middle\n",
    "        ax1.text(-0.05, y_lower + 0.5 * size_cluster_i, str(i))\n",
    "\n",
    "        # Compute the new y_lower for next plot\n",
    "        y_lower = y_upper + 10  # 10 for the 0 samples\n",
    "\n",
    "    ax1.set_title(\"The silhouette plot for the various clusters.\")\n",
    "    ax1.set_xlabel(\"The silhouette coefficient values\")\n",
    "    ax1.set_ylabel(\"Cluster label\")\n",
    "\n",
    "    # The vertical line for average silhouette score of all the values\n",
    "    ax1.axvline(x=silhouette_avg, color=\"red\", linestyle=\"--\")\n",
    "\n",
    "    ax1.set_yticks([])  # Clear the yaxis labels / ticks\n",
    "    ax1.set_xticks([-0.1, 0, 0.2, 0.4, 0.6, 0.8, 1])\n",
    "\n",
    "    plt.suptitle((\"Silhouette analysis for KMeans clustering on sample data \"\n",
    "                  \"with n_clusters = %d\" % n_clusters),\n",
    "                 fontsize=14, fontweight='bold')\n",
    "\n",
    "plt.show()"
   ]
  },
  {
   "cell_type": "code",
   "execution_count": null,
   "metadata": {},
   "outputs": [],
   "source": []
  },
  {
   "cell_type": "code",
   "execution_count": null,
   "metadata": {},
   "outputs": [],
   "source": []
  },
  {
   "cell_type": "code",
   "execution_count": null,
   "metadata": {},
   "outputs": [],
   "source": []
  },
  {
   "cell_type": "markdown",
   "metadata": {},
   "source": [
    "### Classification"
   ]
  },
  {
   "cell_type": "code",
   "execution_count": 133,
   "metadata": {},
   "outputs": [],
   "source": [
    "from sklearn.model_selection import train_test_split\n",
    "X_train,X_test,y_train,y_test=train_test_split(df2.loc[:,df2.columns!=\"HSD010\"],df2[\"HSD010\"],random_state=0)\n",
    "imp_cat=SimpleImputer(missing_values=np.nan, strategy=\"most_frequent\",add_indicator=True)\n",
    "imp_num=SimpleImputer(missing_values=np.nan, strategy=\"mean\",add_indicator=True)\n",
    "X_train_num=X_train.loc[:,X_train.dtypes!=object]\n",
    "X_train_cat=X_train.loc[:,X_train.dtypes==object]\n",
    "X_test_num=X_test.loc[:,X_test.dtypes!=object]\n",
    "X_test_cat=X_test.loc[:,X_test.dtypes==object]\n",
    "num_colnames = list(X_train_num.columns)+[\"ind_INDHHIN2\", \"ind_INDFMIN2\", \"ind_INDFMPIR\"]\n",
    "cat_colnames = list(X_train_cat.columns)+[\"ind_DMDHRBR4\", \"ind_DMDHREDU\", \"ind_DMDHRMAR\", \"ind_HSQ590\"]\n",
    "X_train=pd.concat([pd.DataFrame(imp_num.fit_transform(X_train_num),columns=num_colnames),pd.DataFrame(imp_cat.fit_transform(X_train_cat),columns=cat_colnames)],axis=1)\n",
    "X_test=pd.concat([pd.DataFrame(imp_num.transform(X_test_num),columns=num_colnames),pd.DataFrame(imp_cat.transform(X_test_cat),columns=cat_colnames)],axis=1)\n",
    "from sklearn.preprocessing import OneHotEncoder\n",
    "enc = OneHotEncoder()\n",
    "X_train_cat = enc.fit_transform(X_train.select_dtypes(include='object'))\n",
    "X_test_cat = enc.transform(X_test.select_dtypes(include='object'))\n",
    "X_train=pd.concat([X_train.select_dtypes(exclude='object'),pd.DataFrame(X_train_cat.toarray(),columns=enc.get_feature_names(cat_colnames))], axis=1)\n",
    "X_test=pd.concat([X_test.select_dtypes(exclude='object'),pd.DataFrame(X_test_cat.toarray(),columns=enc.get_feature_names(cat_colnames))], axis=1)"
   ]
  },
  {
   "cell_type": "code",
   "execution_count": 135,
   "metadata": {},
   "outputs": [
    {
     "data": {
      "text/plain": [
       "((29003, 73), (9668, 73))"
      ]
     },
     "execution_count": 135,
     "metadata": {},
     "output_type": "execute_result"
    }
   ],
   "source": [
    "X_train.shape,X_test.shape"
   ]
  },
  {
   "cell_type": "code",
   "execution_count": null,
   "metadata": {},
   "outputs": [],
   "source": []
  },
  {
   "cell_type": "code",
   "execution_count": null,
   "metadata": {},
   "outputs": [],
   "source": []
  }
 ],
 "metadata": {
  "kernelspec": {
   "display_name": "Python 3",
   "language": "python",
   "name": "python3"
  },
  "language_info": {
   "codemirror_mode": {
    "name": "ipython",
    "version": 3
   },
   "file_extension": ".py",
   "mimetype": "text/x-python",
   "name": "python",
   "nbconvert_exporter": "python",
   "pygments_lexer": "ipython3",
   "version": "3.7.2"
  }
 },
 "nbformat": 4,
 "nbformat_minor": 2
}
